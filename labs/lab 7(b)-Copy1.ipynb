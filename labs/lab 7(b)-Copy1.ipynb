{
 "cells": [
  {
   "cell_type": "code",
   "execution_count": 1,
   "id": "aa3fd128",
   "metadata": {},
   "outputs": [],
   "source": [
    "import pandas as pd\n",
    "import matplotlib.pyplot as plt\n",
    "import seaborn as sns\n",
    "\n",
    "d = pd.read_csv('unclean cclass.csv')"
   ]
  },
  {
   "cell_type": "code",
   "execution_count": 2,
   "id": "10da5f0a",
   "metadata": {},
   "outputs": [],
   "source": [
    "d1 = d.copy()"
   ]
  },
  {
   "cell_type": "code",
   "execution_count": 3,
   "id": "aaf21e0c",
   "metadata": {},
   "outputs": [
    {
     "data": {
      "text/plain": [
       "(4006, 11)"
      ]
     },
     "execution_count": 3,
     "metadata": {},
     "output_type": "execute_result"
    }
   ],
   "source": [
    "d1.shape"
   ]
  },
  {
   "cell_type": "code",
   "execution_count": 4,
   "id": "453f9aad",
   "metadata": {},
   "outputs": [
    {
     "data": {
      "text/html": [
       "<div>\n",
       "<style scoped>\n",
       "    .dataframe tbody tr th:only-of-type {\n",
       "        vertical-align: middle;\n",
       "    }\n",
       "\n",
       "    .dataframe tbody tr th {\n",
       "        vertical-align: top;\n",
       "    }\n",
       "\n",
       "    .dataframe thead th {\n",
       "        text-align: right;\n",
       "    }\n",
       "</style>\n",
       "<table border=\"1\" class=\"dataframe\">\n",
       "  <thead>\n",
       "    <tr style=\"text-align: right;\">\n",
       "      <th></th>\n",
       "      <th>model</th>\n",
       "      <th>year</th>\n",
       "      <th>price</th>\n",
       "      <th>transmission</th>\n",
       "      <th>mileage</th>\n",
       "      <th>fuel type</th>\n",
       "      <th>engine size</th>\n",
       "      <th>mileage2</th>\n",
       "      <th>fuel type2</th>\n",
       "      <th>engine size2</th>\n",
       "      <th>reference</th>\n",
       "    </tr>\n",
       "  </thead>\n",
       "  <tbody>\n",
       "    <tr>\n",
       "      <th>4001</th>\n",
       "      <td>C Class</td>\n",
       "      <td>2017.0</td>\n",
       "      <td>£14,700</td>\n",
       "      <td>Manual</td>\n",
       "      <td>31,357</td>\n",
       "      <td>25</td>\n",
       "      <td>£150</td>\n",
       "      <td>70.6</td>\n",
       "      <td>Diesel</td>\n",
       "      <td>1.598</td>\n",
       "      <td>/ad/25451436</td>\n",
       "    </tr>\n",
       "    <tr>\n",
       "      <th>4002</th>\n",
       "      <td>C Class</td>\n",
       "      <td>2018.0</td>\n",
       "      <td>£18,500</td>\n",
       "      <td>Automatic</td>\n",
       "      <td>28,248</td>\n",
       "      <td>31</td>\n",
       "      <td>£150</td>\n",
       "      <td>64.2</td>\n",
       "      <td>Diesel</td>\n",
       "      <td>2.143</td>\n",
       "      <td>/ad/25451481</td>\n",
       "    </tr>\n",
       "    <tr>\n",
       "      <th>4003</th>\n",
       "      <td>C Class</td>\n",
       "      <td>2014.0</td>\n",
       "      <td>£11,900</td>\n",
       "      <td>Manual</td>\n",
       "      <td>48,055</td>\n",
       "      <td>31</td>\n",
       "      <td>£20</td>\n",
       "      <td>65.7</td>\n",
       "      <td>Diesel</td>\n",
       "      <td>2.143</td>\n",
       "      <td>/ad/25057204</td>\n",
       "    </tr>\n",
       "    <tr>\n",
       "      <th>4004</th>\n",
       "      <td>C Class</td>\n",
       "      <td>2014.0</td>\n",
       "      <td>£11,300</td>\n",
       "      <td>Automatic</td>\n",
       "      <td>49,865</td>\n",
       "      <td>46</td>\n",
       "      <td>£145</td>\n",
       "      <td>56.5</td>\n",
       "      <td>Diesel</td>\n",
       "      <td>2.143</td>\n",
       "      <td>/ad/25144481</td>\n",
       "    </tr>\n",
       "    <tr>\n",
       "      <th>4005</th>\n",
       "      <td>C Class</td>\n",
       "      <td>2014.0</td>\n",
       "      <td>£14,800</td>\n",
       "      <td>Automatic</td>\n",
       "      <td>55,445</td>\n",
       "      <td>37</td>\n",
       "      <td>£30</td>\n",
       "      <td>64.2</td>\n",
       "      <td>Diesel</td>\n",
       "      <td>2.143</td>\n",
       "      <td>/ad/25154247</td>\n",
       "    </tr>\n",
       "  </tbody>\n",
       "</table>\n",
       "</div>"
      ],
      "text/plain": [
       "         model    year     price transmission mileage fuel type engine size  \\\n",
       "4001   C Class  2017.0   £14,700       Manual  31,357        25        £150   \n",
       "4002   C Class  2018.0   £18,500    Automatic  28,248        31        £150   \n",
       "4003   C Class  2014.0   £11,900       Manual  48,055        31         £20   \n",
       "4004   C Class  2014.0   £11,300    Automatic  49,865        46        £145   \n",
       "4005   C Class  2014.0   £14,800    Automatic  55,445        37         £30   \n",
       "\n",
       "     mileage2 fuel type2 engine size2     reference  \n",
       "4001     70.6     Diesel        1.598  /ad/25451436  \n",
       "4002     64.2     Diesel        2.143  /ad/25451481  \n",
       "4003     65.7     Diesel        2.143  /ad/25057204  \n",
       "4004     56.5     Diesel        2.143  /ad/25144481  \n",
       "4005     64.2     Diesel        2.143  /ad/25154247  "
      ]
     },
     "execution_count": 4,
     "metadata": {},
     "output_type": "execute_result"
    }
   ],
   "source": [
    "d1.tail()"
   ]
  },
  {
   "cell_type": "code",
   "execution_count": 5,
   "id": "6ecc88a0",
   "metadata": {},
   "outputs": [
    {
     "data": {
      "text/plain": [
       "model             99\n",
       "year             102\n",
       "price             99\n",
       "transmission      99\n",
       "mileage          198\n",
       "fuel type       2677\n",
       "engine size      164\n",
       "mileage2         116\n",
       "fuel type2       198\n",
       "engine size2     198\n",
       "reference         99\n",
       "dtype: int64"
      ]
     },
     "execution_count": 5,
     "metadata": {},
     "output_type": "execute_result"
    }
   ],
   "source": [
    "d1.isna().sum()"
   ]
  },
  {
   "cell_type": "code",
   "execution_count": 6,
   "id": "1a11c49d",
   "metadata": {},
   "outputs": [],
   "source": [
    "d1 = d1[~d1['year'].isna()]"
   ]
  },
  {
   "cell_type": "code",
   "execution_count": 7,
   "id": "74dbbdb3",
   "metadata": {},
   "outputs": [],
   "source": [
    "d1['year'] = d1['year'].astype(int)"
   ]
  },
  {
   "cell_type": "code",
   "execution_count": 8,
   "id": "a5d7e148",
   "metadata": {},
   "outputs": [
    {
     "data": {
      "text/plain": [
       "model              0\n",
       "year               0\n",
       "price              0\n",
       "transmission       0\n",
       "mileage           97\n",
       "fuel type       2578\n",
       "engine size       65\n",
       "mileage2          17\n",
       "fuel type2        97\n",
       "engine size2      97\n",
       "reference          0\n",
       "dtype: int64"
      ]
     },
     "execution_count": 8,
     "metadata": {},
     "output_type": "execute_result"
    }
   ],
   "source": [
    "d1.isna().sum()"
   ]
  },
  {
   "cell_type": "code",
   "execution_count": 9,
   "id": "3d9e7a3b",
   "metadata": {},
   "outputs": [
    {
     "data": {
      "text/plain": [
       "model           object\n",
       "year             int32\n",
       "price           object\n",
       "transmission    object\n",
       "mileage         object\n",
       "fuel type       object\n",
       "engine size     object\n",
       "mileage2        object\n",
       "fuel type2      object\n",
       "engine size2    object\n",
       "reference       object\n",
       "dtype: object"
      ]
     },
     "execution_count": 9,
     "metadata": {},
     "output_type": "execute_result"
    }
   ],
   "source": [
    "d1.dtypes"
   ]
  },
  {
   "cell_type": "code",
   "execution_count": 10,
   "id": "06fc43c0",
   "metadata": {},
   "outputs": [
    {
     "data": {
      "text/plain": [
       "(3904, 11)"
      ]
     },
     "execution_count": 10,
     "metadata": {},
     "output_type": "execute_result"
    }
   ],
   "source": [
    "d1.shape"
   ]
  },
  {
   "cell_type": "code",
   "execution_count": 11,
   "id": "6866b2c7",
   "metadata": {},
   "outputs": [
    {
     "data": {
      "text/plain": [
       "array(['Diesel', 'Petrol', '29', '34', '37', '31', '32', '38', '33', nan,\n",
       "       '28', '25', '36', '26', '30', '44', '35', '43', '27', '39', '40',\n",
       "       '24', '46', '45', '48', 'Hybrid', '47'], dtype=object)"
      ]
     },
     "execution_count": 11,
     "metadata": {},
     "output_type": "execute_result"
    }
   ],
   "source": [
    "d1['fuel type'].unique()"
   ]
  },
  {
   "cell_type": "code",
   "execution_count": 12,
   "id": "1fd138fa",
   "metadata": {},
   "outputs": [
    {
     "data": {
      "text/plain": [
       "0"
      ]
     },
     "execution_count": 12,
     "metadata": {},
     "output_type": "execute_result"
    }
   ],
   "source": [
    "d1['price'].isna().sum()"
   ]
  },
  {
   "cell_type": "code",
   "execution_count": 13,
   "id": "afa9405b",
   "metadata": {},
   "outputs": [
    {
     "data": {
      "text/plain": [
       "0       30495\n",
       "1       29989\n",
       "2       37899\n",
       "3       30399\n",
       "4       29899\n",
       "        ...  \n",
       "4001    14700\n",
       "4002    18500\n",
       "4003    11900\n",
       "4004    11300\n",
       "4005    14800\n",
       "Name: price, Length: 3904, dtype: object"
      ]
     },
     "execution_count": 13,
     "metadata": {},
     "output_type": "execute_result"
    }
   ],
   "source": [
    "d1['price'] = d1['price'].str.slice(2,8).str.replace(',','')\n",
    "d1['price']"
   ]
  },
  {
   "cell_type": "code",
   "execution_count": 14,
   "id": "1fb7545f",
   "metadata": {},
   "outputs": [],
   "source": [
    "d1['price'] = d1['price'].astype(int)"
   ]
  },
  {
   "cell_type": "code",
   "execution_count": 15,
   "id": "6b79be43",
   "metadata": {},
   "outputs": [
    {
     "data": {
      "text/html": [
       "<div>\n",
       "<style scoped>\n",
       "    .dataframe tbody tr th:only-of-type {\n",
       "        vertical-align: middle;\n",
       "    }\n",
       "\n",
       "    .dataframe tbody tr th {\n",
       "        vertical-align: top;\n",
       "    }\n",
       "\n",
       "    .dataframe thead th {\n",
       "        text-align: right;\n",
       "    }\n",
       "</style>\n",
       "<table border=\"1\" class=\"dataframe\">\n",
       "  <thead>\n",
       "    <tr style=\"text-align: right;\">\n",
       "      <th></th>\n",
       "      <th>model</th>\n",
       "      <th>year</th>\n",
       "      <th>price</th>\n",
       "      <th>transmission</th>\n",
       "      <th>mileage</th>\n",
       "      <th>fuel type</th>\n",
       "      <th>engine size</th>\n",
       "      <th>mileage2</th>\n",
       "      <th>fuel type2</th>\n",
       "      <th>engine size2</th>\n",
       "      <th>reference</th>\n",
       "    </tr>\n",
       "  </thead>\n",
       "  <tbody>\n",
       "    <tr>\n",
       "      <th>0</th>\n",
       "      <td>C Class</td>\n",
       "      <td>2020</td>\n",
       "      <td>30495</td>\n",
       "      <td>Automatic</td>\n",
       "      <td>NaN</td>\n",
       "      <td>Diesel</td>\n",
       "      <td>2</td>\n",
       "      <td>1,200</td>\n",
       "      <td>NaN</td>\n",
       "      <td>NaN</td>\n",
       "      <td>/ad/25017331</td>\n",
       "    </tr>\n",
       "    <tr>\n",
       "      <th>1</th>\n",
       "      <td>C Class</td>\n",
       "      <td>2020</td>\n",
       "      <td>29989</td>\n",
       "      <td>Automatic</td>\n",
       "      <td>NaN</td>\n",
       "      <td>Petrol</td>\n",
       "      <td>1.5</td>\n",
       "      <td>1,000</td>\n",
       "      <td>NaN</td>\n",
       "      <td>NaN</td>\n",
       "      <td>/ad/25043746</td>\n",
       "    </tr>\n",
       "    <tr>\n",
       "      <th>2</th>\n",
       "      <td>C Class</td>\n",
       "      <td>2020</td>\n",
       "      <td>37899</td>\n",
       "      <td>Automatic</td>\n",
       "      <td>NaN</td>\n",
       "      <td>Diesel</td>\n",
       "      <td>2</td>\n",
       "      <td>500</td>\n",
       "      <td>NaN</td>\n",
       "      <td>NaN</td>\n",
       "      <td>/ad/25142894</td>\n",
       "    </tr>\n",
       "    <tr>\n",
       "      <th>3</th>\n",
       "      <td>C Class</td>\n",
       "      <td>2019</td>\n",
       "      <td>30399</td>\n",
       "      <td>Automatic</td>\n",
       "      <td>NaN</td>\n",
       "      <td>Diesel</td>\n",
       "      <td>2</td>\n",
       "      <td>5,000</td>\n",
       "      <td>NaN</td>\n",
       "      <td>NaN</td>\n",
       "      <td>/ad/24942816</td>\n",
       "    </tr>\n",
       "    <tr>\n",
       "      <th>4</th>\n",
       "      <td>C Class</td>\n",
       "      <td>2019</td>\n",
       "      <td>29899</td>\n",
       "      <td>Automatic</td>\n",
       "      <td>NaN</td>\n",
       "      <td>Diesel</td>\n",
       "      <td>2</td>\n",
       "      <td>4,500</td>\n",
       "      <td>NaN</td>\n",
       "      <td>NaN</td>\n",
       "      <td>/ad/24913660</td>\n",
       "    </tr>\n",
       "  </tbody>\n",
       "</table>\n",
       "</div>"
      ],
      "text/plain": [
       "      model  year  price transmission mileage fuel type engine size mileage2  \\\n",
       "0   C Class  2020  30495    Automatic     NaN    Diesel           2    1,200   \n",
       "1   C Class  2020  29989    Automatic     NaN    Petrol         1.5    1,000   \n",
       "2   C Class  2020  37899    Automatic     NaN    Diesel           2      500   \n",
       "3   C Class  2019  30399    Automatic     NaN    Diesel           2    5,000   \n",
       "4   C Class  2019  29899    Automatic     NaN    Diesel           2    4,500   \n",
       "\n",
       "  fuel type2 engine size2     reference  \n",
       "0        NaN          NaN  /ad/25017331  \n",
       "1        NaN          NaN  /ad/25043746  \n",
       "2        NaN          NaN  /ad/25142894  \n",
       "3        NaN          NaN  /ad/24942816  \n",
       "4        NaN          NaN  /ad/24913660  "
      ]
     },
     "execution_count": 15,
     "metadata": {},
     "output_type": "execute_result"
    }
   ],
   "source": [
    "d1.head()"
   ]
  },
  {
   "cell_type": "code",
   "execution_count": 16,
   "id": "7e49ad33",
   "metadata": {},
   "outputs": [],
   "source": [
    "d1['mileage2'] = d1['mileage2'].str.replace(',','')\n",
    "#d1['mileage2']"
   ]
  },
  {
   "cell_type": "code",
   "execution_count": 17,
   "id": "a90ede66",
   "metadata": {},
   "outputs": [
    {
     "data": {
      "text/plain": [
       "(3904, 11)"
      ]
     },
     "execution_count": 17,
     "metadata": {},
     "output_type": "execute_result"
    }
   ],
   "source": [
    "d1.shape"
   ]
  },
  {
   "cell_type": "code",
   "execution_count": 18,
   "id": "5ca85b8e",
   "metadata": {},
   "outputs": [
    {
     "data": {
      "text/plain": [
       "array([nan, 'Petrol', 'Diesel', 'Hybrid', 'Other'], dtype=object)"
      ]
     },
     "execution_count": 18,
     "metadata": {},
     "output_type": "execute_result"
    }
   ],
   "source": [
    "d1['fuel type2'].unique()"
   ]
  },
  {
   "cell_type": "code",
   "execution_count": 19,
   "id": "525fd023",
   "metadata": {
    "scrolled": true
   },
   "outputs": [
    {
     "data": {
      "text/plain": [
       "17"
      ]
     },
     "execution_count": 19,
     "metadata": {},
     "output_type": "execute_result"
    }
   ],
   "source": [
    "d1['mileage2'].isna().sum()"
   ]
  },
  {
   "cell_type": "code",
   "execution_count": 20,
   "id": "91c129b2",
   "metadata": {},
   "outputs": [
    {
     "data": {
      "text/plain": [
       "array(['1200', '1000', '500', '5000', '4500', '1412', '3569', '3635',\n",
       "       '46.3', '58.9', '54.3', '53.3', '62.8', '64.2', '60.1', '67.3',\n",
       "       '34.5', '49.6', '65.7', nan, '68.9', '51.4', '76.4', '134.5',\n",
       "       '45000', '36000', '67150', '44.8', '70.6', '52.3', '23.5', '47.1',\n",
       "       '61.4', '37000', '30676', '40005', '45.6', '56.5', '33.6', '21800',\n",
       "       '28.5', '48.7', '43.5', '55.4', '36.2', '57.7', '35.8', '72.4',\n",
       "       '74.3', '44.1', '42.2', '122.8', '50.4', '217.3', '29283', '78.5',\n",
       "       '47.9', '29.1', '40.4', '28', '29.7', '29.4', '34', '30.4', '35.3',\n",
       "       '40.9', '41.5', '31.7', '17222', '32.8', '7255', '15902', '13891',\n",
       "       '28.3', '23', '28.8', '14876', '27.2', '42.8', '39.2', '68000',\n",
       "       '48000', '39.8', '34.9', '15754', '30187', '25997', '27566',\n",
       "       '39379', '33430', '60185', '23063', '18406', '41050', '60000',\n",
       "       '113770', '38.7', '10951', '57900', '58535', '28.2', '49846',\n",
       "       '31.4', '20894', '10444', '1941', '32.1', '59000', '36.7', '52000',\n",
       "       '63000', '110461', '88082', '32.5', '37.7', '16000', '11444',\n",
       "       '21154', 'Unknown', '38.2', '44644', '5669', '4235', '3000'],\n",
       "      dtype=object)"
      ]
     },
     "execution_count": 20,
     "metadata": {},
     "output_type": "execute_result"
    }
   ],
   "source": [
    "d1['mileage2'].unique()"
   ]
  },
  {
   "cell_type": "code",
   "execution_count": 21,
   "id": "154d027b",
   "metadata": {},
   "outputs": [
    {
     "data": {
      "text/html": [
       "<div>\n",
       "<style scoped>\n",
       "    .dataframe tbody tr th:only-of-type {\n",
       "        vertical-align: middle;\n",
       "    }\n",
       "\n",
       "    .dataframe tbody tr th {\n",
       "        vertical-align: top;\n",
       "    }\n",
       "\n",
       "    .dataframe thead th {\n",
       "        text-align: right;\n",
       "    }\n",
       "</style>\n",
       "<table border=\"1\" class=\"dataframe\">\n",
       "  <thead>\n",
       "    <tr style=\"text-align: right;\">\n",
       "      <th></th>\n",
       "      <th>model</th>\n",
       "      <th>year</th>\n",
       "      <th>price</th>\n",
       "      <th>transmission</th>\n",
       "      <th>mileage</th>\n",
       "      <th>fuel type</th>\n",
       "      <th>engine size</th>\n",
       "      <th>mileage2</th>\n",
       "      <th>fuel type2</th>\n",
       "      <th>engine size2</th>\n",
       "      <th>reference</th>\n",
       "    </tr>\n",
       "  </thead>\n",
       "  <tbody>\n",
       "    <tr>\n",
       "      <th>10</th>\n",
       "      <td>C Class</td>\n",
       "      <td>2013</td>\n",
       "      <td>9995</td>\n",
       "      <td>Automatic</td>\n",
       "      <td>44,900</td>\n",
       "      <td>29</td>\n",
       "      <td>£160</td>\n",
       "      <td>46.3</td>\n",
       "      <td>Petrol</td>\n",
       "      <td>1.6</td>\n",
       "      <td>/ad/25128085</td>\n",
       "    </tr>\n",
       "    <tr>\n",
       "      <th>11</th>\n",
       "      <td>C Class</td>\n",
       "      <td>2012</td>\n",
       "      <td>6995</td>\n",
       "      <td>Automatic</td>\n",
       "      <td>88,200</td>\n",
       "      <td>34</td>\n",
       "      <td>£125</td>\n",
       "      <td>58.9</td>\n",
       "      <td>Diesel</td>\n",
       "      <td>2.1</td>\n",
       "      <td>/ad/23763610</td>\n",
       "    </tr>\n",
       "    <tr>\n",
       "      <th>12</th>\n",
       "      <td>C Class</td>\n",
       "      <td>2012</td>\n",
       "      <td>7495</td>\n",
       "      <td>Automatic</td>\n",
       "      <td>115,000</td>\n",
       "      <td>37</td>\n",
       "      <td>£145</td>\n",
       "      <td>54.3</td>\n",
       "      <td>Diesel</td>\n",
       "      <td>2.1</td>\n",
       "      <td>/ad/24626603</td>\n",
       "    </tr>\n",
       "    <tr>\n",
       "      <th>13</th>\n",
       "      <td>C Class</td>\n",
       "      <td>2011</td>\n",
       "      <td>8995</td>\n",
       "      <td>Automatic</td>\n",
       "      <td>69,250</td>\n",
       "      <td>29</td>\n",
       "      <td>£150</td>\n",
       "      <td>53.3</td>\n",
       "      <td>Diesel</td>\n",
       "      <td>2.1</td>\n",
       "      <td>/ad/25462537</td>\n",
       "    </tr>\n",
       "    <tr>\n",
       "      <th>14</th>\n",
       "      <td>C Class</td>\n",
       "      <td>2015</td>\n",
       "      <td>14995</td>\n",
       "      <td>Automatic</td>\n",
       "      <td>49,850</td>\n",
       "      <td>31</td>\n",
       "      <td>£30</td>\n",
       "      <td>62.8</td>\n",
       "      <td>Diesel</td>\n",
       "      <td>2.1</td>\n",
       "      <td>/ad/25479169</td>\n",
       "    </tr>\n",
       "    <tr>\n",
       "      <th>...</th>\n",
       "      <td>...</td>\n",
       "      <td>...</td>\n",
       "      <td>...</td>\n",
       "      <td>...</td>\n",
       "      <td>...</td>\n",
       "      <td>...</td>\n",
       "      <td>...</td>\n",
       "      <td>...</td>\n",
       "      <td>...</td>\n",
       "      <td>...</td>\n",
       "      <td>...</td>\n",
       "    </tr>\n",
       "    <tr>\n",
       "      <th>4001</th>\n",
       "      <td>C Class</td>\n",
       "      <td>2017</td>\n",
       "      <td>14700</td>\n",
       "      <td>Manual</td>\n",
       "      <td>31,357</td>\n",
       "      <td>25</td>\n",
       "      <td>£150</td>\n",
       "      <td>70.6</td>\n",
       "      <td>Diesel</td>\n",
       "      <td>1.598</td>\n",
       "      <td>/ad/25451436</td>\n",
       "    </tr>\n",
       "    <tr>\n",
       "      <th>4002</th>\n",
       "      <td>C Class</td>\n",
       "      <td>2018</td>\n",
       "      <td>18500</td>\n",
       "      <td>Automatic</td>\n",
       "      <td>28,248</td>\n",
       "      <td>31</td>\n",
       "      <td>£150</td>\n",
       "      <td>64.2</td>\n",
       "      <td>Diesel</td>\n",
       "      <td>2.143</td>\n",
       "      <td>/ad/25451481</td>\n",
       "    </tr>\n",
       "    <tr>\n",
       "      <th>4003</th>\n",
       "      <td>C Class</td>\n",
       "      <td>2014</td>\n",
       "      <td>11900</td>\n",
       "      <td>Manual</td>\n",
       "      <td>48,055</td>\n",
       "      <td>31</td>\n",
       "      <td>£20</td>\n",
       "      <td>65.7</td>\n",
       "      <td>Diesel</td>\n",
       "      <td>2.143</td>\n",
       "      <td>/ad/25057204</td>\n",
       "    </tr>\n",
       "    <tr>\n",
       "      <th>4004</th>\n",
       "      <td>C Class</td>\n",
       "      <td>2014</td>\n",
       "      <td>11300</td>\n",
       "      <td>Automatic</td>\n",
       "      <td>49,865</td>\n",
       "      <td>46</td>\n",
       "      <td>£145</td>\n",
       "      <td>56.5</td>\n",
       "      <td>Diesel</td>\n",
       "      <td>2.143</td>\n",
       "      <td>/ad/25144481</td>\n",
       "    </tr>\n",
       "    <tr>\n",
       "      <th>4005</th>\n",
       "      <td>C Class</td>\n",
       "      <td>2014</td>\n",
       "      <td>14800</td>\n",
       "      <td>Automatic</td>\n",
       "      <td>55,445</td>\n",
       "      <td>37</td>\n",
       "      <td>£30</td>\n",
       "      <td>64.2</td>\n",
       "      <td>Diesel</td>\n",
       "      <td>2.143</td>\n",
       "      <td>/ad/25154247</td>\n",
       "    </tr>\n",
       "  </tbody>\n",
       "</table>\n",
       "<p>1208 rows × 11 columns</p>\n",
       "</div>"
      ],
      "text/plain": [
       "         model  year  price transmission  mileage fuel type engine size  \\\n",
       "10     C Class  2013   9995    Automatic   44,900        29        £160   \n",
       "11     C Class  2012   6995    Automatic   88,200        34        £125   \n",
       "12     C Class  2012   7495    Automatic  115,000        37        £145   \n",
       "13     C Class  2011   8995    Automatic   69,250        29        £150   \n",
       "14     C Class  2015  14995    Automatic   49,850        31         £30   \n",
       "...        ...   ...    ...          ...      ...       ...         ...   \n",
       "4001   C Class  2017  14700       Manual   31,357        25        £150   \n",
       "4002   C Class  2018  18500    Automatic   28,248        31        £150   \n",
       "4003   C Class  2014  11900       Manual   48,055        31         £20   \n",
       "4004   C Class  2014  11300    Automatic   49,865        46        £145   \n",
       "4005   C Class  2014  14800    Automatic   55,445        37         £30   \n",
       "\n",
       "     mileage2 fuel type2 engine size2     reference  \n",
       "10       46.3     Petrol          1.6  /ad/25128085  \n",
       "11       58.9     Diesel          2.1  /ad/23763610  \n",
       "12       54.3     Diesel          2.1  /ad/24626603  \n",
       "13       53.3     Diesel          2.1  /ad/25462537  \n",
       "14       62.8     Diesel          2.1  /ad/25479169  \n",
       "...       ...        ...          ...           ...  \n",
       "4001     70.6     Diesel        1.598  /ad/25451436  \n",
       "4002     64.2     Diesel        2.143  /ad/25451481  \n",
       "4003     65.7     Diesel        2.143  /ad/25057204  \n",
       "4004     56.5     Diesel        2.143  /ad/25144481  \n",
       "4005     64.2     Diesel        2.143  /ad/25154247  \n",
       "\n",
       "[1208 rows x 11 columns]"
      ]
     },
     "execution_count": 21,
     "metadata": {},
     "output_type": "execute_result"
    }
   ],
   "source": [
    "d1.dropna()"
   ]
  },
  {
   "cell_type": "code",
   "execution_count": 22,
   "id": "13cc5381",
   "metadata": {},
   "outputs": [
    {
     "data": {
      "text/html": [
       "<div>\n",
       "<style scoped>\n",
       "    .dataframe tbody tr th:only-of-type {\n",
       "        vertical-align: middle;\n",
       "    }\n",
       "\n",
       "    .dataframe tbody tr th {\n",
       "        vertical-align: top;\n",
       "    }\n",
       "\n",
       "    .dataframe thead th {\n",
       "        text-align: right;\n",
       "    }\n",
       "</style>\n",
       "<table border=\"1\" class=\"dataframe\">\n",
       "  <thead>\n",
       "    <tr style=\"text-align: right;\">\n",
       "      <th></th>\n",
       "      <th>model</th>\n",
       "      <th>year</th>\n",
       "      <th>price</th>\n",
       "      <th>transmission</th>\n",
       "      <th>mileage</th>\n",
       "      <th>fuel type</th>\n",
       "      <th>engine size</th>\n",
       "      <th>mileage2</th>\n",
       "      <th>fuel type2</th>\n",
       "      <th>engine size2</th>\n",
       "      <th>reference</th>\n",
       "    </tr>\n",
       "  </thead>\n",
       "  <tbody>\n",
       "    <tr>\n",
       "      <th>3889</th>\n",
       "      <td>C Class</td>\n",
       "      <td>2020</td>\n",
       "      <td>39950</td>\n",
       "      <td>Automatic</td>\n",
       "      <td>NaN</td>\n",
       "      <td>Hybrid</td>\n",
       "      <td>2000</td>\n",
       "      <td>Unknown</td>\n",
       "      <td>NaN</td>\n",
       "      <td>NaN</td>\n",
       "      <td>/ad/25482786</td>\n",
       "    </tr>\n",
       "  </tbody>\n",
       "</table>\n",
       "</div>"
      ],
      "text/plain": [
       "         model  year  price transmission mileage fuel type engine size  \\\n",
       "3889   C Class  2020  39950    Automatic     NaN    Hybrid        2000   \n",
       "\n",
       "     mileage2 fuel type2 engine size2     reference  \n",
       "3889  Unknown        NaN          NaN  /ad/25482786  "
      ]
     },
     "execution_count": 22,
     "metadata": {},
     "output_type": "execute_result"
    }
   ],
   "source": [
    "d1[d1['mileage2']=='Unknown']"
   ]
  },
  {
   "cell_type": "code",
   "execution_count": 23,
   "id": "762e2f7f",
   "metadata": {},
   "outputs": [],
   "source": [
    "d1.drop(3889,axis=0,inplace=True)"
   ]
  },
  {
   "cell_type": "code",
   "execution_count": 24,
   "id": "be0f28b2",
   "metadata": {},
   "outputs": [
    {
     "data": {
      "text/plain": [
       "0       1200.0\n",
       "1       1000.0\n",
       "2        500.0\n",
       "3       5000.0\n",
       "4       4500.0\n",
       "         ...  \n",
       "4001      70.6\n",
       "4002      64.2\n",
       "4003      65.7\n",
       "4004      56.5\n",
       "4005      64.2\n",
       "Name: mileage2, Length: 3903, dtype: float64"
      ]
     },
     "execution_count": 24,
     "metadata": {},
     "output_type": "execute_result"
    }
   ],
   "source": [
    "d1['mileage2'].astype(float)"
   ]
  },
  {
   "cell_type": "code",
   "execution_count": 25,
   "id": "5d7c311d",
   "metadata": {},
   "outputs": [],
   "source": [
    "d1 = d1.dropna()"
   ]
  },
  {
   "cell_type": "code",
   "execution_count": 26,
   "id": "046125b9",
   "metadata": {},
   "outputs": [
    {
     "data": {
      "text/html": [
       "<div>\n",
       "<style scoped>\n",
       "    .dataframe tbody tr th:only-of-type {\n",
       "        vertical-align: middle;\n",
       "    }\n",
       "\n",
       "    .dataframe tbody tr th {\n",
       "        vertical-align: top;\n",
       "    }\n",
       "\n",
       "    .dataframe thead th {\n",
       "        text-align: right;\n",
       "    }\n",
       "</style>\n",
       "<table border=\"1\" class=\"dataframe\">\n",
       "  <thead>\n",
       "    <tr style=\"text-align: right;\">\n",
       "      <th></th>\n",
       "      <th>model</th>\n",
       "      <th>year</th>\n",
       "      <th>price</th>\n",
       "      <th>transmission</th>\n",
       "      <th>mileage</th>\n",
       "      <th>fuel type</th>\n",
       "      <th>engine size</th>\n",
       "      <th>mileage2</th>\n",
       "      <th>fuel type2</th>\n",
       "      <th>engine size2</th>\n",
       "      <th>reference</th>\n",
       "    </tr>\n",
       "  </thead>\n",
       "  <tbody>\n",
       "    <tr>\n",
       "      <th>10</th>\n",
       "      <td>C Class</td>\n",
       "      <td>2013</td>\n",
       "      <td>9995</td>\n",
       "      <td>Automatic</td>\n",
       "      <td>44,900</td>\n",
       "      <td>29</td>\n",
       "      <td>£160</td>\n",
       "      <td>46.3</td>\n",
       "      <td>Petrol</td>\n",
       "      <td>1.6</td>\n",
       "      <td>/ad/25128085</td>\n",
       "    </tr>\n",
       "    <tr>\n",
       "      <th>11</th>\n",
       "      <td>C Class</td>\n",
       "      <td>2012</td>\n",
       "      <td>6995</td>\n",
       "      <td>Automatic</td>\n",
       "      <td>88,200</td>\n",
       "      <td>34</td>\n",
       "      <td>£125</td>\n",
       "      <td>58.9</td>\n",
       "      <td>Diesel</td>\n",
       "      <td>2.1</td>\n",
       "      <td>/ad/23763610</td>\n",
       "    </tr>\n",
       "    <tr>\n",
       "      <th>12</th>\n",
       "      <td>C Class</td>\n",
       "      <td>2012</td>\n",
       "      <td>7495</td>\n",
       "      <td>Automatic</td>\n",
       "      <td>115,000</td>\n",
       "      <td>37</td>\n",
       "      <td>£145</td>\n",
       "      <td>54.3</td>\n",
       "      <td>Diesel</td>\n",
       "      <td>2.1</td>\n",
       "      <td>/ad/24626603</td>\n",
       "    </tr>\n",
       "    <tr>\n",
       "      <th>13</th>\n",
       "      <td>C Class</td>\n",
       "      <td>2011</td>\n",
       "      <td>8995</td>\n",
       "      <td>Automatic</td>\n",
       "      <td>69,250</td>\n",
       "      <td>29</td>\n",
       "      <td>£150</td>\n",
       "      <td>53.3</td>\n",
       "      <td>Diesel</td>\n",
       "      <td>2.1</td>\n",
       "      <td>/ad/25462537</td>\n",
       "    </tr>\n",
       "    <tr>\n",
       "      <th>14</th>\n",
       "      <td>C Class</td>\n",
       "      <td>2015</td>\n",
       "      <td>14995</td>\n",
       "      <td>Automatic</td>\n",
       "      <td>49,850</td>\n",
       "      <td>31</td>\n",
       "      <td>£30</td>\n",
       "      <td>62.8</td>\n",
       "      <td>Diesel</td>\n",
       "      <td>2.1</td>\n",
       "      <td>/ad/25479169</td>\n",
       "    </tr>\n",
       "    <tr>\n",
       "      <th>...</th>\n",
       "      <td>...</td>\n",
       "      <td>...</td>\n",
       "      <td>...</td>\n",
       "      <td>...</td>\n",
       "      <td>...</td>\n",
       "      <td>...</td>\n",
       "      <td>...</td>\n",
       "      <td>...</td>\n",
       "      <td>...</td>\n",
       "      <td>...</td>\n",
       "      <td>...</td>\n",
       "    </tr>\n",
       "    <tr>\n",
       "      <th>4001</th>\n",
       "      <td>C Class</td>\n",
       "      <td>2017</td>\n",
       "      <td>14700</td>\n",
       "      <td>Manual</td>\n",
       "      <td>31,357</td>\n",
       "      <td>25</td>\n",
       "      <td>£150</td>\n",
       "      <td>70.6</td>\n",
       "      <td>Diesel</td>\n",
       "      <td>1.598</td>\n",
       "      <td>/ad/25451436</td>\n",
       "    </tr>\n",
       "    <tr>\n",
       "      <th>4002</th>\n",
       "      <td>C Class</td>\n",
       "      <td>2018</td>\n",
       "      <td>18500</td>\n",
       "      <td>Automatic</td>\n",
       "      <td>28,248</td>\n",
       "      <td>31</td>\n",
       "      <td>£150</td>\n",
       "      <td>64.2</td>\n",
       "      <td>Diesel</td>\n",
       "      <td>2.143</td>\n",
       "      <td>/ad/25451481</td>\n",
       "    </tr>\n",
       "    <tr>\n",
       "      <th>4003</th>\n",
       "      <td>C Class</td>\n",
       "      <td>2014</td>\n",
       "      <td>11900</td>\n",
       "      <td>Manual</td>\n",
       "      <td>48,055</td>\n",
       "      <td>31</td>\n",
       "      <td>£20</td>\n",
       "      <td>65.7</td>\n",
       "      <td>Diesel</td>\n",
       "      <td>2.143</td>\n",
       "      <td>/ad/25057204</td>\n",
       "    </tr>\n",
       "    <tr>\n",
       "      <th>4004</th>\n",
       "      <td>C Class</td>\n",
       "      <td>2014</td>\n",
       "      <td>11300</td>\n",
       "      <td>Automatic</td>\n",
       "      <td>49,865</td>\n",
       "      <td>46</td>\n",
       "      <td>£145</td>\n",
       "      <td>56.5</td>\n",
       "      <td>Diesel</td>\n",
       "      <td>2.143</td>\n",
       "      <td>/ad/25144481</td>\n",
       "    </tr>\n",
       "    <tr>\n",
       "      <th>4005</th>\n",
       "      <td>C Class</td>\n",
       "      <td>2014</td>\n",
       "      <td>14800</td>\n",
       "      <td>Automatic</td>\n",
       "      <td>55,445</td>\n",
       "      <td>37</td>\n",
       "      <td>£30</td>\n",
       "      <td>64.2</td>\n",
       "      <td>Diesel</td>\n",
       "      <td>2.143</td>\n",
       "      <td>/ad/25154247</td>\n",
       "    </tr>\n",
       "  </tbody>\n",
       "</table>\n",
       "<p>1208 rows × 11 columns</p>\n",
       "</div>"
      ],
      "text/plain": [
       "         model  year  price transmission  mileage fuel type engine size  \\\n",
       "10     C Class  2013   9995    Automatic   44,900        29        £160   \n",
       "11     C Class  2012   6995    Automatic   88,200        34        £125   \n",
       "12     C Class  2012   7495    Automatic  115,000        37        £145   \n",
       "13     C Class  2011   8995    Automatic   69,250        29        £150   \n",
       "14     C Class  2015  14995    Automatic   49,850        31         £30   \n",
       "...        ...   ...    ...          ...      ...       ...         ...   \n",
       "4001   C Class  2017  14700       Manual   31,357        25        £150   \n",
       "4002   C Class  2018  18500    Automatic   28,248        31        £150   \n",
       "4003   C Class  2014  11900       Manual   48,055        31         £20   \n",
       "4004   C Class  2014  11300    Automatic   49,865        46        £145   \n",
       "4005   C Class  2014  14800    Automatic   55,445        37         £30   \n",
       "\n",
       "     mileage2 fuel type2 engine size2     reference  \n",
       "10       46.3     Petrol          1.6  /ad/25128085  \n",
       "11       58.9     Diesel          2.1  /ad/23763610  \n",
       "12       54.3     Diesel          2.1  /ad/24626603  \n",
       "13       53.3     Diesel          2.1  /ad/25462537  \n",
       "14       62.8     Diesel          2.1  /ad/25479169  \n",
       "...       ...        ...          ...           ...  \n",
       "4001     70.6     Diesel        1.598  /ad/25451436  \n",
       "4002     64.2     Diesel        2.143  /ad/25451481  \n",
       "4003     65.7     Diesel        2.143  /ad/25057204  \n",
       "4004     56.5     Diesel        2.143  /ad/25144481  \n",
       "4005     64.2     Diesel        2.143  /ad/25154247  \n",
       "\n",
       "[1208 rows x 11 columns]"
      ]
     },
     "execution_count": 26,
     "metadata": {},
     "output_type": "execute_result"
    }
   ],
   "source": [
    "d1"
   ]
  },
  {
   "cell_type": "code",
   "execution_count": 27,
   "id": "164f1960",
   "metadata": {},
   "outputs": [],
   "source": [
    "d1['mileage2'] = d1['mileage2'].astype(float)"
   ]
  },
  {
   "cell_type": "code",
   "execution_count": 28,
   "id": "c8772d41",
   "metadata": {},
   "outputs": [
    {
     "data": {
      "text/plain": [
       "array([ 46.3,  58.9,  54.3,  53.3,  62.8,  64.2,  60.1,  67.3,  49.6,\n",
       "        65.7,  68.9,  44.8,  70.6,  52.3,  23.5,  47.1,  61.4,  45.6,\n",
       "        33.6, 134.5,  72.4, 122.8,  76.4,  74.3,  50.4,  47.9,  48.7,\n",
       "        57.7,  56.5,  51.4,  23. ,  78.5,  44.1,  43.5,  55.4,  34.5,\n",
       "        39.8,  42.2,  34.9,  40.4,  41.5,  28.2,  31.4,  32.1,  36.7,\n",
       "        38.7,  28.8,  32.5,  37.7,  39.2,  38.2])"
      ]
     },
     "execution_count": 28,
     "metadata": {},
     "output_type": "execute_result"
    }
   ],
   "source": [
    "d1['mileage2'].unique()"
   ]
  },
  {
   "cell_type": "code",
   "execution_count": 29,
   "id": "d74d953e",
   "metadata": {},
   "outputs": [
    {
     "data": {
      "text/plain": [
       "62.67831125827794"
      ]
     },
     "execution_count": 29,
     "metadata": {},
     "output_type": "execute_result"
    }
   ],
   "source": [
    "d1['mileage2'].mean()"
   ]
  },
  {
   "cell_type": "code",
   "execution_count": 30,
   "id": "d4738da2",
   "metadata": {},
   "outputs": [],
   "source": [
    "d1 = d1[~d1['mileage2'].isna()]"
   ]
  },
  {
   "cell_type": "code",
   "execution_count": 31,
   "id": "2f1de41a",
   "metadata": {},
   "outputs": [
    {
     "data": {
      "text/plain": [
       "(1208, 11)"
      ]
     },
     "execution_count": 31,
     "metadata": {},
     "output_type": "execute_result"
    }
   ],
   "source": [
    "d1.shape"
   ]
  },
  {
   "cell_type": "code",
   "execution_count": 32,
   "id": "50c77f47",
   "metadata": {},
   "outputs": [
    {
     "data": {
      "text/html": [
       "<div>\n",
       "<style scoped>\n",
       "    .dataframe tbody tr th:only-of-type {\n",
       "        vertical-align: middle;\n",
       "    }\n",
       "\n",
       "    .dataframe tbody tr th {\n",
       "        vertical-align: top;\n",
       "    }\n",
       "\n",
       "    .dataframe thead th {\n",
       "        text-align: right;\n",
       "    }\n",
       "</style>\n",
       "<table border=\"1\" class=\"dataframe\">\n",
       "  <thead>\n",
       "    <tr style=\"text-align: right;\">\n",
       "      <th></th>\n",
       "      <th>model</th>\n",
       "      <th>year</th>\n",
       "      <th>price</th>\n",
       "      <th>transmission</th>\n",
       "      <th>mileage</th>\n",
       "      <th>fuel type</th>\n",
       "      <th>engine size</th>\n",
       "      <th>mileage2</th>\n",
       "      <th>fuel type2</th>\n",
       "      <th>engine size2</th>\n",
       "      <th>reference</th>\n",
       "    </tr>\n",
       "  </thead>\n",
       "  <tbody>\n",
       "    <tr>\n",
       "      <th>10</th>\n",
       "      <td>C Class</td>\n",
       "      <td>2013</td>\n",
       "      <td>9995</td>\n",
       "      <td>Automatic</td>\n",
       "      <td>44,900</td>\n",
       "      <td>29</td>\n",
       "      <td>£160</td>\n",
       "      <td>46.3</td>\n",
       "      <td>Petrol</td>\n",
       "      <td>1.6</td>\n",
       "      <td>/ad/25128085</td>\n",
       "    </tr>\n",
       "    <tr>\n",
       "      <th>11</th>\n",
       "      <td>C Class</td>\n",
       "      <td>2012</td>\n",
       "      <td>6995</td>\n",
       "      <td>Automatic</td>\n",
       "      <td>88,200</td>\n",
       "      <td>34</td>\n",
       "      <td>£125</td>\n",
       "      <td>58.9</td>\n",
       "      <td>Diesel</td>\n",
       "      <td>2.1</td>\n",
       "      <td>/ad/23763610</td>\n",
       "    </tr>\n",
       "    <tr>\n",
       "      <th>12</th>\n",
       "      <td>C Class</td>\n",
       "      <td>2012</td>\n",
       "      <td>7495</td>\n",
       "      <td>Automatic</td>\n",
       "      <td>115,000</td>\n",
       "      <td>37</td>\n",
       "      <td>£145</td>\n",
       "      <td>54.3</td>\n",
       "      <td>Diesel</td>\n",
       "      <td>2.1</td>\n",
       "      <td>/ad/24626603</td>\n",
       "    </tr>\n",
       "    <tr>\n",
       "      <th>13</th>\n",
       "      <td>C Class</td>\n",
       "      <td>2011</td>\n",
       "      <td>8995</td>\n",
       "      <td>Automatic</td>\n",
       "      <td>69,250</td>\n",
       "      <td>29</td>\n",
       "      <td>£150</td>\n",
       "      <td>53.3</td>\n",
       "      <td>Diesel</td>\n",
       "      <td>2.1</td>\n",
       "      <td>/ad/25462537</td>\n",
       "    </tr>\n",
       "    <tr>\n",
       "      <th>14</th>\n",
       "      <td>C Class</td>\n",
       "      <td>2015</td>\n",
       "      <td>14995</td>\n",
       "      <td>Automatic</td>\n",
       "      <td>49,850</td>\n",
       "      <td>31</td>\n",
       "      <td>£30</td>\n",
       "      <td>62.8</td>\n",
       "      <td>Diesel</td>\n",
       "      <td>2.1</td>\n",
       "      <td>/ad/25479169</td>\n",
       "    </tr>\n",
       "  </tbody>\n",
       "</table>\n",
       "</div>"
      ],
      "text/plain": [
       "       model  year  price transmission  mileage fuel type engine size  \\\n",
       "10   C Class  2013   9995    Automatic   44,900        29        £160   \n",
       "11   C Class  2012   6995    Automatic   88,200        34        £125   \n",
       "12   C Class  2012   7495    Automatic  115,000        37        £145   \n",
       "13   C Class  2011   8995    Automatic   69,250        29        £150   \n",
       "14   C Class  2015  14995    Automatic   49,850        31         £30   \n",
       "\n",
       "    mileage2 fuel type2 engine size2     reference  \n",
       "10      46.3     Petrol          1.6  /ad/25128085  \n",
       "11      58.9     Diesel          2.1  /ad/23763610  \n",
       "12      54.3     Diesel          2.1  /ad/24626603  \n",
       "13      53.3     Diesel          2.1  /ad/25462537  \n",
       "14      62.8     Diesel          2.1  /ad/25479169  "
      ]
     },
     "execution_count": 32,
     "metadata": {},
     "output_type": "execute_result"
    }
   ],
   "source": [
    "d1.head()"
   ]
  },
  {
   "cell_type": "code",
   "execution_count": 33,
   "id": "b2db95cf",
   "metadata": {},
   "outputs": [
    {
     "ename": "AttributeError",
     "evalue": "Can only use .str accessor with string values!",
     "output_type": "error",
     "traceback": [
      "\u001b[1;31m---------------------------------------------------------------------------\u001b[0m",
      "\u001b[1;31mAttributeError\u001b[0m                            Traceback (most recent call last)",
      "Input \u001b[1;32mIn [33]\u001b[0m, in \u001b[0;36m<cell line: 1>\u001b[1;34m()\u001b[0m\n\u001b[1;32m----> 1\u001b[0m \u001b[43md1\u001b[49m\u001b[43m[\u001b[49m\u001b[38;5;124;43m'\u001b[39;49m\u001b[38;5;124;43mmileage2\u001b[39;49m\u001b[38;5;124;43m'\u001b[39;49m\u001b[43m]\u001b[49m\u001b[38;5;241;43m.\u001b[39;49m\u001b[43mstr\u001b[49m\u001b[38;5;241m.\u001b[39misnumeric()\u001b[38;5;241m.\u001b[39msum()\n",
      "File \u001b[1;32mD:\\ML\\lib\\site-packages\\pandas\\core\\generic.py:5575\u001b[0m, in \u001b[0;36mNDFrame.__getattr__\u001b[1;34m(self, name)\u001b[0m\n\u001b[0;32m   5568\u001b[0m \u001b[38;5;28;01mif\u001b[39;00m (\n\u001b[0;32m   5569\u001b[0m     name \u001b[38;5;129;01mnot\u001b[39;00m \u001b[38;5;129;01min\u001b[39;00m \u001b[38;5;28mself\u001b[39m\u001b[38;5;241m.\u001b[39m_internal_names_set\n\u001b[0;32m   5570\u001b[0m     \u001b[38;5;129;01mand\u001b[39;00m name \u001b[38;5;129;01mnot\u001b[39;00m \u001b[38;5;129;01min\u001b[39;00m \u001b[38;5;28mself\u001b[39m\u001b[38;5;241m.\u001b[39m_metadata\n\u001b[0;32m   5571\u001b[0m     \u001b[38;5;129;01mand\u001b[39;00m name \u001b[38;5;129;01mnot\u001b[39;00m \u001b[38;5;129;01min\u001b[39;00m \u001b[38;5;28mself\u001b[39m\u001b[38;5;241m.\u001b[39m_accessors\n\u001b[0;32m   5572\u001b[0m     \u001b[38;5;129;01mand\u001b[39;00m \u001b[38;5;28mself\u001b[39m\u001b[38;5;241m.\u001b[39m_info_axis\u001b[38;5;241m.\u001b[39m_can_hold_identifiers_and_holds_name(name)\n\u001b[0;32m   5573\u001b[0m ):\n\u001b[0;32m   5574\u001b[0m     \u001b[38;5;28;01mreturn\u001b[39;00m \u001b[38;5;28mself\u001b[39m[name]\n\u001b[1;32m-> 5575\u001b[0m \u001b[38;5;28;01mreturn\u001b[39;00m \u001b[38;5;28;43mobject\u001b[39;49m\u001b[38;5;241;43m.\u001b[39;49m\u001b[38;5;21;43m__getattribute__\u001b[39;49m\u001b[43m(\u001b[49m\u001b[38;5;28;43mself\u001b[39;49m\u001b[43m,\u001b[49m\u001b[43m \u001b[49m\u001b[43mname\u001b[49m\u001b[43m)\u001b[49m\n",
      "File \u001b[1;32mD:\\ML\\lib\\site-packages\\pandas\\core\\accessor.py:182\u001b[0m, in \u001b[0;36mCachedAccessor.__get__\u001b[1;34m(self, obj, cls)\u001b[0m\n\u001b[0;32m    179\u001b[0m \u001b[38;5;28;01mif\u001b[39;00m obj \u001b[38;5;129;01mis\u001b[39;00m \u001b[38;5;28;01mNone\u001b[39;00m:\n\u001b[0;32m    180\u001b[0m     \u001b[38;5;66;03m# we're accessing the attribute of the class, i.e., Dataset.geo\u001b[39;00m\n\u001b[0;32m    181\u001b[0m     \u001b[38;5;28;01mreturn\u001b[39;00m \u001b[38;5;28mself\u001b[39m\u001b[38;5;241m.\u001b[39m_accessor\n\u001b[1;32m--> 182\u001b[0m accessor_obj \u001b[38;5;241m=\u001b[39m \u001b[38;5;28;43mself\u001b[39;49m\u001b[38;5;241;43m.\u001b[39;49m\u001b[43m_accessor\u001b[49m\u001b[43m(\u001b[49m\u001b[43mobj\u001b[49m\u001b[43m)\u001b[49m\n\u001b[0;32m    183\u001b[0m \u001b[38;5;66;03m# Replace the property with the accessor object. Inspired by:\u001b[39;00m\n\u001b[0;32m    184\u001b[0m \u001b[38;5;66;03m# https://www.pydanny.com/cached-property.html\u001b[39;00m\n\u001b[0;32m    185\u001b[0m \u001b[38;5;66;03m# We need to use object.__setattr__ because we overwrite __setattr__ on\u001b[39;00m\n\u001b[0;32m    186\u001b[0m \u001b[38;5;66;03m# NDFrame\u001b[39;00m\n\u001b[0;32m    187\u001b[0m \u001b[38;5;28mobject\u001b[39m\u001b[38;5;241m.\u001b[39m\u001b[38;5;21m__setattr__\u001b[39m(obj, \u001b[38;5;28mself\u001b[39m\u001b[38;5;241m.\u001b[39m_name, accessor_obj)\n",
      "File \u001b[1;32mD:\\ML\\lib\\site-packages\\pandas\\core\\strings\\accessor.py:177\u001b[0m, in \u001b[0;36mStringMethods.__init__\u001b[1;34m(self, data)\u001b[0m\n\u001b[0;32m    174\u001b[0m \u001b[38;5;28;01mdef\u001b[39;00m \u001b[38;5;21m__init__\u001b[39m(\u001b[38;5;28mself\u001b[39m, data):\n\u001b[0;32m    175\u001b[0m     \u001b[38;5;28;01mfrom\u001b[39;00m \u001b[38;5;21;01mpandas\u001b[39;00m\u001b[38;5;21;01m.\u001b[39;00m\u001b[38;5;21;01mcore\u001b[39;00m\u001b[38;5;21;01m.\u001b[39;00m\u001b[38;5;21;01marrays\u001b[39;00m\u001b[38;5;21;01m.\u001b[39;00m\u001b[38;5;21;01mstring_\u001b[39;00m \u001b[38;5;28;01mimport\u001b[39;00m StringDtype\n\u001b[1;32m--> 177\u001b[0m     \u001b[38;5;28mself\u001b[39m\u001b[38;5;241m.\u001b[39m_inferred_dtype \u001b[38;5;241m=\u001b[39m \u001b[38;5;28;43mself\u001b[39;49m\u001b[38;5;241;43m.\u001b[39;49m\u001b[43m_validate\u001b[49m\u001b[43m(\u001b[49m\u001b[43mdata\u001b[49m\u001b[43m)\u001b[49m\n\u001b[0;32m    178\u001b[0m     \u001b[38;5;28mself\u001b[39m\u001b[38;5;241m.\u001b[39m_is_categorical \u001b[38;5;241m=\u001b[39m is_categorical_dtype(data\u001b[38;5;241m.\u001b[39mdtype)\n\u001b[0;32m    179\u001b[0m     \u001b[38;5;28mself\u001b[39m\u001b[38;5;241m.\u001b[39m_is_string \u001b[38;5;241m=\u001b[39m \u001b[38;5;28misinstance\u001b[39m(data\u001b[38;5;241m.\u001b[39mdtype, StringDtype)\n",
      "File \u001b[1;32mD:\\ML\\lib\\site-packages\\pandas\\core\\strings\\accessor.py:231\u001b[0m, in \u001b[0;36mStringMethods._validate\u001b[1;34m(data)\u001b[0m\n\u001b[0;32m    228\u001b[0m inferred_dtype \u001b[38;5;241m=\u001b[39m lib\u001b[38;5;241m.\u001b[39minfer_dtype(values, skipna\u001b[38;5;241m=\u001b[39m\u001b[38;5;28;01mTrue\u001b[39;00m)\n\u001b[0;32m    230\u001b[0m \u001b[38;5;28;01mif\u001b[39;00m inferred_dtype \u001b[38;5;129;01mnot\u001b[39;00m \u001b[38;5;129;01min\u001b[39;00m allowed_types:\n\u001b[1;32m--> 231\u001b[0m     \u001b[38;5;28;01mraise\u001b[39;00m \u001b[38;5;167;01mAttributeError\u001b[39;00m(\u001b[38;5;124m\"\u001b[39m\u001b[38;5;124mCan only use .str accessor with string values!\u001b[39m\u001b[38;5;124m\"\u001b[39m)\n\u001b[0;32m    232\u001b[0m \u001b[38;5;28;01mreturn\u001b[39;00m inferred_dtype\n",
      "\u001b[1;31mAttributeError\u001b[0m: Can only use .str accessor with string values!"
     ]
    }
   ],
   "source": [
    "d1['mileage2'].str.isnumeric().sum()"
   ]
  },
  {
   "cell_type": "code",
   "execution_count": null,
   "id": "b2d5422e",
   "metadata": {},
   "outputs": [],
   "source": [
    "d1.shape"
   ]
  },
  {
   "cell_type": "code",
   "execution_count": null,
   "id": "394117f7",
   "metadata": {},
   "outputs": [],
   "source": [
    "#d1 = d1[~d1['fuel type2'].isna()]\n",
    "d1 = d1.dropna()"
   ]
  },
  {
   "cell_type": "code",
   "execution_count": 34,
   "id": "e72ae486",
   "metadata": {},
   "outputs": [
    {
     "data": {
      "text/html": [
       "<div>\n",
       "<style scoped>\n",
       "    .dataframe tbody tr th:only-of-type {\n",
       "        vertical-align: middle;\n",
       "    }\n",
       "\n",
       "    .dataframe tbody tr th {\n",
       "        vertical-align: top;\n",
       "    }\n",
       "\n",
       "    .dataframe thead th {\n",
       "        text-align: right;\n",
       "    }\n",
       "</style>\n",
       "<table border=\"1\" class=\"dataframe\">\n",
       "  <thead>\n",
       "    <tr style=\"text-align: right;\">\n",
       "      <th></th>\n",
       "      <th>model</th>\n",
       "      <th>year</th>\n",
       "      <th>price</th>\n",
       "      <th>transmission</th>\n",
       "      <th>mileage</th>\n",
       "      <th>fuel type</th>\n",
       "      <th>engine size</th>\n",
       "      <th>mileage2</th>\n",
       "      <th>fuel type2</th>\n",
       "      <th>engine size2</th>\n",
       "      <th>reference</th>\n",
       "    </tr>\n",
       "  </thead>\n",
       "  <tbody>\n",
       "    <tr>\n",
       "      <th>10</th>\n",
       "      <td>C Class</td>\n",
       "      <td>2013</td>\n",
       "      <td>9995</td>\n",
       "      <td>Automatic</td>\n",
       "      <td>44,900</td>\n",
       "      <td>29</td>\n",
       "      <td>£160</td>\n",
       "      <td>46.3</td>\n",
       "      <td>Petrol</td>\n",
       "      <td>1.6</td>\n",
       "      <td>/ad/25128085</td>\n",
       "    </tr>\n",
       "    <tr>\n",
       "      <th>11</th>\n",
       "      <td>C Class</td>\n",
       "      <td>2012</td>\n",
       "      <td>6995</td>\n",
       "      <td>Automatic</td>\n",
       "      <td>88,200</td>\n",
       "      <td>34</td>\n",
       "      <td>£125</td>\n",
       "      <td>58.9</td>\n",
       "      <td>Diesel</td>\n",
       "      <td>2.1</td>\n",
       "      <td>/ad/23763610</td>\n",
       "    </tr>\n",
       "    <tr>\n",
       "      <th>12</th>\n",
       "      <td>C Class</td>\n",
       "      <td>2012</td>\n",
       "      <td>7495</td>\n",
       "      <td>Automatic</td>\n",
       "      <td>115,000</td>\n",
       "      <td>37</td>\n",
       "      <td>£145</td>\n",
       "      <td>54.3</td>\n",
       "      <td>Diesel</td>\n",
       "      <td>2.1</td>\n",
       "      <td>/ad/24626603</td>\n",
       "    </tr>\n",
       "    <tr>\n",
       "      <th>13</th>\n",
       "      <td>C Class</td>\n",
       "      <td>2011</td>\n",
       "      <td>8995</td>\n",
       "      <td>Automatic</td>\n",
       "      <td>69,250</td>\n",
       "      <td>29</td>\n",
       "      <td>£150</td>\n",
       "      <td>53.3</td>\n",
       "      <td>Diesel</td>\n",
       "      <td>2.1</td>\n",
       "      <td>/ad/25462537</td>\n",
       "    </tr>\n",
       "    <tr>\n",
       "      <th>14</th>\n",
       "      <td>C Class</td>\n",
       "      <td>2015</td>\n",
       "      <td>14995</td>\n",
       "      <td>Automatic</td>\n",
       "      <td>49,850</td>\n",
       "      <td>31</td>\n",
       "      <td>£30</td>\n",
       "      <td>62.8</td>\n",
       "      <td>Diesel</td>\n",
       "      <td>2.1</td>\n",
       "      <td>/ad/25479169</td>\n",
       "    </tr>\n",
       "  </tbody>\n",
       "</table>\n",
       "</div>"
      ],
      "text/plain": [
       "       model  year  price transmission  mileage fuel type engine size  \\\n",
       "10   C Class  2013   9995    Automatic   44,900        29        £160   \n",
       "11   C Class  2012   6995    Automatic   88,200        34        £125   \n",
       "12   C Class  2012   7495    Automatic  115,000        37        £145   \n",
       "13   C Class  2011   8995    Automatic   69,250        29        £150   \n",
       "14   C Class  2015  14995    Automatic   49,850        31         £30   \n",
       "\n",
       "    mileage2 fuel type2 engine size2     reference  \n",
       "10      46.3     Petrol          1.6  /ad/25128085  \n",
       "11      58.9     Diesel          2.1  /ad/23763610  \n",
       "12      54.3     Diesel          2.1  /ad/24626603  \n",
       "13      53.3     Diesel          2.1  /ad/25462537  \n",
       "14      62.8     Diesel          2.1  /ad/25479169  "
      ]
     },
     "execution_count": 34,
     "metadata": {},
     "output_type": "execute_result"
    }
   ],
   "source": [
    "d1.head()"
   ]
  },
  {
   "cell_type": "code",
   "execution_count": 35,
   "id": "6fdabafe",
   "metadata": {},
   "outputs": [
    {
     "data": {
      "text/plain": [
       "(1208, 11)"
      ]
     },
     "execution_count": 35,
     "metadata": {},
     "output_type": "execute_result"
    }
   ],
   "source": [
    "d1.shape"
   ]
  },
  {
   "cell_type": "code",
   "execution_count": 36,
   "id": "19242896",
   "metadata": {},
   "outputs": [],
   "source": [
    "d1['mileage'] = d1['mileage'].str.replace(',','')"
   ]
  },
  {
   "cell_type": "code",
   "execution_count": 37,
   "id": "544b9930",
   "metadata": {},
   "outputs": [
    {
     "data": {
      "text/html": [
       "<div>\n",
       "<style scoped>\n",
       "    .dataframe tbody tr th:only-of-type {\n",
       "        vertical-align: middle;\n",
       "    }\n",
       "\n",
       "    .dataframe tbody tr th {\n",
       "        vertical-align: top;\n",
       "    }\n",
       "\n",
       "    .dataframe thead th {\n",
       "        text-align: right;\n",
       "    }\n",
       "</style>\n",
       "<table border=\"1\" class=\"dataframe\">\n",
       "  <thead>\n",
       "    <tr style=\"text-align: right;\">\n",
       "      <th></th>\n",
       "      <th>model</th>\n",
       "      <th>year</th>\n",
       "      <th>price</th>\n",
       "      <th>transmission</th>\n",
       "      <th>mileage</th>\n",
       "      <th>fuel type</th>\n",
       "      <th>engine size</th>\n",
       "      <th>mileage2</th>\n",
       "      <th>fuel type2</th>\n",
       "      <th>engine size2</th>\n",
       "      <th>reference</th>\n",
       "    </tr>\n",
       "  </thead>\n",
       "  <tbody>\n",
       "    <tr>\n",
       "      <th>10</th>\n",
       "      <td>C Class</td>\n",
       "      <td>2013</td>\n",
       "      <td>9995</td>\n",
       "      <td>Automatic</td>\n",
       "      <td>44900</td>\n",
       "      <td>29</td>\n",
       "      <td>£160</td>\n",
       "      <td>46.3</td>\n",
       "      <td>Petrol</td>\n",
       "      <td>1.6</td>\n",
       "      <td>/ad/25128085</td>\n",
       "    </tr>\n",
       "    <tr>\n",
       "      <th>11</th>\n",
       "      <td>C Class</td>\n",
       "      <td>2012</td>\n",
       "      <td>6995</td>\n",
       "      <td>Automatic</td>\n",
       "      <td>88200</td>\n",
       "      <td>34</td>\n",
       "      <td>£125</td>\n",
       "      <td>58.9</td>\n",
       "      <td>Diesel</td>\n",
       "      <td>2.1</td>\n",
       "      <td>/ad/23763610</td>\n",
       "    </tr>\n",
       "    <tr>\n",
       "      <th>12</th>\n",
       "      <td>C Class</td>\n",
       "      <td>2012</td>\n",
       "      <td>7495</td>\n",
       "      <td>Automatic</td>\n",
       "      <td>115000</td>\n",
       "      <td>37</td>\n",
       "      <td>£145</td>\n",
       "      <td>54.3</td>\n",
       "      <td>Diesel</td>\n",
       "      <td>2.1</td>\n",
       "      <td>/ad/24626603</td>\n",
       "    </tr>\n",
       "    <tr>\n",
       "      <th>13</th>\n",
       "      <td>C Class</td>\n",
       "      <td>2011</td>\n",
       "      <td>8995</td>\n",
       "      <td>Automatic</td>\n",
       "      <td>69250</td>\n",
       "      <td>29</td>\n",
       "      <td>£150</td>\n",
       "      <td>53.3</td>\n",
       "      <td>Diesel</td>\n",
       "      <td>2.1</td>\n",
       "      <td>/ad/25462537</td>\n",
       "    </tr>\n",
       "    <tr>\n",
       "      <th>14</th>\n",
       "      <td>C Class</td>\n",
       "      <td>2015</td>\n",
       "      <td>14995</td>\n",
       "      <td>Automatic</td>\n",
       "      <td>49850</td>\n",
       "      <td>31</td>\n",
       "      <td>£30</td>\n",
       "      <td>62.8</td>\n",
       "      <td>Diesel</td>\n",
       "      <td>2.1</td>\n",
       "      <td>/ad/25479169</td>\n",
       "    </tr>\n",
       "    <tr>\n",
       "      <th>...</th>\n",
       "      <td>...</td>\n",
       "      <td>...</td>\n",
       "      <td>...</td>\n",
       "      <td>...</td>\n",
       "      <td>...</td>\n",
       "      <td>...</td>\n",
       "      <td>...</td>\n",
       "      <td>...</td>\n",
       "      <td>...</td>\n",
       "      <td>...</td>\n",
       "      <td>...</td>\n",
       "    </tr>\n",
       "    <tr>\n",
       "      <th>4001</th>\n",
       "      <td>C Class</td>\n",
       "      <td>2017</td>\n",
       "      <td>14700</td>\n",
       "      <td>Manual</td>\n",
       "      <td>31357</td>\n",
       "      <td>25</td>\n",
       "      <td>£150</td>\n",
       "      <td>70.6</td>\n",
       "      <td>Diesel</td>\n",
       "      <td>1.598</td>\n",
       "      <td>/ad/25451436</td>\n",
       "    </tr>\n",
       "    <tr>\n",
       "      <th>4002</th>\n",
       "      <td>C Class</td>\n",
       "      <td>2018</td>\n",
       "      <td>18500</td>\n",
       "      <td>Automatic</td>\n",
       "      <td>28248</td>\n",
       "      <td>31</td>\n",
       "      <td>£150</td>\n",
       "      <td>64.2</td>\n",
       "      <td>Diesel</td>\n",
       "      <td>2.143</td>\n",
       "      <td>/ad/25451481</td>\n",
       "    </tr>\n",
       "    <tr>\n",
       "      <th>4003</th>\n",
       "      <td>C Class</td>\n",
       "      <td>2014</td>\n",
       "      <td>11900</td>\n",
       "      <td>Manual</td>\n",
       "      <td>48055</td>\n",
       "      <td>31</td>\n",
       "      <td>£20</td>\n",
       "      <td>65.7</td>\n",
       "      <td>Diesel</td>\n",
       "      <td>2.143</td>\n",
       "      <td>/ad/25057204</td>\n",
       "    </tr>\n",
       "    <tr>\n",
       "      <th>4004</th>\n",
       "      <td>C Class</td>\n",
       "      <td>2014</td>\n",
       "      <td>11300</td>\n",
       "      <td>Automatic</td>\n",
       "      <td>49865</td>\n",
       "      <td>46</td>\n",
       "      <td>£145</td>\n",
       "      <td>56.5</td>\n",
       "      <td>Diesel</td>\n",
       "      <td>2.143</td>\n",
       "      <td>/ad/25144481</td>\n",
       "    </tr>\n",
       "    <tr>\n",
       "      <th>4005</th>\n",
       "      <td>C Class</td>\n",
       "      <td>2014</td>\n",
       "      <td>14800</td>\n",
       "      <td>Automatic</td>\n",
       "      <td>55445</td>\n",
       "      <td>37</td>\n",
       "      <td>£30</td>\n",
       "      <td>64.2</td>\n",
       "      <td>Diesel</td>\n",
       "      <td>2.143</td>\n",
       "      <td>/ad/25154247</td>\n",
       "    </tr>\n",
       "  </tbody>\n",
       "</table>\n",
       "<p>1208 rows × 11 columns</p>\n",
       "</div>"
      ],
      "text/plain": [
       "         model  year  price transmission mileage fuel type engine size  \\\n",
       "10     C Class  2013   9995    Automatic   44900        29        £160   \n",
       "11     C Class  2012   6995    Automatic   88200        34        £125   \n",
       "12     C Class  2012   7495    Automatic  115000        37        £145   \n",
       "13     C Class  2011   8995    Automatic   69250        29        £150   \n",
       "14     C Class  2015  14995    Automatic   49850        31         £30   \n",
       "...        ...   ...    ...          ...     ...       ...         ...   \n",
       "4001   C Class  2017  14700       Manual   31357        25        £150   \n",
       "4002   C Class  2018  18500    Automatic   28248        31        £150   \n",
       "4003   C Class  2014  11900       Manual   48055        31         £20   \n",
       "4004   C Class  2014  11300    Automatic   49865        46        £145   \n",
       "4005   C Class  2014  14800    Automatic   55445        37         £30   \n",
       "\n",
       "      mileage2 fuel type2 engine size2     reference  \n",
       "10        46.3     Petrol          1.6  /ad/25128085  \n",
       "11        58.9     Diesel          2.1  /ad/23763610  \n",
       "12        54.3     Diesel          2.1  /ad/24626603  \n",
       "13        53.3     Diesel          2.1  /ad/25462537  \n",
       "14        62.8     Diesel          2.1  /ad/25479169  \n",
       "...        ...        ...          ...           ...  \n",
       "4001      70.6     Diesel        1.598  /ad/25451436  \n",
       "4002      64.2     Diesel        2.143  /ad/25451481  \n",
       "4003      65.7     Diesel        2.143  /ad/25057204  \n",
       "4004      56.5     Diesel        2.143  /ad/25144481  \n",
       "4005      64.2     Diesel        2.143  /ad/25154247  \n",
       "\n",
       "[1208 rows x 11 columns]"
      ]
     },
     "execution_count": 37,
     "metadata": {},
     "output_type": "execute_result"
    }
   ],
   "source": [
    "d1"
   ]
  },
  {
   "cell_type": "code",
   "execution_count": 45,
   "id": "ab9f1214",
   "metadata": {},
   "outputs": [],
   "source": [
    "d1['mileage']=d1['mileage'].astype(int)"
   ]
  },
  {
   "cell_type": "code",
   "execution_count": 39,
   "id": "d187f891",
   "metadata": {},
   "outputs": [
    {
     "data": {
      "text/plain": [
       "array([ 44900,  88200, 115000, ...,  48055,  49865,  55445])"
      ]
     },
     "execution_count": 39,
     "metadata": {},
     "output_type": "execute_result"
    }
   ],
   "source": [
    "d1['mileage'].unique()"
   ]
  },
  {
   "cell_type": "code",
   "execution_count": 40,
   "id": "8ae78519",
   "metadata": {},
   "outputs": [
    {
     "data": {
      "text/plain": [
       "38196.02731788079"
      ]
     },
     "execution_count": 40,
     "metadata": {},
     "output_type": "execute_result"
    }
   ],
   "source": [
    "d1['mileage'].mean()"
   ]
  },
  {
   "cell_type": "code",
   "execution_count": 43,
   "id": "3f360f01",
   "metadata": {},
   "outputs": [],
   "source": [
    "d1['mileage2']=d1['mileage2'].astype(float)"
   ]
  },
  {
   "cell_type": "code",
   "execution_count": 44,
   "id": "473e0ca2",
   "metadata": {},
   "outputs": [
    {
     "data": {
      "text/html": [
       "<div>\n",
       "<style scoped>\n",
       "    .dataframe tbody tr th:only-of-type {\n",
       "        vertical-align: middle;\n",
       "    }\n",
       "\n",
       "    .dataframe tbody tr th {\n",
       "        vertical-align: top;\n",
       "    }\n",
       "\n",
       "    .dataframe thead th {\n",
       "        text-align: right;\n",
       "    }\n",
       "</style>\n",
       "<table border=\"1\" class=\"dataframe\">\n",
       "  <thead>\n",
       "    <tr style=\"text-align: right;\">\n",
       "      <th></th>\n",
       "      <th>model</th>\n",
       "      <th>year</th>\n",
       "      <th>price</th>\n",
       "      <th>transmission</th>\n",
       "      <th>mileage</th>\n",
       "      <th>fuel type</th>\n",
       "      <th>engine size</th>\n",
       "      <th>mileage2</th>\n",
       "      <th>fuel type2</th>\n",
       "      <th>engine size2</th>\n",
       "      <th>reference</th>\n",
       "    </tr>\n",
       "  </thead>\n",
       "  <tbody>\n",
       "    <tr>\n",
       "      <th>10</th>\n",
       "      <td>C Class</td>\n",
       "      <td>2013</td>\n",
       "      <td>9995</td>\n",
       "      <td>Automatic</td>\n",
       "      <td>44900</td>\n",
       "      <td>29</td>\n",
       "      <td>£160</td>\n",
       "      <td>46.3</td>\n",
       "      <td>Petrol</td>\n",
       "      <td>1.6</td>\n",
       "      <td>/ad/25128085</td>\n",
       "    </tr>\n",
       "    <tr>\n",
       "      <th>11</th>\n",
       "      <td>C Class</td>\n",
       "      <td>2012</td>\n",
       "      <td>6995</td>\n",
       "      <td>Automatic</td>\n",
       "      <td>88200</td>\n",
       "      <td>34</td>\n",
       "      <td>£125</td>\n",
       "      <td>58.9</td>\n",
       "      <td>Diesel</td>\n",
       "      <td>2.1</td>\n",
       "      <td>/ad/23763610</td>\n",
       "    </tr>\n",
       "    <tr>\n",
       "      <th>12</th>\n",
       "      <td>C Class</td>\n",
       "      <td>2012</td>\n",
       "      <td>7495</td>\n",
       "      <td>Automatic</td>\n",
       "      <td>115000</td>\n",
       "      <td>37</td>\n",
       "      <td>£145</td>\n",
       "      <td>54.3</td>\n",
       "      <td>Diesel</td>\n",
       "      <td>2.1</td>\n",
       "      <td>/ad/24626603</td>\n",
       "    </tr>\n",
       "    <tr>\n",
       "      <th>13</th>\n",
       "      <td>C Class</td>\n",
       "      <td>2011</td>\n",
       "      <td>8995</td>\n",
       "      <td>Automatic</td>\n",
       "      <td>69250</td>\n",
       "      <td>29</td>\n",
       "      <td>£150</td>\n",
       "      <td>53.3</td>\n",
       "      <td>Diesel</td>\n",
       "      <td>2.1</td>\n",
       "      <td>/ad/25462537</td>\n",
       "    </tr>\n",
       "    <tr>\n",
       "      <th>14</th>\n",
       "      <td>C Class</td>\n",
       "      <td>2015</td>\n",
       "      <td>14995</td>\n",
       "      <td>Automatic</td>\n",
       "      <td>49850</td>\n",
       "      <td>31</td>\n",
       "      <td>£30</td>\n",
       "      <td>62.8</td>\n",
       "      <td>Diesel</td>\n",
       "      <td>2.1</td>\n",
       "      <td>/ad/25479169</td>\n",
       "    </tr>\n",
       "    <tr>\n",
       "      <th>...</th>\n",
       "      <td>...</td>\n",
       "      <td>...</td>\n",
       "      <td>...</td>\n",
       "      <td>...</td>\n",
       "      <td>...</td>\n",
       "      <td>...</td>\n",
       "      <td>...</td>\n",
       "      <td>...</td>\n",
       "      <td>...</td>\n",
       "      <td>...</td>\n",
       "      <td>...</td>\n",
       "    </tr>\n",
       "    <tr>\n",
       "      <th>4001</th>\n",
       "      <td>C Class</td>\n",
       "      <td>2017</td>\n",
       "      <td>14700</td>\n",
       "      <td>Manual</td>\n",
       "      <td>31357</td>\n",
       "      <td>25</td>\n",
       "      <td>£150</td>\n",
       "      <td>70.6</td>\n",
       "      <td>Diesel</td>\n",
       "      <td>1.598</td>\n",
       "      <td>/ad/25451436</td>\n",
       "    </tr>\n",
       "    <tr>\n",
       "      <th>4002</th>\n",
       "      <td>C Class</td>\n",
       "      <td>2018</td>\n",
       "      <td>18500</td>\n",
       "      <td>Automatic</td>\n",
       "      <td>28248</td>\n",
       "      <td>31</td>\n",
       "      <td>£150</td>\n",
       "      <td>64.2</td>\n",
       "      <td>Diesel</td>\n",
       "      <td>2.143</td>\n",
       "      <td>/ad/25451481</td>\n",
       "    </tr>\n",
       "    <tr>\n",
       "      <th>4003</th>\n",
       "      <td>C Class</td>\n",
       "      <td>2014</td>\n",
       "      <td>11900</td>\n",
       "      <td>Manual</td>\n",
       "      <td>48055</td>\n",
       "      <td>31</td>\n",
       "      <td>£20</td>\n",
       "      <td>65.7</td>\n",
       "      <td>Diesel</td>\n",
       "      <td>2.143</td>\n",
       "      <td>/ad/25057204</td>\n",
       "    </tr>\n",
       "    <tr>\n",
       "      <th>4004</th>\n",
       "      <td>C Class</td>\n",
       "      <td>2014</td>\n",
       "      <td>11300</td>\n",
       "      <td>Automatic</td>\n",
       "      <td>49865</td>\n",
       "      <td>46</td>\n",
       "      <td>£145</td>\n",
       "      <td>56.5</td>\n",
       "      <td>Diesel</td>\n",
       "      <td>2.143</td>\n",
       "      <td>/ad/25144481</td>\n",
       "    </tr>\n",
       "    <tr>\n",
       "      <th>4005</th>\n",
       "      <td>C Class</td>\n",
       "      <td>2014</td>\n",
       "      <td>14800</td>\n",
       "      <td>Automatic</td>\n",
       "      <td>55445</td>\n",
       "      <td>37</td>\n",
       "      <td>£30</td>\n",
       "      <td>64.2</td>\n",
       "      <td>Diesel</td>\n",
       "      <td>2.143</td>\n",
       "      <td>/ad/25154247</td>\n",
       "    </tr>\n",
       "  </tbody>\n",
       "</table>\n",
       "<p>1208 rows × 11 columns</p>\n",
       "</div>"
      ],
      "text/plain": [
       "         model  year  price transmission  mileage fuel type engine size  \\\n",
       "10     C Class  2013   9995    Automatic    44900        29        £160   \n",
       "11     C Class  2012   6995    Automatic    88200        34        £125   \n",
       "12     C Class  2012   7495    Automatic   115000        37        £145   \n",
       "13     C Class  2011   8995    Automatic    69250        29        £150   \n",
       "14     C Class  2015  14995    Automatic    49850        31         £30   \n",
       "...        ...   ...    ...          ...      ...       ...         ...   \n",
       "4001   C Class  2017  14700       Manual    31357        25        £150   \n",
       "4002   C Class  2018  18500    Automatic    28248        31        £150   \n",
       "4003   C Class  2014  11900       Manual    48055        31         £20   \n",
       "4004   C Class  2014  11300    Automatic    49865        46        £145   \n",
       "4005   C Class  2014  14800    Automatic    55445        37         £30   \n",
       "\n",
       "      mileage2 fuel type2 engine size2     reference  \n",
       "10        46.3     Petrol          1.6  /ad/25128085  \n",
       "11        58.9     Diesel          2.1  /ad/23763610  \n",
       "12        54.3     Diesel          2.1  /ad/24626603  \n",
       "13        53.3     Diesel          2.1  /ad/25462537  \n",
       "14        62.8     Diesel          2.1  /ad/25479169  \n",
       "...        ...        ...          ...           ...  \n",
       "4001      70.6     Diesel        1.598  /ad/25451436  \n",
       "4002      64.2     Diesel        2.143  /ad/25451481  \n",
       "4003      65.7     Diesel        2.143  /ad/25057204  \n",
       "4004      56.5     Diesel        2.143  /ad/25144481  \n",
       "4005      64.2     Diesel        2.143  /ad/25154247  \n",
       "\n",
       "[1208 rows x 11 columns]"
      ]
     },
     "execution_count": 44,
     "metadata": {},
     "output_type": "execute_result"
    }
   ],
   "source": [
    "d1[d1['fuel type'].str.isnumeric()]"
   ]
  },
  {
   "cell_type": "code",
   "execution_count": 46,
   "id": "782059f3",
   "metadata": {},
   "outputs": [],
   "source": [
    "d1['fuel type']=d1['fuel type'].astype(int)"
   ]
  },
  {
   "cell_type": "code",
   "execution_count": 47,
   "id": "66ce5f50",
   "metadata": {},
   "outputs": [
    {
     "data": {
      "text/plain": [
       "32.77814569536424"
      ]
     },
     "execution_count": 47,
     "metadata": {},
     "output_type": "execute_result"
    }
   ],
   "source": [
    "d1['fuel type'].mean()"
   ]
  },
  {
   "cell_type": "code",
   "execution_count": 48,
   "id": "5b306632",
   "metadata": {},
   "outputs": [
    {
     "data": {
      "text/plain": [
       "array(['£160', '£125', '£145', '£150', '£30', '£20', '£150  ', '£115',\n",
       "       '£570', '£145  ', '£205', '£300', '£0', '£135', '£165', '£580',\n",
       "       '£200', '£260', '£140', '£230', '£305', '£565', '£325', '£265',\n",
       "       '£235', '£210', '£555', '£290'], dtype=object)"
      ]
     },
     "execution_count": 48,
     "metadata": {},
     "output_type": "execute_result"
    }
   ],
   "source": [
    "d1['engine size'].unique()"
   ]
  },
  {
   "cell_type": "code",
   "execution_count": 49,
   "id": "97f21f4f",
   "metadata": {},
   "outputs": [],
   "source": [
    "d1['engine size'] = d1['engine size'].str.slice(1,4)"
   ]
  },
  {
   "cell_type": "code",
   "execution_count": null,
   "id": "01878723",
   "metadata": {},
   "outputs": [],
   "source": [
    "d1['engine size']"
   ]
  },
  {
   "cell_type": "code",
   "execution_count": null,
   "id": "22b70424",
   "metadata": {},
   "outputs": [],
   "source": [
    "d1['engine size'] = d1['engine size'].astype(int)"
   ]
  },
  {
   "cell_type": "code",
   "execution_count": null,
   "id": "d3f47c55",
   "metadata": {},
   "outputs": [],
   "source": [
    "d1.info"
   ]
  },
  {
   "cell_type": "code",
   "execution_count": null,
   "id": "358bca1d",
   "metadata": {},
   "outputs": [],
   "source": [
    "d1.head()"
   ]
  },
  {
   "cell_type": "code",
   "execution_count": null,
   "id": "6cc6c8a4",
   "metadata": {},
   "outputs": [],
   "source": [
    "d1 = d1.drop('reference',axis=1)"
   ]
  },
  {
   "cell_type": "code",
   "execution_count": null,
   "id": "ac58399a",
   "metadata": {
    "scrolled": false
   },
   "outputs": [],
   "source": [
    "d1.dtypes"
   ]
  },
  {
   "cell_type": "code",
   "execution_count": 41,
   "id": "ac742d11",
   "metadata": {},
   "outputs": [
    {
     "data": {
      "text/html": [
       "<div>\n",
       "<style scoped>\n",
       "    .dataframe tbody tr th:only-of-type {\n",
       "        vertical-align: middle;\n",
       "    }\n",
       "\n",
       "    .dataframe tbody tr th {\n",
       "        vertical-align: top;\n",
       "    }\n",
       "\n",
       "    .dataframe thead th {\n",
       "        text-align: right;\n",
       "    }\n",
       "</style>\n",
       "<table border=\"1\" class=\"dataframe\">\n",
       "  <thead>\n",
       "    <tr style=\"text-align: right;\">\n",
       "      <th></th>\n",
       "      <th>model</th>\n",
       "      <th>year</th>\n",
       "      <th>price</th>\n",
       "      <th>transmission</th>\n",
       "      <th>mileage</th>\n",
       "      <th>fuel type</th>\n",
       "      <th>engine size</th>\n",
       "      <th>mileage2</th>\n",
       "      <th>fuel type2</th>\n",
       "      <th>engine size2</th>\n",
       "      <th>reference</th>\n",
       "    </tr>\n",
       "  </thead>\n",
       "  <tbody>\n",
       "    <tr>\n",
       "      <th>3527</th>\n",
       "      <td>C Class</td>\n",
       "      <td>2017</td>\n",
       "      <td>19995</td>\n",
       "      <td>Automatic</td>\n",
       "      <td>8020</td>\n",
       "      <td>32</td>\n",
       "      <td>£145</td>\n",
       "      <td>49.6</td>\n",
       "      <td>Petrol</td>\n",
       "      <td>Unknown</td>\n",
       "      <td>/ad/24843317</td>\n",
       "    </tr>\n",
       "  </tbody>\n",
       "</table>\n",
       "</div>"
      ],
      "text/plain": [
       "         model  year  price transmission  mileage fuel type engine size  \\\n",
       "3527   C Class  2017  19995    Automatic     8020        32        £145   \n",
       "\n",
       "      mileage2 fuel type2 engine size2     reference  \n",
       "3527      49.6     Petrol      Unknown  /ad/24843317  "
      ]
     },
     "execution_count": 41,
     "metadata": {},
     "output_type": "execute_result"
    }
   ],
   "source": [
    "d1[d1['engine size2']=='Unknown']\n",
    "#d1['engine size2'] = d1['engine size2'].astype(float)"
   ]
  },
  {
   "cell_type": "code",
   "execution_count": 42,
   "id": "3f40667e",
   "metadata": {},
   "outputs": [
    {
     "data": {
      "text/html": [
       "<div>\n",
       "<style scoped>\n",
       "    .dataframe tbody tr th:only-of-type {\n",
       "        vertical-align: middle;\n",
       "    }\n",
       "\n",
       "    .dataframe tbody tr th {\n",
       "        vertical-align: top;\n",
       "    }\n",
       "\n",
       "    .dataframe thead th {\n",
       "        text-align: right;\n",
       "    }\n",
       "</style>\n",
       "<table border=\"1\" class=\"dataframe\">\n",
       "  <thead>\n",
       "    <tr style=\"text-align: right;\">\n",
       "      <th></th>\n",
       "      <th>model</th>\n",
       "      <th>year</th>\n",
       "      <th>price</th>\n",
       "      <th>transmission</th>\n",
       "      <th>mileage</th>\n",
       "      <th>fuel type</th>\n",
       "      <th>engine size</th>\n",
       "      <th>mileage2</th>\n",
       "      <th>fuel type2</th>\n",
       "      <th>engine size2</th>\n",
       "      <th>reference</th>\n",
       "    </tr>\n",
       "  </thead>\n",
       "  <tbody>\n",
       "  </tbody>\n",
       "</table>\n",
       "</div>"
      ],
      "text/plain": [
       "Empty DataFrame\n",
       "Columns: [model, year, price, transmission, mileage, fuel type, engine size, mileage2, fuel type2, engine size2, reference]\n",
       "Index: []"
      ]
     },
     "execution_count": 42,
     "metadata": {},
     "output_type": "execute_result"
    }
   ],
   "source": [
    "d1[d1['engine size2']=='unknown']"
   ]
  },
  {
   "cell_type": "code",
   "execution_count": null,
   "id": "8b45aa20",
   "metadata": {},
   "outputs": [],
   "source": [
    "d1.drop(3527,axis=0,inplace=True)"
   ]
  },
  {
   "cell_type": "code",
   "execution_count": null,
   "id": "11afaf94",
   "metadata": {},
   "outputs": [],
   "source": [
    "d1.shape"
   ]
  },
  {
   "cell_type": "code",
   "execution_count": null,
   "id": "5844553b",
   "metadata": {},
   "outputs": [],
   "source": [
    "d1['engine size2'] = d1['engine size2'].astype(float)"
   ]
  },
  {
   "cell_type": "code",
   "execution_count": null,
   "id": "e8652cad",
   "metadata": {},
   "outputs": [],
   "source": [
    "d1.head()"
   ]
  },
  {
   "cell_type": "code",
   "execution_count": null,
   "id": "75a78b4c",
   "metadata": {},
   "outputs": [],
   "source": [
    "d1['transmission'].unique()"
   ]
  },
  {
   "cell_type": "code",
   "execution_count": 50,
   "id": "d50e87e0",
   "metadata": {},
   "outputs": [
    {
     "data": {
      "text/plain": [
       "array(['Petrol', 'Diesel', 'Hybrid', 'Other'], dtype=object)"
      ]
     },
     "execution_count": 50,
     "metadata": {},
     "output_type": "execute_result"
    }
   ],
   "source": [
    "d1['fuel type2'].unique()"
   ]
  },
  {
   "cell_type": "code",
   "execution_count": null,
   "id": "d037f98b",
   "metadata": {},
   "outputs": [],
   "source": [
    "d1['fuel type'].unique()"
   ]
  },
  {
   "cell_type": "code",
   "execution_count": null,
   "id": "131adc45",
   "metadata": {},
   "outputs": [],
   "source": [
    "d1.reset_index()"
   ]
  },
  {
   "cell_type": "code",
   "execution_count": null,
   "id": "9294bbe1",
   "metadata": {},
   "outputs": [],
   "source": [
    "d1.reset_index(drop=True)"
   ]
  },
  {
   "cell_type": "code",
   "execution_count": null,
   "id": "2256dc28",
   "metadata": {},
   "outputs": [],
   "source": [
    "d1.info()"
   ]
  },
  {
   "cell_type": "code",
   "execution_count": null,
   "id": "23c89889",
   "metadata": {},
   "outputs": [],
   "source": [
    "sns.boxplot(d1['price'])"
   ]
  },
  {
   "cell_type": "code",
   "execution_count": null,
   "id": "cf990245",
   "metadata": {},
   "outputs": [],
   "source": [
    "d1[d1['price']>35000]"
   ]
  },
  {
   "cell_type": "code",
   "execution_count": null,
   "id": "02643ae4",
   "metadata": {},
   "outputs": [],
   "source": [
    "d1.drop(2957,axis=0)"
   ]
  },
  {
   "cell_type": "code",
   "execution_count": null,
   "id": "f1bcd47e",
   "metadata": {},
   "outputs": [],
   "source": [
    "d1.reset_index(drop=True,inplace=True)"
   ]
  },
  {
   "cell_type": "code",
   "execution_count": null,
   "id": "3eeedc27",
   "metadata": {},
   "outputs": [],
   "source": [
    "d1.drop('index',axis=1,inplace=True)"
   ]
  },
  {
   "cell_type": "code",
   "execution_count": null,
   "id": "8b96a8cc",
   "metadata": {},
   "outputs": [],
   "source": [
    "d1"
   ]
  },
  {
   "cell_type": "code",
   "execution_count": null,
   "id": "e1997d84",
   "metadata": {},
   "outputs": [],
   "source": [
    "d1.to_csv('duplicate_housing.csv')"
   ]
  },
  {
   "cell_type": "code",
   "execution_count": null,
   "id": "9055c732",
   "metadata": {},
   "outputs": [],
   "source": [
    "from sklearn.preprocessing import OneHotEncoder\n",
    "from sklearn.compose import make_column_transformer\n",
    "from sklearn.pipeline import make_pipeline\n",
    "from sklearn.metrics import r2_score\n",
    "from sklearn.model_selection import train_test_split\n",
    "from sklearn.linear_model import LinearRegression\n"
   ]
  },
  {
   "cell_type": "code",
   "execution_count": null,
   "id": "971f583d",
   "metadata": {},
   "outputs": [],
   "source": [
    "# x = car1.drop(columns='Price')\n",
    "# y=car1['Price']"
   ]
  },
  {
   "cell_type": "code",
   "execution_count": null,
   "id": "76b7e882",
   "metadata": {},
   "outputs": [],
   "source": [
    "# x_train, x_test,y_train,y_test = train_test_split(x,y,test_size=0.2) "
   ]
  },
  {
   "cell_type": "code",
   "execution_count": null,
   "id": "cf13971c",
   "metadata": {},
   "outputs": [],
   "source": [
    "ohe = OneHotEncoder()"
   ]
  },
  {
   "cell_type": "code",
   "execution_count": null,
   "id": "526515c9",
   "metadata": {},
   "outputs": [],
   "source": [
    "ohe.fit(d1[['transmission','fuel type2']])"
   ]
  },
  {
   "cell_type": "code",
   "execution_count": null,
   "id": "ce0f13c3",
   "metadata": {},
   "outputs": [],
   "source": [
    "ohe.categories_"
   ]
  },
  {
   "cell_type": "code",
   "execution_count": null,
   "id": "fa12a639",
   "metadata": {},
   "outputs": [],
   "source": [
    "column_trans=make_column_transformer((OneHotEncoder(categories=ohe.categories_),['transmission','fuel type2']),\n",
    "                                    remainder='passthrough')"
   ]
  },
  {
   "cell_type": "code",
   "execution_count": null,
   "id": "3ab3707a",
   "metadata": {},
   "outputs": [],
   "source": [
    "lr = LinearRegression()"
   ]
  },
  {
   "cell_type": "code",
   "execution_count": null,
   "id": "deb77339",
   "metadata": {},
   "outputs": [],
   "source": [
    "pipe=make_pipeline(column_trans,lr)"
   ]
  },
  {
   "cell_type": "code",
   "execution_count": null,
   "id": "4bd74f22",
   "metadata": {},
   "outputs": [],
   "source": [
    "ohe.categories_"
   ]
  },
  {
   "cell_type": "code",
   "execution_count": null,
   "id": "bd3589e5",
   "metadata": {},
   "outputs": [],
   "source": []
  },
  {
   "cell_type": "code",
   "execution_count": null,
   "id": "8439c2f0",
   "metadata": {},
   "outputs": [],
   "source": []
  }
 ],
 "metadata": {
  "kernelspec": {
   "display_name": "Python 3 (ipykernel)",
   "language": "python",
   "name": "python3"
  },
  "language_info": {
   "codemirror_mode": {
    "name": "ipython",
    "version": 3
   },
   "file_extension": ".py",
   "mimetype": "text/x-python",
   "name": "python",
   "nbconvert_exporter": "python",
   "pygments_lexer": "ipython3",
   "version": "3.9.12"
  }
 },
 "nbformat": 4,
 "nbformat_minor": 5
}
