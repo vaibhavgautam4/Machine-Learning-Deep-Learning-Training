{
 "cells": [
  {
   "cell_type": "code",
   "execution_count": 33,
   "id": "c48baa53",
   "metadata": {},
   "outputs": [],
   "source": [
    "import numpy as np\n",
    "import pandas as pd\n",
    "import matplotlib.pyplot as plt\n",
    "import seaborn as sns\n",
    "%matplotlib inline"
   ]
  },
  {
   "cell_type": "code",
   "execution_count": 26,
   "id": "3829d024",
   "metadata": {},
   "outputs": [
    {
     "data": {
      "text/html": [
       "<div>\n",
       "<style scoped>\n",
       "    .dataframe tbody tr th:only-of-type {\n",
       "        vertical-align: middle;\n",
       "    }\n",
       "\n",
       "    .dataframe tbody tr th {\n",
       "        vertical-align: top;\n",
       "    }\n",
       "\n",
       "    .dataframe thead th {\n",
       "        text-align: right;\n",
       "    }\n",
       "</style>\n",
       "<table border=\"1\" class=\"dataframe\">\n",
       "  <thead>\n",
       "    <tr style=\"text-align: right;\">\n",
       "      <th></th>\n",
       "      <th>Impressions</th>\n",
       "      <th>From Home</th>\n",
       "      <th>From Hashtags</th>\n",
       "      <th>From Explore</th>\n",
       "      <th>From Other</th>\n",
       "      <th>Saves</th>\n",
       "      <th>Comments</th>\n",
       "      <th>Shares</th>\n",
       "      <th>Likes</th>\n",
       "      <th>Profile Visits</th>\n",
       "      <th>Follows</th>\n",
       "      <th>Caption</th>\n",
       "      <th>Hashtags</th>\n",
       "    </tr>\n",
       "  </thead>\n",
       "  <tbody>\n",
       "    <tr>\n",
       "      <th>0</th>\n",
       "      <td>3920.0</td>\n",
       "      <td>2586.0</td>\n",
       "      <td>1028.0</td>\n",
       "      <td>619.0</td>\n",
       "      <td>56.0</td>\n",
       "      <td>98.0</td>\n",
       "      <td>9.0</td>\n",
       "      <td>5.0</td>\n",
       "      <td>162.0</td>\n",
       "      <td>35.0</td>\n",
       "      <td>2.0</td>\n",
       "      <td>Here are some of the most important data visua...</td>\n",
       "      <td>#finance #money #business #investing #investme...</td>\n",
       "    </tr>\n",
       "    <tr>\n",
       "      <th>1</th>\n",
       "      <td>5394.0</td>\n",
       "      <td>2727.0</td>\n",
       "      <td>1838.0</td>\n",
       "      <td>1174.0</td>\n",
       "      <td>78.0</td>\n",
       "      <td>194.0</td>\n",
       "      <td>7.0</td>\n",
       "      <td>14.0</td>\n",
       "      <td>224.0</td>\n",
       "      <td>48.0</td>\n",
       "      <td>10.0</td>\n",
       "      <td>Here are some of the best data science project...</td>\n",
       "      <td>#healthcare #health #covid #data #datascience ...</td>\n",
       "    </tr>\n",
       "    <tr>\n",
       "      <th>2</th>\n",
       "      <td>4021.0</td>\n",
       "      <td>2085.0</td>\n",
       "      <td>1188.0</td>\n",
       "      <td>0.0</td>\n",
       "      <td>533.0</td>\n",
       "      <td>41.0</td>\n",
       "      <td>11.0</td>\n",
       "      <td>1.0</td>\n",
       "      <td>131.0</td>\n",
       "      <td>62.0</td>\n",
       "      <td>12.0</td>\n",
       "      <td>Learn how to train a machine learning model an...</td>\n",
       "      <td>#data #datascience #dataanalysis #dataanalytic...</td>\n",
       "    </tr>\n",
       "    <tr>\n",
       "      <th>3</th>\n",
       "      <td>4528.0</td>\n",
       "      <td>2700.0</td>\n",
       "      <td>621.0</td>\n",
       "      <td>932.0</td>\n",
       "      <td>73.0</td>\n",
       "      <td>172.0</td>\n",
       "      <td>10.0</td>\n",
       "      <td>7.0</td>\n",
       "      <td>213.0</td>\n",
       "      <td>23.0</td>\n",
       "      <td>8.0</td>\n",
       "      <td>Heres how you can write a Python program to d...</td>\n",
       "      <td>#python #pythonprogramming #pythonprojects #py...</td>\n",
       "    </tr>\n",
       "    <tr>\n",
       "      <th>4</th>\n",
       "      <td>2518.0</td>\n",
       "      <td>1704.0</td>\n",
       "      <td>255.0</td>\n",
       "      <td>279.0</td>\n",
       "      <td>37.0</td>\n",
       "      <td>96.0</td>\n",
       "      <td>5.0</td>\n",
       "      <td>4.0</td>\n",
       "      <td>123.0</td>\n",
       "      <td>8.0</td>\n",
       "      <td>0.0</td>\n",
       "      <td>Plotting annotations while visualizing your da...</td>\n",
       "      <td>#datavisualization #datascience #data #dataana...</td>\n",
       "    </tr>\n",
       "  </tbody>\n",
       "</table>\n",
       "</div>"
      ],
      "text/plain": [
       "   Impressions  From Home  From Hashtags  From Explore  From Other  Saves  \\\n",
       "0       3920.0     2586.0         1028.0         619.0        56.0   98.0   \n",
       "1       5394.0     2727.0         1838.0        1174.0        78.0  194.0   \n",
       "2       4021.0     2085.0         1188.0           0.0       533.0   41.0   \n",
       "3       4528.0     2700.0          621.0         932.0        73.0  172.0   \n",
       "4       2518.0     1704.0          255.0         279.0        37.0   96.0   \n",
       "\n",
       "   Comments  Shares  Likes  Profile Visits  Follows  \\\n",
       "0       9.0     5.0  162.0            35.0      2.0   \n",
       "1       7.0    14.0  224.0            48.0     10.0   \n",
       "2      11.0     1.0  131.0            62.0     12.0   \n",
       "3      10.0     7.0  213.0            23.0      8.0   \n",
       "4       5.0     4.0  123.0             8.0      0.0   \n",
       "\n",
       "                                             Caption  \\\n",
       "0  Here are some of the most important data visua...   \n",
       "1  Here are some of the best data science project...   \n",
       "2  Learn how to train a machine learning model an...   \n",
       "3  Heres how you can write a Python program to d...   \n",
       "4  Plotting annotations while visualizing your da...   \n",
       "\n",
       "                                            Hashtags  \n",
       "0  #finance #money #business #investing #investme...  \n",
       "1  #healthcare #health #covid #data #datascience ...  \n",
       "2  #data #datascience #dataanalysis #dataanalytic...  \n",
       "3  #python #pythonprogramming #pythonprojects #py...  \n",
       "4  #datavisualization #datascience #data #dataana...  "
      ]
     },
     "execution_count": 26,
     "metadata": {},
     "output_type": "execute_result"
    }
   ],
   "source": [
    "# loading the csv file containing data\n",
    "data = pd.read_csv('https://raw.githubusercontent.com/amankharwal/Website-data/master/Instagram.csv',encoding='latin-1')\n",
    "data.head()"
   ]
  },
  {
   "cell_type": "code",
   "execution_count": 6,
   "id": "bf7c2dad",
   "metadata": {},
   "outputs": [
    {
     "data": {
      "text/plain": [
       "Index(['Impressions', 'From Home', 'From Hashtags', 'From Explore',\n",
       "       'From Other', 'Saves', 'Comments', 'Shares', 'Likes', 'Profile Visits',\n",
       "       'Follows', 'Caption', 'Hashtags'],\n",
       "      dtype='object')"
      ]
     },
     "execution_count": 6,
     "metadata": {},
     "output_type": "execute_result"
    }
   ],
   "source": [
    "# understanding the different attributes it contains \n",
    "data.columns"
   ]
  },
  {
   "cell_type": "code",
   "execution_count": 7,
   "id": "6c934484",
   "metadata": {},
   "outputs": [
    {
     "name": "stdout",
     "output_type": "stream",
     "text": [
      "<class 'pandas.core.frame.DataFrame'>\n",
      "RangeIndex: 100 entries, 0 to 99\n",
      "Data columns (total 13 columns):\n",
      " #   Column          Non-Null Count  Dtype  \n",
      "---  ------          --------------  -----  \n",
      " 0   Impressions     99 non-null     float64\n",
      " 1   From Home       99 non-null     float64\n",
      " 2   From Hashtags   99 non-null     float64\n",
      " 3   From Explore    99 non-null     float64\n",
      " 4   From Other      99 non-null     float64\n",
      " 5   Saves           99 non-null     float64\n",
      " 6   Comments        99 non-null     float64\n",
      " 7   Shares          99 non-null     float64\n",
      " 8   Likes           99 non-null     float64\n",
      " 9   Profile Visits  99 non-null     float64\n",
      " 10  Follows         99 non-null     float64\n",
      " 11  Caption         99 non-null     object \n",
      " 12  Hashtags        99 non-null     object \n",
      "dtypes: float64(11), object(2)\n",
      "memory usage: 10.3+ KB\n"
     ]
    }
   ],
   "source": [
    "# understanding the kind of data each column contains\n",
    "data.info()"
   ]
  },
  {
   "cell_type": "code",
   "execution_count": 8,
   "id": "37752653",
   "metadata": {},
   "outputs": [
    {
     "data": {
      "text/plain": [
       "<bound method NDFrame.describe of     Impressions  From Home  From Hashtags  From Explore  From Other  Saves  \\\n",
       "0        3920.0     2586.0         1028.0         619.0        56.0   98.0   \n",
       "1        5394.0     2727.0         1838.0        1174.0        78.0  194.0   \n",
       "2        4021.0     2085.0         1188.0           0.0       533.0   41.0   \n",
       "3        4528.0     2700.0          621.0         932.0        73.0  172.0   \n",
       "4        2518.0     1704.0          255.0         279.0        37.0   96.0   \n",
       "..          ...        ...            ...           ...         ...    ...   \n",
       "95       5394.0     2275.0         2975.0          45.0        65.0   61.0   \n",
       "96       2766.0     2541.0          116.0          51.0         9.0   40.0   \n",
       "97       3924.0     2244.0         1278.0         326.0        34.0  139.0   \n",
       "98       3015.0     2034.0          771.0         115.0        41.0   52.0   \n",
       "99          NaN        NaN            NaN           NaN         NaN    NaN   \n",
       "\n",
       "    Comments  Shares  Likes  Profile Visits  Follows  \\\n",
       "0        9.0     5.0  162.0            35.0      2.0   \n",
       "1        7.0    14.0  224.0            48.0     10.0   \n",
       "2       11.0     1.0  131.0            62.0     12.0   \n",
       "3       10.0     7.0  213.0            23.0      8.0   \n",
       "4        5.0     4.0  123.0             8.0      0.0   \n",
       "..       ...     ...    ...             ...      ...   \n",
       "95      19.0     6.0  147.0            69.0      6.0   \n",
       "96      10.0     4.0  114.0            11.0      6.0   \n",
       "97      11.0     3.0  151.0            19.0      2.0   \n",
       "98      11.0     4.0   92.0             9.0      2.0   \n",
       "99       NaN     NaN    NaN             NaN      NaN   \n",
       "\n",
       "                                              Caption  \\\n",
       "0   Here are some of the most important data visua...   \n",
       "1   Here are some of the best data science project...   \n",
       "2   Learn how to train a machine learning model an...   \n",
       "3   Heres how you can write a Python program to d...   \n",
       "4   Plotting annotations while visualizing your da...   \n",
       "..                                                ...   \n",
       "95  You must have heard or invested in any cryptoc...   \n",
       "96  Here are all the programming languages that Fa...   \n",
       "97  Here are some of the most popular data science...   \n",
       "98  Heres how Amazon uses your data as an e-comme...   \n",
       "99                                                NaN   \n",
       "\n",
       "                                             Hashtags  \n",
       "0   #finance #money #business #investing #investme...  \n",
       "1   #healthcare #health #covid #data #datascience ...  \n",
       "2   #data #datascience #dataanalysis #dataanalytic...  \n",
       "3   #python #pythonprogramming #pythonprojects #py...  \n",
       "4   #datavisualization #datascience #data #dataana...  \n",
       "..                                                ...  \n",
       "95  #data #datascience #dataanalysis #dataanalytic...  \n",
       "96  #programming #coding #programmer #python #deve...  \n",
       "97  #data #datascience #dataanalysis #dataanalytic...  \n",
       "98  #data #datascience #dataanalysis #dataanalytic...  \n",
       "99                                                NaN  \n",
       "\n",
       "[100 rows x 13 columns]>"
      ]
     },
     "execution_count": 8,
     "metadata": {},
     "output_type": "execute_result"
    }
   ],
   "source": [
    "# describing the data\n",
    "data.describe"
   ]
  },
  {
   "cell_type": "code",
   "execution_count": 9,
   "id": "a76c56f8",
   "metadata": {},
   "outputs": [
    {
     "data": {
      "text/html": [
       "<div>\n",
       "<style scoped>\n",
       "    .dataframe tbody tr th:only-of-type {\n",
       "        vertical-align: middle;\n",
       "    }\n",
       "\n",
       "    .dataframe tbody tr th {\n",
       "        vertical-align: top;\n",
       "    }\n",
       "\n",
       "    .dataframe thead th {\n",
       "        text-align: right;\n",
       "    }\n",
       "</style>\n",
       "<table border=\"1\" class=\"dataframe\">\n",
       "  <thead>\n",
       "    <tr style=\"text-align: right;\">\n",
       "      <th></th>\n",
       "      <th>Impressions</th>\n",
       "      <th>From Home</th>\n",
       "      <th>From Hashtags</th>\n",
       "      <th>From Explore</th>\n",
       "      <th>From Other</th>\n",
       "      <th>Saves</th>\n",
       "      <th>Comments</th>\n",
       "      <th>Shares</th>\n",
       "      <th>Likes</th>\n",
       "      <th>Profile Visits</th>\n",
       "      <th>Follows</th>\n",
       "    </tr>\n",
       "  </thead>\n",
       "  <tbody>\n",
       "    <tr>\n",
       "      <th>count</th>\n",
       "      <td>99.000000</td>\n",
       "      <td>99.000000</td>\n",
       "      <td>99.000000</td>\n",
       "      <td>99.000000</td>\n",
       "      <td>99.000000</td>\n",
       "      <td>99.000000</td>\n",
       "      <td>99.000000</td>\n",
       "      <td>99.00000</td>\n",
       "      <td>99.000000</td>\n",
       "      <td>99.000000</td>\n",
       "      <td>99.000000</td>\n",
       "    </tr>\n",
       "    <tr>\n",
       "      <th>mean</th>\n",
       "      <td>4644.131313</td>\n",
       "      <td>2267.808081</td>\n",
       "      <td>1738.252525</td>\n",
       "      <td>417.040404</td>\n",
       "      <td>137.242424</td>\n",
       "      <td>126.909091</td>\n",
       "      <td>6.959596</td>\n",
       "      <td>8.00000</td>\n",
       "      <td>160.333333</td>\n",
       "      <td>38.424242</td>\n",
       "      <td>11.979798</td>\n",
       "    </tr>\n",
       "    <tr>\n",
       "      <th>std</th>\n",
       "      <td>2291.474570</td>\n",
       "      <td>567.121422</td>\n",
       "      <td>1800.561054</td>\n",
       "      <td>511.751971</td>\n",
       "      <td>184.376118</td>\n",
       "      <td>107.821100</td>\n",
       "      <td>3.610979</td>\n",
       "      <td>7.39829</td>\n",
       "      <td>64.883884</td>\n",
       "      <td>58.915555</td>\n",
       "      <td>18.838725</td>\n",
       "    </tr>\n",
       "    <tr>\n",
       "      <th>min</th>\n",
       "      <td>1941.000000</td>\n",
       "      <td>1179.000000</td>\n",
       "      <td>116.000000</td>\n",
       "      <td>0.000000</td>\n",
       "      <td>9.000000</td>\n",
       "      <td>22.000000</td>\n",
       "      <td>0.000000</td>\n",
       "      <td>0.00000</td>\n",
       "      <td>72.000000</td>\n",
       "      <td>4.000000</td>\n",
       "      <td>0.000000</td>\n",
       "    </tr>\n",
       "    <tr>\n",
       "      <th>25%</th>\n",
       "      <td>3225.000000</td>\n",
       "      <td>1960.000000</td>\n",
       "      <td>655.000000</td>\n",
       "      <td>124.500000</td>\n",
       "      <td>36.000000</td>\n",
       "      <td>61.000000</td>\n",
       "      <td>5.000000</td>\n",
       "      <td>3.00000</td>\n",
       "      <td>116.500000</td>\n",
       "      <td>14.000000</td>\n",
       "      <td>2.000000</td>\n",
       "    </tr>\n",
       "    <tr>\n",
       "      <th>50%</th>\n",
       "      <td>3990.000000</td>\n",
       "      <td>2195.000000</td>\n",
       "      <td>1248.000000</td>\n",
       "      <td>249.000000</td>\n",
       "      <td>69.000000</td>\n",
       "      <td>104.000000</td>\n",
       "      <td>7.000000</td>\n",
       "      <td>6.00000</td>\n",
       "      <td>150.000000</td>\n",
       "      <td>21.000000</td>\n",
       "      <td>6.000000</td>\n",
       "    </tr>\n",
       "    <tr>\n",
       "      <th>75%</th>\n",
       "      <td>5172.500000</td>\n",
       "      <td>2577.500000</td>\n",
       "      <td>2222.000000</td>\n",
       "      <td>496.000000</td>\n",
       "      <td>157.500000</td>\n",
       "      <td>144.000000</td>\n",
       "      <td>9.000000</td>\n",
       "      <td>11.50000</td>\n",
       "      <td>188.500000</td>\n",
       "      <td>36.500000</td>\n",
       "      <td>11.000000</td>\n",
       "    </tr>\n",
       "    <tr>\n",
       "      <th>max</th>\n",
       "      <td>16062.000000</td>\n",
       "      <td>4137.000000</td>\n",
       "      <td>11817.000000</td>\n",
       "      <td>2355.000000</td>\n",
       "      <td>1115.000000</td>\n",
       "      <td>668.000000</td>\n",
       "      <td>19.000000</td>\n",
       "      <td>41.00000</td>\n",
       "      <td>416.000000</td>\n",
       "      <td>347.000000</td>\n",
       "      <td>100.000000</td>\n",
       "    </tr>\n",
       "  </tbody>\n",
       "</table>\n",
       "</div>"
      ],
      "text/plain": [
       "        Impressions    From Home  From Hashtags  From Explore   From Other  \\\n",
       "count     99.000000    99.000000      99.000000     99.000000    99.000000   \n",
       "mean    4644.131313  2267.808081    1738.252525    417.040404   137.242424   \n",
       "std     2291.474570   567.121422    1800.561054    511.751971   184.376118   \n",
       "min     1941.000000  1179.000000     116.000000      0.000000     9.000000   \n",
       "25%     3225.000000  1960.000000     655.000000    124.500000    36.000000   \n",
       "50%     3990.000000  2195.000000    1248.000000    249.000000    69.000000   \n",
       "75%     5172.500000  2577.500000    2222.000000    496.000000   157.500000   \n",
       "max    16062.000000  4137.000000   11817.000000   2355.000000  1115.000000   \n",
       "\n",
       "            Saves   Comments    Shares       Likes  Profile Visits     Follows  \n",
       "count   99.000000  99.000000  99.00000   99.000000       99.000000   99.000000  \n",
       "mean   126.909091   6.959596   8.00000  160.333333       38.424242   11.979798  \n",
       "std    107.821100   3.610979   7.39829   64.883884       58.915555   18.838725  \n",
       "min     22.000000   0.000000   0.00000   72.000000        4.000000    0.000000  \n",
       "25%     61.000000   5.000000   3.00000  116.500000       14.000000    2.000000  \n",
       "50%    104.000000   7.000000   6.00000  150.000000       21.000000    6.000000  \n",
       "75%    144.000000   9.000000  11.50000  188.500000       36.500000   11.000000  \n",
       "max    668.000000  19.000000  41.00000  416.000000      347.000000  100.000000  "
      ]
     },
     "execution_count": 9,
     "metadata": {},
     "output_type": "execute_result"
    }
   ],
   "source": [
    "# checking ranges which the data contains\n",
    "data.describe()"
   ]
  },
  {
   "cell_type": "code",
   "execution_count": 10,
   "id": "70d68b80",
   "metadata": {},
   "outputs": [
    {
     "data": {
      "text/plain": [
       "(100, 13)"
      ]
     },
     "execution_count": 10,
     "metadata": {},
     "output_type": "execute_result"
    }
   ],
   "source": [
    "data.shape"
   ]
  },
  {
   "cell_type": "code",
   "execution_count": null,
   "id": "d457870a",
   "metadata": {},
   "outputs": [],
   "source": [
    "# okay so we don't have a lot of data but it's enough to \n",
    "# work at"
   ]
  },
  {
   "cell_type": "code",
   "execution_count": 11,
   "id": "9aff23bc",
   "metadata": {},
   "outputs": [
    {
     "data": {
      "text/plain": [
       "Impressions       1\n",
       "From Home         1\n",
       "From Hashtags     1\n",
       "From Explore      1\n",
       "From Other        1\n",
       "Saves             1\n",
       "Comments          1\n",
       "Shares            1\n",
       "Likes             1\n",
       "Profile Visits    1\n",
       "Follows           1\n",
       "Caption           1\n",
       "Hashtags          1\n",
       "dtype: int64"
      ]
     },
     "execution_count": 11,
     "metadata": {},
     "output_type": "execute_result"
    }
   ],
   "source": [
    "# finding null values in data\n",
    "data.isnull().sum()"
   ]
  },
  {
   "cell_type": "code",
   "execution_count": null,
   "id": "232d11e9",
   "metadata": {},
   "outputs": [],
   "source": [
    "# okay so every column contains one null value"
   ]
  },
  {
   "cell_type": "code",
   "execution_count": 12,
   "id": "9e9c4d9e",
   "metadata": {},
   "outputs": [
    {
     "data": {
      "text/html": [
       "<div>\n",
       "<style scoped>\n",
       "    .dataframe tbody tr th:only-of-type {\n",
       "        vertical-align: middle;\n",
       "    }\n",
       "\n",
       "    .dataframe tbody tr th {\n",
       "        vertical-align: top;\n",
       "    }\n",
       "\n",
       "    .dataframe thead th {\n",
       "        text-align: right;\n",
       "    }\n",
       "</style>\n",
       "<table border=\"1\" class=\"dataframe\">\n",
       "  <thead>\n",
       "    <tr style=\"text-align: right;\">\n",
       "      <th></th>\n",
       "      <th>Impressions</th>\n",
       "      <th>From Home</th>\n",
       "      <th>From Hashtags</th>\n",
       "      <th>From Explore</th>\n",
       "      <th>From Other</th>\n",
       "      <th>Saves</th>\n",
       "      <th>Comments</th>\n",
       "      <th>Shares</th>\n",
       "      <th>Likes</th>\n",
       "      <th>Profile Visits</th>\n",
       "      <th>Follows</th>\n",
       "      <th>Caption</th>\n",
       "      <th>Hashtags</th>\n",
       "    </tr>\n",
       "  </thead>\n",
       "  <tbody>\n",
       "    <tr>\n",
       "      <th>0</th>\n",
       "      <td>3920.0</td>\n",
       "      <td>2586.0</td>\n",
       "      <td>1028.0</td>\n",
       "      <td>619.0</td>\n",
       "      <td>56.0</td>\n",
       "      <td>98.0</td>\n",
       "      <td>9.0</td>\n",
       "      <td>5.0</td>\n",
       "      <td>162.0</td>\n",
       "      <td>35.0</td>\n",
       "      <td>2.0</td>\n",
       "      <td>Here are some of the most important data visua...</td>\n",
       "      <td>#finance #money #business #investing #investme...</td>\n",
       "    </tr>\n",
       "    <tr>\n",
       "      <th>1</th>\n",
       "      <td>5394.0</td>\n",
       "      <td>2727.0</td>\n",
       "      <td>1838.0</td>\n",
       "      <td>1174.0</td>\n",
       "      <td>78.0</td>\n",
       "      <td>194.0</td>\n",
       "      <td>7.0</td>\n",
       "      <td>14.0</td>\n",
       "      <td>224.0</td>\n",
       "      <td>48.0</td>\n",
       "      <td>10.0</td>\n",
       "      <td>Here are some of the best data science project...</td>\n",
       "      <td>#healthcare #health #covid #data #datascience ...</td>\n",
       "    </tr>\n",
       "    <tr>\n",
       "      <th>2</th>\n",
       "      <td>4021.0</td>\n",
       "      <td>2085.0</td>\n",
       "      <td>1188.0</td>\n",
       "      <td>0.0</td>\n",
       "      <td>533.0</td>\n",
       "      <td>41.0</td>\n",
       "      <td>11.0</td>\n",
       "      <td>1.0</td>\n",
       "      <td>131.0</td>\n",
       "      <td>62.0</td>\n",
       "      <td>12.0</td>\n",
       "      <td>Learn how to train a machine learning model an...</td>\n",
       "      <td>#data #datascience #dataanalysis #dataanalytic...</td>\n",
       "    </tr>\n",
       "    <tr>\n",
       "      <th>3</th>\n",
       "      <td>4528.0</td>\n",
       "      <td>2700.0</td>\n",
       "      <td>621.0</td>\n",
       "      <td>932.0</td>\n",
       "      <td>73.0</td>\n",
       "      <td>172.0</td>\n",
       "      <td>10.0</td>\n",
       "      <td>7.0</td>\n",
       "      <td>213.0</td>\n",
       "      <td>23.0</td>\n",
       "      <td>8.0</td>\n",
       "      <td>Heres how you can write a Python program to d...</td>\n",
       "      <td>#python #pythonprogramming #pythonprojects #py...</td>\n",
       "    </tr>\n",
       "    <tr>\n",
       "      <th>4</th>\n",
       "      <td>2518.0</td>\n",
       "      <td>1704.0</td>\n",
       "      <td>255.0</td>\n",
       "      <td>279.0</td>\n",
       "      <td>37.0</td>\n",
       "      <td>96.0</td>\n",
       "      <td>5.0</td>\n",
       "      <td>4.0</td>\n",
       "      <td>123.0</td>\n",
       "      <td>8.0</td>\n",
       "      <td>0.0</td>\n",
       "      <td>Plotting annotations while visualizing your da...</td>\n",
       "      <td>#datavisualization #datascience #data #dataana...</td>\n",
       "    </tr>\n",
       "    <tr>\n",
       "      <th>...</th>\n",
       "      <td>...</td>\n",
       "      <td>...</td>\n",
       "      <td>...</td>\n",
       "      <td>...</td>\n",
       "      <td>...</td>\n",
       "      <td>...</td>\n",
       "      <td>...</td>\n",
       "      <td>...</td>\n",
       "      <td>...</td>\n",
       "      <td>...</td>\n",
       "      <td>...</td>\n",
       "      <td>...</td>\n",
       "      <td>...</td>\n",
       "    </tr>\n",
       "    <tr>\n",
       "      <th>94</th>\n",
       "      <td>4082.0</td>\n",
       "      <td>2195.0</td>\n",
       "      <td>1248.0</td>\n",
       "      <td>541.0</td>\n",
       "      <td>36.0</td>\n",
       "      <td>135.0</td>\n",
       "      <td>11.0</td>\n",
       "      <td>5.0</td>\n",
       "      <td>175.0</td>\n",
       "      <td>19.0</td>\n",
       "      <td>6.0</td>\n",
       "      <td>Deep learning is a subset of machine learning ...</td>\n",
       "      <td>#deeplearning #machinelearning #artificialinte...</td>\n",
       "    </tr>\n",
       "    <tr>\n",
       "      <th>95</th>\n",
       "      <td>5394.0</td>\n",
       "      <td>2275.0</td>\n",
       "      <td>2975.0</td>\n",
       "      <td>45.0</td>\n",
       "      <td>65.0</td>\n",
       "      <td>61.0</td>\n",
       "      <td>19.0</td>\n",
       "      <td>6.0</td>\n",
       "      <td>147.0</td>\n",
       "      <td>69.0</td>\n",
       "      <td>6.0</td>\n",
       "      <td>You must have heard or invested in any cryptoc...</td>\n",
       "      <td>#data #datascience #dataanalysis #dataanalytic...</td>\n",
       "    </tr>\n",
       "    <tr>\n",
       "      <th>96</th>\n",
       "      <td>2766.0</td>\n",
       "      <td>2541.0</td>\n",
       "      <td>116.0</td>\n",
       "      <td>51.0</td>\n",
       "      <td>9.0</td>\n",
       "      <td>40.0</td>\n",
       "      <td>10.0</td>\n",
       "      <td>4.0</td>\n",
       "      <td>114.0</td>\n",
       "      <td>11.0</td>\n",
       "      <td>6.0</td>\n",
       "      <td>Here are all the programming languages that Fa...</td>\n",
       "      <td>#programming #coding #programmer #python #deve...</td>\n",
       "    </tr>\n",
       "    <tr>\n",
       "      <th>97</th>\n",
       "      <td>3924.0</td>\n",
       "      <td>2244.0</td>\n",
       "      <td>1278.0</td>\n",
       "      <td>326.0</td>\n",
       "      <td>34.0</td>\n",
       "      <td>139.0</td>\n",
       "      <td>11.0</td>\n",
       "      <td>3.0</td>\n",
       "      <td>151.0</td>\n",
       "      <td>19.0</td>\n",
       "      <td>2.0</td>\n",
       "      <td>Here are some of the most popular data science...</td>\n",
       "      <td>#data #datascience #dataanalysis #dataanalytic...</td>\n",
       "    </tr>\n",
       "    <tr>\n",
       "      <th>98</th>\n",
       "      <td>3015.0</td>\n",
       "      <td>2034.0</td>\n",
       "      <td>771.0</td>\n",
       "      <td>115.0</td>\n",
       "      <td>41.0</td>\n",
       "      <td>52.0</td>\n",
       "      <td>11.0</td>\n",
       "      <td>4.0</td>\n",
       "      <td>92.0</td>\n",
       "      <td>9.0</td>\n",
       "      <td>2.0</td>\n",
       "      <td>Heres how Amazon uses your data as an e-comme...</td>\n",
       "      <td>#data #datascience #dataanalysis #dataanalytic...</td>\n",
       "    </tr>\n",
       "  </tbody>\n",
       "</table>\n",
       "<p>99 rows × 13 columns</p>\n",
       "</div>"
      ],
      "text/plain": [
       "    Impressions  From Home  From Hashtags  From Explore  From Other  Saves  \\\n",
       "0        3920.0     2586.0         1028.0         619.0        56.0   98.0   \n",
       "1        5394.0     2727.0         1838.0        1174.0        78.0  194.0   \n",
       "2        4021.0     2085.0         1188.0           0.0       533.0   41.0   \n",
       "3        4528.0     2700.0          621.0         932.0        73.0  172.0   \n",
       "4        2518.0     1704.0          255.0         279.0        37.0   96.0   \n",
       "..          ...        ...            ...           ...         ...    ...   \n",
       "94       4082.0     2195.0         1248.0         541.0        36.0  135.0   \n",
       "95       5394.0     2275.0         2975.0          45.0        65.0   61.0   \n",
       "96       2766.0     2541.0          116.0          51.0         9.0   40.0   \n",
       "97       3924.0     2244.0         1278.0         326.0        34.0  139.0   \n",
       "98       3015.0     2034.0          771.0         115.0        41.0   52.0   \n",
       "\n",
       "    Comments  Shares  Likes  Profile Visits  Follows  \\\n",
       "0        9.0     5.0  162.0            35.0      2.0   \n",
       "1        7.0    14.0  224.0            48.0     10.0   \n",
       "2       11.0     1.0  131.0            62.0     12.0   \n",
       "3       10.0     7.0  213.0            23.0      8.0   \n",
       "4        5.0     4.0  123.0             8.0      0.0   \n",
       "..       ...     ...    ...             ...      ...   \n",
       "94      11.0     5.0  175.0            19.0      6.0   \n",
       "95      19.0     6.0  147.0            69.0      6.0   \n",
       "96      10.0     4.0  114.0            11.0      6.0   \n",
       "97      11.0     3.0  151.0            19.0      2.0   \n",
       "98      11.0     4.0   92.0             9.0      2.0   \n",
       "\n",
       "                                              Caption  \\\n",
       "0   Here are some of the most important data visua...   \n",
       "1   Here are some of the best data science project...   \n",
       "2   Learn how to train a machine learning model an...   \n",
       "3   Heres how you can write a Python program to d...   \n",
       "4   Plotting annotations while visualizing your da...   \n",
       "..                                                ...   \n",
       "94  Deep learning is a subset of machine learning ...   \n",
       "95  You must have heard or invested in any cryptoc...   \n",
       "96  Here are all the programming languages that Fa...   \n",
       "97  Here are some of the most popular data science...   \n",
       "98  Heres how Amazon uses your data as an e-comme...   \n",
       "\n",
       "                                             Hashtags  \n",
       "0   #finance #money #business #investing #investme...  \n",
       "1   #healthcare #health #covid #data #datascience ...  \n",
       "2   #data #datascience #dataanalysis #dataanalytic...  \n",
       "3   #python #pythonprogramming #pythonprojects #py...  \n",
       "4   #datavisualization #datascience #data #dataana...  \n",
       "..                                                ...  \n",
       "94  #deeplearning #machinelearning #artificialinte...  \n",
       "95  #data #datascience #dataanalysis #dataanalytic...  \n",
       "96  #programming #coding #programmer #python #deve...  \n",
       "97  #data #datascience #dataanalysis #dataanalytic...  \n",
       "98  #data #datascience #dataanalysis #dataanalytic...  \n",
       "\n",
       "[99 rows x 13 columns]"
      ]
     },
     "execution_count": 12,
     "metadata": {},
     "output_type": "execute_result"
    }
   ],
   "source": [
    "# droping all null values\n",
    "data.dropna()"
   ]
  },
  {
   "cell_type": "code",
   "execution_count": 34,
   "id": "0137e2f5",
   "metadata": {
    "scrolled": false
   },
   "outputs": [
    {
     "name": "stderr",
     "output_type": "stream",
     "text": [
      "D:\\ML\\lib\\site-packages\\seaborn\\distributions.py:2619: FutureWarning: `distplot` is a deprecated function and will be removed in a future version. Please adapt your code to use either `displot` (a figure-level function with similar flexibility) or `histplot` (an axes-level function for histograms).\n",
      "  warnings.warn(msg, FutureWarning)\n"
     ]
    },
    {
     "data": {
      "image/png": "[encoded data removed]",
      "text/plain": [
       "<Figure size 1152x648 with 1 Axes>"
      ]
     },
     "metadata": {
      "needs_background": "light"
     },
     "output_type": "display_data"
    }
   ],
   "source": [
    "# okay so now analysing the reach process\n",
    "plt.figure(figsize=(16,9))\n",
    "plt.title('distribution of reach from home')\n",
    "sns.distplot(data['From Home'])\n",
    "plt.show()"
   ]
  },
  {
   "cell_type": "code",
   "execution_count": null,
   "id": "55b0e72b",
   "metadata": {},
   "outputs": [],
   "source": [
    "# after looking at the plot it's clear that it do reach \n",
    "# our followers but it's hard to reach new people as\n",
    "# density is evenly distributed and most is in mid "
   ]
  },
  {
   "cell_type": "code",
   "execution_count": 35,
   "id": "be8c3493",
   "metadata": {
    "scrolled": false
   },
   "outputs": [
    {
     "name": "stderr",
     "output_type": "stream",
     "text": [
      "D:\\ML\\lib\\site-packages\\seaborn\\distributions.py:2619: FutureWarning: `distplot` is a deprecated function and will be removed in a future version. Please adapt your code to use either `displot` (a figure-level function with similar flexibility) or `histplot` (an axes-level function for histograms).\n",
      "  warnings.warn(msg, FutureWarning)\n"
     ]
    },
    {
     "data": {
      "image/png": "[encoded data removed]",
      "text/plain": [
       "<Figure size 720x576 with 1 Axes>"
      ]
     },
     "metadata": {
      "needs_background": "light"
     },
     "output_type": "display_data"
    }
   ],
   "source": [
    "plt.figure(figsize=(10, 8))\n",
    "plt.title(\"Distribution of Impressions From Hashtags\")\n",
    "sns.distplot(data['From Hashtags'])\n",
    "plt.show()"
   ]
  },
  {
   "cell_type": "code",
   "execution_count": 36,
   "id": "b3b8e3aa",
   "metadata": {},
   "outputs": [],
   "source": [
    "# looking at the hashtag plot we can see it doesn't reach \n",
    "# our followers much but do reach new people as most \n",
    "# density is in 0 to 4000"
   ]
  },
  {
   "cell_type": "code",
   "execution_count": 37,
   "id": "7a1c76ee",
   "metadata": {},
   "outputs": [
    {
     "name": "stderr",
     "output_type": "stream",
     "text": [
      "D:\\ML\\lib\\site-packages\\seaborn\\distributions.py:2619: FutureWarning: `distplot` is a deprecated function and will be removed in a future version. Please adapt your code to use either `displot` (a figure-level function with similar flexibility) or `histplot` (an axes-level function for histograms).\n",
      "  warnings.warn(msg, FutureWarning)\n"
     ]
    },
    {
     "data": {
      "image/png": "[encoded data removed]",
      "text/plain": [
       "<Figure size 720x576 with 1 Axes>"
      ]
     },
     "metadata": {
      "needs_background": "light"
     },
     "output_type": "display_data"
    }
   ],
   "source": [
    "plt.figure(figsize=(10, 8))\n",
    "plt.title(\"Distribution of reach From Explore\")\n",
    "sns.distplot(data['From Explore'])\n",
    "plt.show()"
   ]
  },
  {
   "cell_type": "code",
   "execution_count": 38,
   "id": "0baec9ce",
   "metadata": {},
   "outputs": [],
   "source": [
    "# by looking at the explore plot we can see instagram\n",
    "# doesn't recommend our post much to users as majority of \n",
    "# density between 0 to 500"
   ]
  },
  {
   "cell_type": "code",
   "execution_count": 40,
   "id": "68982315",
   "metadata": {},
   "outputs": [
    {
     "data": {
      "image/png": "[encoded data removed]",
      "text/plain": [
       "<Figure size 432x288 with 1 Axes>"
      ]
     },
     "metadata": {},
     "output_type": "display_data"
    }
   ],
   "source": [
    "#  now let's look at the impact of home, hashtag, explore,\n",
    "# and other things through a pie chart\n",
    "home = data[\"From Home\"].sum()\n",
    "hashtags = data[\"From Hashtags\"].sum()\n",
    "explore = data[\"From Explore\"].sum()\n",
    "other = data[\"From Other\"].sum()\n",
    "\n",
    "label = ['From Home','From Hashtags','From Explore','Other']\n",
    "values = [home, hashtags, explore, other]\n",
    "explode = [0.1,0.2,0.3,0.4]\n",
    "\n",
    "plt.pie(values,labels = label,explode=explode,autopct='%0.2f%%')\n",
    "plt.show()"
   ]
  },
  {
   "cell_type": "code",
   "execution_count": 41,
   "id": "835787a3",
   "metadata": {},
   "outputs": [],
   "source": [
    "# so clearly majority of the reach is from home and hashtags\n",
    "# about 88% and almost 12% is from explore and other things"
   ]
  },
  {
   "cell_type": "code",
   "execution_count": 42,
   "id": "dce31ab2",
   "metadata": {},
   "outputs": [],
   "source": [
    "# now let's analyse the relationship to find important \n",
    "# factor of instagram reach"
   ]
  },
  {
   "cell_type": "code",
   "execution_count": 48,
   "id": "f2074a49",
   "metadata": {},
   "outputs": [
    {
     "data": {
      "text/plain": [
       "Text(0, 0.5, 'Likes')"
      ]
     },
     "execution_count": 48,
     "metadata": {},
     "output_type": "execute_result"
    },
    {
     "data": {
      "image/png": "[encoded data removed]",
      "text/plain": [
       "<Figure size 432x288 with 1 Axes>"
      ]
     },
     "metadata": {
      "needs_background": "light"
     },
     "output_type": "display_data"
    }
   ],
   "source": [
    "# likes per impressions\n",
    "x=data['Impressions']\n",
    "y=data['Likes']\n",
    "\n",
    "plt.scatter(x,y)\n",
    "plt.title('toothpaste sales')\n",
    "plt.xlabel('Impressions')\n",
    "plt.ylabel('Likes')"
   ]
  },
  {
   "cell_type": "code",
   "execution_count": 51,
   "id": "721b75ed",
   "metadata": {},
   "outputs": [
    {
     "data": {
      "text/plain": [
       "Text(0, 0.5, 'Comments')"
      ]
     },
     "execution_count": 51,
     "metadata": {},
     "output_type": "execute_result"
    },
    {
     "data": {
      "image/png": "[encoded data removed]",
      "text/plain": [
       "<Figure size 432x288 with 1 Axes>"
      ]
     },
     "metadata": {
      "needs_background": "light"
     },
     "output_type": "display_data"
    }
   ],
   "source": [
    "# comments per impressions\n",
    "x=data['Impressions']\n",
    "y=data['Comments']\n",
    "\n",
    "plt.scatter(x,y)\n",
    "plt.title('toothpaste sales')\n",
    "plt.xlabel('Impressions')\n",
    "plt.ylabel('Comments')"
   ]
  },
  {
   "cell_type": "code",
   "execution_count": 52,
   "id": "3df17a8d",
   "metadata": {},
   "outputs": [
    {
     "data": {
      "text/plain": [
       "Text(0, 0.5, 'Shares')"
      ]
     },
     "execution_count": 52,
     "metadata": {},
     "output_type": "execute_result"
    },
    {
     "data": {
      "image/png": "[encoded data removed]",
      "text/plain": [
       "<Figure size 432x288 with 1 Axes>"
      ]
     },
     "metadata": {
      "needs_background": "light"
     },
     "output_type": "display_data"
    }
   ],
   "source": [
    "# post shared per impressions\n",
    "x=data['Impressions']\n",
    "y=data['Shares']\n",
    "\n",
    "plt.scatter(x,y)\n",
    "plt.title('toothpaste sales')\n",
    "plt.xlabel('Impressions')\n",
    "plt.ylabel('Shares')"
   ]
  },
  {
   "cell_type": "code",
   "execution_count": 53,
   "id": "ae653a68",
   "metadata": {},
   "outputs": [
    {
     "data": {
      "text/plain": [
       "Text(0, 0.5, 'Saves')"
      ]
     },
     "execution_count": 53,
     "metadata": {},
     "output_type": "execute_result"
    },
    {
     "data": {
      "image/png": "[encoded data removed]",
      "text/plain": [
       "<Figure size 432x288 with 1 Axes>"
      ]
     },
     "metadata": {
      "needs_background": "light"
     },
     "output_type": "display_data"
    }
   ],
   "source": [
    "# post saved per impressions\n",
    "x=data['Impressions']\n",
    "y=data['Saves']\n",
    "\n",
    "plt.scatter(x,y)\n",
    "plt.title('toothpaste sales')\n",
    "plt.xlabel('Impressions')\n",
    "plt.ylabel('Saves')"
   ]
  },
  {
   "cell_type": "code",
   "execution_count": 54,
   "id": "6a75a17f",
   "metadata": {},
   "outputs": [],
   "source": [
    "# looking at each scatter plot we can clearly see that likes\n",
    "# is the most important aspect for reach in out case as \n",
    "# every plot has linear relationship with impressions \n",
    "# but likes has the highest slope i.e. more reach \n",
    "# we can also understand this through correlation "
   ]
  },
  {
   "cell_type": "code",
   "execution_count": 55,
   "id": "a087d26c",
   "metadata": {},
   "outputs": [
    {
     "name": "stdout",
     "output_type": "stream",
     "text": [
      "Impressions       1.000000\n",
      "Likes             0.896277\n",
      "From Hashtags     0.892682\n",
      "Follows           0.804064\n",
      "Profile Visits    0.774393\n",
      "Saves             0.625600\n",
      "From Home         0.603378\n",
      "From Explore      0.498389\n",
      "Shares            0.476617\n",
      "From Other        0.429227\n",
      "Comments          0.247201\n",
      "Name: Impressions, dtype: float64\n"
     ]
    }
   ],
   "source": [
    "# correlation of every attribute with impressions\n",
    "correlation = data.corr()\n",
    "print(correlation[\"Impressions\"].sort_values(ascending=False))"
   ]
  },
  {
   "cell_type": "code",
   "execution_count": 56,
   "id": "066ae186",
   "metadata": {},
   "outputs": [
    {
     "name": "stdout",
     "output_type": "stream",
     "text": [
      "31.17770767613039\n"
     ]
    }
   ],
   "source": [
    "# now let's analyse the follow per profile visit \n",
    "# conversion rate\n",
    "conversion_rate = (data[\"Follows\"].sum() / data[\"Profile Visits\"].sum()) * 100\n",
    "print(conversion_rate)"
   ]
  },
  {
   "cell_type": "code",
   "execution_count": 57,
   "id": "d96c3928",
   "metadata": {},
   "outputs": [],
   "source": [
    "# so we are having 31% conversion rate which sounds good"
   ]
  },
  {
   "cell_type": "code",
   "execution_count": 58,
   "id": "63b22d65",
   "metadata": {},
   "outputs": [
    {
     "data": {
      "text/plain": [
       "Text(0, 0.5, 'Follows')"
      ]
     },
     "execution_count": 58,
     "metadata": {},
     "output_type": "execute_result"
    },
    {
     "data": {
      "image/png": "[encoded data removed]",
      "text/plain": [
       "<Figure size 432x288 with 1 Axes>"
      ]
     },
     "metadata": {
      "needs_background": "light"
     },
     "output_type": "display_data"
    }
   ],
   "source": [
    "# now let's see this through a scatter plot\n",
    "x=data['Profile Visits']\n",
    "y=data['Follows']\n",
    "\n",
    "plt.scatter(x,y)\n",
    "plt.title('toothpaste sales')\n",
    "plt.xlabel('Profile Visits')\n",
    "plt.ylabel('Follows')"
   ]
  },
  {
   "cell_type": "code",
   "execution_count": 59,
   "id": "c1c5839d",
   "metadata": {},
   "outputs": [],
   "source": [
    "# relation between follows and profile visits is also \n",
    "# linear and we can clearly see the conversion rate is \n",
    "# preety good"
   ]
  },
  {
   "cell_type": "code",
   "execution_count": 61,
   "id": "fbcae8ec",
   "metadata": {},
   "outputs": [],
   "source": []
  }
 ],
 "metadata": {
  "kernelspec": {
   "display_name": "Python 3 (ipykernel)",
   "language": "python",
   "name": "python3"
  },
  "language_info": {
   "codemirror_mode": {
    "name": "ipython",
    "version": 3
   },
   "file_extension": ".py",
   "mimetype": "text/x-python",
   "name": "python",
   "nbconvert_exporter": "python",
   "pygments_lexer": "ipython3",
   "version": "3.9.12"
  }
 },
 "nbformat": 4,
 "nbformat_minor": 5
}
