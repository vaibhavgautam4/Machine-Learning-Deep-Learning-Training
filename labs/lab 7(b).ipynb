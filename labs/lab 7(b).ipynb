{
 "cells": [
  {
   "cell_type": "code",
   "execution_count": 63,
   "id": "aa3fd128",
   "metadata": {},
   "outputs": [],
   "source": [
    "import pandas as pd\n",
    "import matplotlib.pyplot as plt\n",
    "import seaborn as sns\n",
    "\n",
    "d = pd.read_csv('unclean cclass.csv')"
   ]
  },
  {
   "cell_type": "code",
   "execution_count": 2,
   "id": "10da5f0a",
   "metadata": {},
   "outputs": [],
   "source": [
    "d1 = d.copy()"
   ]
  },
  {
   "cell_type": "code",
   "execution_count": 3,
   "id": "aaf21e0c",
   "metadata": {},
   "outputs": [
    {
     "data": {
      "text/plain": [
       "(4006, 11)"
      ]
     },
     "execution_count": 3,
     "metadata": {},
     "output_type": "execute_result"
    }
   ],
   "source": [
    "d1.shape"
   ]
  },
  {
   "cell_type": "code",
   "execution_count": 4,
   "id": "453f9aad",
   "metadata": {},
   "outputs": [
    {
     "data": {
      "text/html": [
       "<div>\n",
       "<style scoped>\n",
       "    .dataframe tbody tr th:only-of-type {\n",
       "        vertical-align: middle;\n",
       "    }\n",
       "\n",
       "    .dataframe tbody tr th {\n",
       "        vertical-align: top;\n",
       "    }\n",
       "\n",
       "    .dataframe thead th {\n",
       "        text-align: right;\n",
       "    }\n",
       "</style>\n",
       "<table border=\"1\" class=\"dataframe\">\n",
       "  <thead>\n",
       "    <tr style=\"text-align: right;\">\n",
       "      <th></th>\n",
       "      <th>model</th>\n",
       "      <th>year</th>\n",
       "      <th>price</th>\n",
       "      <th>transmission</th>\n",
       "      <th>mileage</th>\n",
       "      <th>fuel type</th>\n",
       "      <th>engine size</th>\n",
       "      <th>mileage2</th>\n",
       "      <th>fuel type2</th>\n",
       "      <th>engine size2</th>\n",
       "      <th>reference</th>\n",
       "    </tr>\n",
       "  </thead>\n",
       "  <tbody>\n",
       "    <tr>\n",
       "      <th>4001</th>\n",
       "      <td>C Class</td>\n",
       "      <td>2017.0</td>\n",
       "      <td>£14,700</td>\n",
       "      <td>Manual</td>\n",
       "      <td>31,357</td>\n",
       "      <td>25</td>\n",
       "      <td>£150</td>\n",
       "      <td>70.6</td>\n",
       "      <td>Diesel</td>\n",
       "      <td>1.598</td>\n",
       "      <td>/ad/25451436</td>\n",
       "    </tr>\n",
       "    <tr>\n",
       "      <th>4002</th>\n",
       "      <td>C Class</td>\n",
       "      <td>2018.0</td>\n",
       "      <td>£18,500</td>\n",
       "      <td>Automatic</td>\n",
       "      <td>28,248</td>\n",
       "      <td>31</td>\n",
       "      <td>£150</td>\n",
       "      <td>64.2</td>\n",
       "      <td>Diesel</td>\n",
       "      <td>2.143</td>\n",
       "      <td>/ad/25451481</td>\n",
       "    </tr>\n",
       "    <tr>\n",
       "      <th>4003</th>\n",
       "      <td>C Class</td>\n",
       "      <td>2014.0</td>\n",
       "      <td>£11,900</td>\n",
       "      <td>Manual</td>\n",
       "      <td>48,055</td>\n",
       "      <td>31</td>\n",
       "      <td>£20</td>\n",
       "      <td>65.7</td>\n",
       "      <td>Diesel</td>\n",
       "      <td>2.143</td>\n",
       "      <td>/ad/25057204</td>\n",
       "    </tr>\n",
       "    <tr>\n",
       "      <th>4004</th>\n",
       "      <td>C Class</td>\n",
       "      <td>2014.0</td>\n",
       "      <td>£11,300</td>\n",
       "      <td>Automatic</td>\n",
       "      <td>49,865</td>\n",
       "      <td>46</td>\n",
       "      <td>£145</td>\n",
       "      <td>56.5</td>\n",
       "      <td>Diesel</td>\n",
       "      <td>2.143</td>\n",
       "      <td>/ad/25144481</td>\n",
       "    </tr>\n",
       "    <tr>\n",
       "      <th>4005</th>\n",
       "      <td>C Class</td>\n",
       "      <td>2014.0</td>\n",
       "      <td>£14,800</td>\n",
       "      <td>Automatic</td>\n",
       "      <td>55,445</td>\n",
       "      <td>37</td>\n",
       "      <td>£30</td>\n",
       "      <td>64.2</td>\n",
       "      <td>Diesel</td>\n",
       "      <td>2.143</td>\n",
       "      <td>/ad/25154247</td>\n",
       "    </tr>\n",
       "  </tbody>\n",
       "</table>\n",
       "</div>"
      ],
      "text/plain": [
       "         model    year     price transmission mileage fuel type engine size  \\\n",
       "4001   C Class  2017.0   £14,700       Manual  31,357        25        £150   \n",
       "4002   C Class  2018.0   £18,500    Automatic  28,248        31        £150   \n",
       "4003   C Class  2014.0   £11,900       Manual  48,055        31         £20   \n",
       "4004   C Class  2014.0   £11,300    Automatic  49,865        46        £145   \n",
       "4005   C Class  2014.0   £14,800    Automatic  55,445        37         £30   \n",
       "\n",
       "     mileage2 fuel type2 engine size2     reference  \n",
       "4001     70.6     Diesel        1.598  /ad/25451436  \n",
       "4002     64.2     Diesel        2.143  /ad/25451481  \n",
       "4003     65.7     Diesel        2.143  /ad/25057204  \n",
       "4004     56.5     Diesel        2.143  /ad/25144481  \n",
       "4005     64.2     Diesel        2.143  /ad/25154247  "
      ]
     },
     "execution_count": 4,
     "metadata": {},
     "output_type": "execute_result"
    }
   ],
   "source": [
    "d1.tail()"
   ]
  },
  {
   "cell_type": "code",
   "execution_count": 5,
   "id": "6ecc88a0",
   "metadata": {},
   "outputs": [
    {
     "data": {
      "text/plain": [
       "model             99\n",
       "year             102\n",
       "price             99\n",
       "transmission      99\n",
       "mileage          198\n",
       "fuel type       2677\n",
       "engine size      164\n",
       "mileage2         116\n",
       "fuel type2       198\n",
       "engine size2     198\n",
       "reference         99\n",
       "dtype: int64"
      ]
     },
     "execution_count": 5,
     "metadata": {},
     "output_type": "execute_result"
    }
   ],
   "source": [
    "d1.isna().sum()"
   ]
  },
  {
   "cell_type": "code",
   "execution_count": 6,
   "id": "1a11c49d",
   "metadata": {},
   "outputs": [],
   "source": [
    "d1 = d1[~d1['year'].isna()]"
   ]
  },
  {
   "cell_type": "code",
   "execution_count": 7,
   "id": "74dbbdb3",
   "metadata": {},
   "outputs": [],
   "source": [
    "d1['year'] = d1['year'].astype(int)"
   ]
  },
  {
   "cell_type": "code",
   "execution_count": 8,
   "id": "a5d7e148",
   "metadata": {},
   "outputs": [
    {
     "data": {
      "text/plain": [
       "model              0\n",
       "year               0\n",
       "price              0\n",
       "transmission       0\n",
       "mileage           97\n",
       "fuel type       2578\n",
       "engine size       65\n",
       "mileage2          17\n",
       "fuel type2        97\n",
       "engine size2      97\n",
       "reference          0\n",
       "dtype: int64"
      ]
     },
     "execution_count": 8,
     "metadata": {},
     "output_type": "execute_result"
    }
   ],
   "source": [
    "d1.isna().sum()"
   ]
  },
  {
   "cell_type": "code",
   "execution_count": 9,
   "id": "3d9e7a3b",
   "metadata": {},
   "outputs": [
    {
     "data": {
      "text/plain": [
       "model           object\n",
       "year             int32\n",
       "price           object\n",
       "transmission    object\n",
       "mileage         object\n",
       "fuel type       object\n",
       "engine size     object\n",
       "mileage2        object\n",
       "fuel type2      object\n",
       "engine size2    object\n",
       "reference       object\n",
       "dtype: object"
      ]
     },
     "execution_count": 9,
     "metadata": {},
     "output_type": "execute_result"
    }
   ],
   "source": [
    "d1.dtypes"
   ]
  },
  {
   "cell_type": "code",
   "execution_count": 10,
   "id": "06fc43c0",
   "metadata": {},
   "outputs": [
    {
     "data": {
      "text/plain": [
       "(3904, 11)"
      ]
     },
     "execution_count": 10,
     "metadata": {},
     "output_type": "execute_result"
    }
   ],
   "source": [
    "d1.shape"
   ]
  },
  {
   "cell_type": "code",
   "execution_count": 11,
   "id": "1fd138fa",
   "metadata": {},
   "outputs": [
    {
     "data": {
      "text/plain": [
       "0"
      ]
     },
     "execution_count": 11,
     "metadata": {},
     "output_type": "execute_result"
    }
   ],
   "source": [
    "d1['price'].isna().sum()"
   ]
  },
  {
   "cell_type": "code",
   "execution_count": 12,
   "id": "afa9405b",
   "metadata": {},
   "outputs": [
    {
     "data": {
      "text/plain": [
       "0       30495\n",
       "1       29989\n",
       "2       37899\n",
       "3       30399\n",
       "4       29899\n",
       "        ...  \n",
       "4001    14700\n",
       "4002    18500\n",
       "4003    11900\n",
       "4004    11300\n",
       "4005    14800\n",
       "Name: price, Length: 3904, dtype: object"
      ]
     },
     "execution_count": 12,
     "metadata": {},
     "output_type": "execute_result"
    }
   ],
   "source": [
    "d1['price'] = d1['price'].str.slice(2,8).str.replace(',','')\n",
    "d1['price']"
   ]
  },
  {
   "cell_type": "code",
   "execution_count": 44,
   "id": "1fb7545f",
   "metadata": {},
   "outputs": [],
   "source": [
    "d1['price'] = d1['price'].astype(int)"
   ]
  },
  {
   "cell_type": "code",
   "execution_count": 14,
   "id": "6b79be43",
   "metadata": {},
   "outputs": [
    {
     "data": {
      "text/html": [
       "<div>\n",
       "<style scoped>\n",
       "    .dataframe tbody tr th:only-of-type {\n",
       "        vertical-align: middle;\n",
       "    }\n",
       "\n",
       "    .dataframe tbody tr th {\n",
       "        vertical-align: top;\n",
       "    }\n",
       "\n",
       "    .dataframe thead th {\n",
       "        text-align: right;\n",
       "    }\n",
       "</style>\n",
       "<table border=\"1\" class=\"dataframe\">\n",
       "  <thead>\n",
       "    <tr style=\"text-align: right;\">\n",
       "      <th></th>\n",
       "      <th>model</th>\n",
       "      <th>year</th>\n",
       "      <th>price</th>\n",
       "      <th>transmission</th>\n",
       "      <th>mileage</th>\n",
       "      <th>fuel type</th>\n",
       "      <th>engine size</th>\n",
       "      <th>mileage2</th>\n",
       "      <th>fuel type2</th>\n",
       "      <th>engine size2</th>\n",
       "      <th>reference</th>\n",
       "    </tr>\n",
       "  </thead>\n",
       "  <tbody>\n",
       "    <tr>\n",
       "      <th>0</th>\n",
       "      <td>C Class</td>\n",
       "      <td>2020</td>\n",
       "      <td>30495</td>\n",
       "      <td>Automatic</td>\n",
       "      <td>NaN</td>\n",
       "      <td>Diesel</td>\n",
       "      <td>2</td>\n",
       "      <td>1,200</td>\n",
       "      <td>NaN</td>\n",
       "      <td>NaN</td>\n",
       "      <td>/ad/25017331</td>\n",
       "    </tr>\n",
       "    <tr>\n",
       "      <th>1</th>\n",
       "      <td>C Class</td>\n",
       "      <td>2020</td>\n",
       "      <td>29989</td>\n",
       "      <td>Automatic</td>\n",
       "      <td>NaN</td>\n",
       "      <td>Petrol</td>\n",
       "      <td>1.5</td>\n",
       "      <td>1,000</td>\n",
       "      <td>NaN</td>\n",
       "      <td>NaN</td>\n",
       "      <td>/ad/25043746</td>\n",
       "    </tr>\n",
       "    <tr>\n",
       "      <th>2</th>\n",
       "      <td>C Class</td>\n",
       "      <td>2020</td>\n",
       "      <td>37899</td>\n",
       "      <td>Automatic</td>\n",
       "      <td>NaN</td>\n",
       "      <td>Diesel</td>\n",
       "      <td>2</td>\n",
       "      <td>500</td>\n",
       "      <td>NaN</td>\n",
       "      <td>NaN</td>\n",
       "      <td>/ad/25142894</td>\n",
       "    </tr>\n",
       "    <tr>\n",
       "      <th>3</th>\n",
       "      <td>C Class</td>\n",
       "      <td>2019</td>\n",
       "      <td>30399</td>\n",
       "      <td>Automatic</td>\n",
       "      <td>NaN</td>\n",
       "      <td>Diesel</td>\n",
       "      <td>2</td>\n",
       "      <td>5,000</td>\n",
       "      <td>NaN</td>\n",
       "      <td>NaN</td>\n",
       "      <td>/ad/24942816</td>\n",
       "    </tr>\n",
       "    <tr>\n",
       "      <th>4</th>\n",
       "      <td>C Class</td>\n",
       "      <td>2019</td>\n",
       "      <td>29899</td>\n",
       "      <td>Automatic</td>\n",
       "      <td>NaN</td>\n",
       "      <td>Diesel</td>\n",
       "      <td>2</td>\n",
       "      <td>4,500</td>\n",
       "      <td>NaN</td>\n",
       "      <td>NaN</td>\n",
       "      <td>/ad/24913660</td>\n",
       "    </tr>\n",
       "  </tbody>\n",
       "</table>\n",
       "</div>"
      ],
      "text/plain": [
       "      model  year  price transmission mileage fuel type engine size mileage2  \\\n",
       "0   C Class  2020  30495    Automatic     NaN    Diesel           2    1,200   \n",
       "1   C Class  2020  29989    Automatic     NaN    Petrol         1.5    1,000   \n",
       "2   C Class  2020  37899    Automatic     NaN    Diesel           2      500   \n",
       "3   C Class  2019  30399    Automatic     NaN    Diesel           2    5,000   \n",
       "4   C Class  2019  29899    Automatic     NaN    Diesel           2    4,500   \n",
       "\n",
       "  fuel type2 engine size2     reference  \n",
       "0        NaN          NaN  /ad/25017331  \n",
       "1        NaN          NaN  /ad/25043746  \n",
       "2        NaN          NaN  /ad/25142894  \n",
       "3        NaN          NaN  /ad/24942816  \n",
       "4        NaN          NaN  /ad/24913660  "
      ]
     },
     "execution_count": 14,
     "metadata": {},
     "output_type": "execute_result"
    }
   ],
   "source": [
    "d1.head()"
   ]
  },
  {
   "cell_type": "code",
   "execution_count": 15,
   "id": "7e49ad33",
   "metadata": {},
   "outputs": [],
   "source": [
    "d1['mileage2'] = d1['mileage2'].str.replace(',','')\n",
    "#d1['mileage2']"
   ]
  },
  {
   "cell_type": "code",
   "execution_count": 16,
   "id": "a90ede66",
   "metadata": {},
   "outputs": [
    {
     "data": {
      "text/plain": [
       "(3904, 11)"
      ]
     },
     "execution_count": 16,
     "metadata": {},
     "output_type": "execute_result"
    }
   ],
   "source": [
    "d1.shape"
   ]
  },
  {
   "cell_type": "code",
   "execution_count": 17,
   "id": "525fd023",
   "metadata": {
    "scrolled": true
   },
   "outputs": [
    {
     "data": {
      "text/plain": [
       "17"
      ]
     },
     "execution_count": 17,
     "metadata": {},
     "output_type": "execute_result"
    }
   ],
   "source": [
    "d1['mileage2'].isna().sum()"
   ]
  },
  {
   "cell_type": "code",
   "execution_count": 18,
   "id": "d4738da2",
   "metadata": {},
   "outputs": [],
   "source": [
    "d1 = d1[~d1['mileage2'].isna()]"
   ]
  },
  {
   "cell_type": "code",
   "execution_count": 19,
   "id": "2f1de41a",
   "metadata": {},
   "outputs": [
    {
     "data": {
      "text/plain": [
       "(3887, 11)"
      ]
     },
     "execution_count": 19,
     "metadata": {},
     "output_type": "execute_result"
    }
   ],
   "source": [
    "d1.shape"
   ]
  },
  {
   "cell_type": "code",
   "execution_count": 20,
   "id": "50c77f47",
   "metadata": {},
   "outputs": [
    {
     "data": {
      "text/html": [
       "<div>\n",
       "<style scoped>\n",
       "    .dataframe tbody tr th:only-of-type {\n",
       "        vertical-align: middle;\n",
       "    }\n",
       "\n",
       "    .dataframe tbody tr th {\n",
       "        vertical-align: top;\n",
       "    }\n",
       "\n",
       "    .dataframe thead th {\n",
       "        text-align: right;\n",
       "    }\n",
       "</style>\n",
       "<table border=\"1\" class=\"dataframe\">\n",
       "  <thead>\n",
       "    <tr style=\"text-align: right;\">\n",
       "      <th></th>\n",
       "      <th>model</th>\n",
       "      <th>year</th>\n",
       "      <th>price</th>\n",
       "      <th>transmission</th>\n",
       "      <th>mileage</th>\n",
       "      <th>fuel type</th>\n",
       "      <th>engine size</th>\n",
       "      <th>mileage2</th>\n",
       "      <th>fuel type2</th>\n",
       "      <th>engine size2</th>\n",
       "      <th>reference</th>\n",
       "    </tr>\n",
       "  </thead>\n",
       "  <tbody>\n",
       "    <tr>\n",
       "      <th>0</th>\n",
       "      <td>C Class</td>\n",
       "      <td>2020</td>\n",
       "      <td>30495</td>\n",
       "      <td>Automatic</td>\n",
       "      <td>NaN</td>\n",
       "      <td>Diesel</td>\n",
       "      <td>2</td>\n",
       "      <td>1200</td>\n",
       "      <td>NaN</td>\n",
       "      <td>NaN</td>\n",
       "      <td>/ad/25017331</td>\n",
       "    </tr>\n",
       "    <tr>\n",
       "      <th>1</th>\n",
       "      <td>C Class</td>\n",
       "      <td>2020</td>\n",
       "      <td>29989</td>\n",
       "      <td>Automatic</td>\n",
       "      <td>NaN</td>\n",
       "      <td>Petrol</td>\n",
       "      <td>1.5</td>\n",
       "      <td>1000</td>\n",
       "      <td>NaN</td>\n",
       "      <td>NaN</td>\n",
       "      <td>/ad/25043746</td>\n",
       "    </tr>\n",
       "    <tr>\n",
       "      <th>2</th>\n",
       "      <td>C Class</td>\n",
       "      <td>2020</td>\n",
       "      <td>37899</td>\n",
       "      <td>Automatic</td>\n",
       "      <td>NaN</td>\n",
       "      <td>Diesel</td>\n",
       "      <td>2</td>\n",
       "      <td>500</td>\n",
       "      <td>NaN</td>\n",
       "      <td>NaN</td>\n",
       "      <td>/ad/25142894</td>\n",
       "    </tr>\n",
       "    <tr>\n",
       "      <th>3</th>\n",
       "      <td>C Class</td>\n",
       "      <td>2019</td>\n",
       "      <td>30399</td>\n",
       "      <td>Automatic</td>\n",
       "      <td>NaN</td>\n",
       "      <td>Diesel</td>\n",
       "      <td>2</td>\n",
       "      <td>5000</td>\n",
       "      <td>NaN</td>\n",
       "      <td>NaN</td>\n",
       "      <td>/ad/24942816</td>\n",
       "    </tr>\n",
       "    <tr>\n",
       "      <th>4</th>\n",
       "      <td>C Class</td>\n",
       "      <td>2019</td>\n",
       "      <td>29899</td>\n",
       "      <td>Automatic</td>\n",
       "      <td>NaN</td>\n",
       "      <td>Diesel</td>\n",
       "      <td>2</td>\n",
       "      <td>4500</td>\n",
       "      <td>NaN</td>\n",
       "      <td>NaN</td>\n",
       "      <td>/ad/24913660</td>\n",
       "    </tr>\n",
       "  </tbody>\n",
       "</table>\n",
       "</div>"
      ],
      "text/plain": [
       "      model  year  price transmission mileage fuel type engine size mileage2  \\\n",
       "0   C Class  2020  30495    Automatic     NaN    Diesel           2     1200   \n",
       "1   C Class  2020  29989    Automatic     NaN    Petrol         1.5     1000   \n",
       "2   C Class  2020  37899    Automatic     NaN    Diesel           2      500   \n",
       "3   C Class  2019  30399    Automatic     NaN    Diesel           2     5000   \n",
       "4   C Class  2019  29899    Automatic     NaN    Diesel           2     4500   \n",
       "\n",
       "  fuel type2 engine size2     reference  \n",
       "0        NaN          NaN  /ad/25017331  \n",
       "1        NaN          NaN  /ad/25043746  \n",
       "2        NaN          NaN  /ad/25142894  \n",
       "3        NaN          NaN  /ad/24942816  \n",
       "4        NaN          NaN  /ad/24913660  "
      ]
     },
     "execution_count": 20,
     "metadata": {},
     "output_type": "execute_result"
    }
   ],
   "source": [
    "d1.head()"
   ]
  },
  {
   "cell_type": "code",
   "execution_count": 100,
   "id": "d28f9192",
   "metadata": {},
   "outputs": [
    {
     "data": {
      "text/plain": [
       "array([ 46.3,  58.9,  54.3,  53.3,  62.8,  64.2,  60.1,  67.3,  49.6,\n",
       "        65.7,  68.9,  44.8,  70.6,  52.3,  23.5,  47.1,  61.4,  45.6,\n",
       "        33.6, 134.5,  72.4, 122.8,  76.4,  74.3,  50.4,  47.9,  48.7,\n",
       "        57.7,  56.5,  51.4,  23. ,  78.5,  44.1,  43.5,  55.4,  34.5,\n",
       "        39.8,  42.2,  34.9,  40.4,  41.5,  28.2,  31.4,  32.1,  36.7,\n",
       "        38.7,  28.8,  32.5,  37.7,  39.2,  38.2])"
      ]
     },
     "execution_count": 100,
     "metadata": {},
     "output_type": "execute_result"
    }
   ],
   "source": [
    "d1['mileage2'].unique()"
   ]
  },
  {
   "cell_type": "code",
   "execution_count": 21,
   "id": "b2db95cf",
   "metadata": {},
   "outputs": [
    {
     "data": {
      "text/plain": [
       "130"
      ]
     },
     "execution_count": 21,
     "metadata": {},
     "output_type": "execute_result"
    }
   ],
   "source": [
    "d1['mileage2'].str.isnumeric().sum()"
   ]
  },
  {
   "cell_type": "code",
   "execution_count": 22,
   "id": "b2d5422e",
   "metadata": {},
   "outputs": [
    {
     "data": {
      "text/plain": [
       "(3887, 11)"
      ]
     },
     "execution_count": 22,
     "metadata": {},
     "output_type": "execute_result"
    }
   ],
   "source": [
    "d1.shape"
   ]
  },
  {
   "cell_type": "code",
   "execution_count": 23,
   "id": "394117f7",
   "metadata": {},
   "outputs": [],
   "source": [
    "#d1 = d1[~d1['fuel type2'].isna()]\n",
    "d1 = d1.dropna()"
   ]
  },
  {
   "cell_type": "code",
   "execution_count": 24,
   "id": "e72ae486",
   "metadata": {},
   "outputs": [
    {
     "data": {
      "text/html": [
       "<div>\n",
       "<style scoped>\n",
       "    .dataframe tbody tr th:only-of-type {\n",
       "        vertical-align: middle;\n",
       "    }\n",
       "\n",
       "    .dataframe tbody tr th {\n",
       "        vertical-align: top;\n",
       "    }\n",
       "\n",
       "    .dataframe thead th {\n",
       "        text-align: right;\n",
       "    }\n",
       "</style>\n",
       "<table border=\"1\" class=\"dataframe\">\n",
       "  <thead>\n",
       "    <tr style=\"text-align: right;\">\n",
       "      <th></th>\n",
       "      <th>model</th>\n",
       "      <th>year</th>\n",
       "      <th>price</th>\n",
       "      <th>transmission</th>\n",
       "      <th>mileage</th>\n",
       "      <th>fuel type</th>\n",
       "      <th>engine size</th>\n",
       "      <th>mileage2</th>\n",
       "      <th>fuel type2</th>\n",
       "      <th>engine size2</th>\n",
       "      <th>reference</th>\n",
       "    </tr>\n",
       "  </thead>\n",
       "  <tbody>\n",
       "    <tr>\n",
       "      <th>10</th>\n",
       "      <td>C Class</td>\n",
       "      <td>2013</td>\n",
       "      <td>9995</td>\n",
       "      <td>Automatic</td>\n",
       "      <td>44,900</td>\n",
       "      <td>29</td>\n",
       "      <td>£160</td>\n",
       "      <td>46.3</td>\n",
       "      <td>Petrol</td>\n",
       "      <td>1.6</td>\n",
       "      <td>/ad/25128085</td>\n",
       "    </tr>\n",
       "    <tr>\n",
       "      <th>11</th>\n",
       "      <td>C Class</td>\n",
       "      <td>2012</td>\n",
       "      <td>6995</td>\n",
       "      <td>Automatic</td>\n",
       "      <td>88,200</td>\n",
       "      <td>34</td>\n",
       "      <td>£125</td>\n",
       "      <td>58.9</td>\n",
       "      <td>Diesel</td>\n",
       "      <td>2.1</td>\n",
       "      <td>/ad/23763610</td>\n",
       "    </tr>\n",
       "    <tr>\n",
       "      <th>12</th>\n",
       "      <td>C Class</td>\n",
       "      <td>2012</td>\n",
       "      <td>7495</td>\n",
       "      <td>Automatic</td>\n",
       "      <td>115,000</td>\n",
       "      <td>37</td>\n",
       "      <td>£145</td>\n",
       "      <td>54.3</td>\n",
       "      <td>Diesel</td>\n",
       "      <td>2.1</td>\n",
       "      <td>/ad/24626603</td>\n",
       "    </tr>\n",
       "    <tr>\n",
       "      <th>13</th>\n",
       "      <td>C Class</td>\n",
       "      <td>2011</td>\n",
       "      <td>8995</td>\n",
       "      <td>Automatic</td>\n",
       "      <td>69,250</td>\n",
       "      <td>29</td>\n",
       "      <td>£150</td>\n",
       "      <td>53.3</td>\n",
       "      <td>Diesel</td>\n",
       "      <td>2.1</td>\n",
       "      <td>/ad/25462537</td>\n",
       "    </tr>\n",
       "    <tr>\n",
       "      <th>14</th>\n",
       "      <td>C Class</td>\n",
       "      <td>2015</td>\n",
       "      <td>14995</td>\n",
       "      <td>Automatic</td>\n",
       "      <td>49,850</td>\n",
       "      <td>31</td>\n",
       "      <td>£30</td>\n",
       "      <td>62.8</td>\n",
       "      <td>Diesel</td>\n",
       "      <td>2.1</td>\n",
       "      <td>/ad/25479169</td>\n",
       "    </tr>\n",
       "  </tbody>\n",
       "</table>\n",
       "</div>"
      ],
      "text/plain": [
       "       model  year  price transmission  mileage fuel type engine size  \\\n",
       "10   C Class  2013   9995    Automatic   44,900        29        £160   \n",
       "11   C Class  2012   6995    Automatic   88,200        34        £125   \n",
       "12   C Class  2012   7495    Automatic  115,000        37        £145   \n",
       "13   C Class  2011   8995    Automatic   69,250        29        £150   \n",
       "14   C Class  2015  14995    Automatic   49,850        31         £30   \n",
       "\n",
       "   mileage2 fuel type2 engine size2     reference  \n",
       "10     46.3     Petrol          1.6  /ad/25128085  \n",
       "11     58.9     Diesel          2.1  /ad/23763610  \n",
       "12     54.3     Diesel          2.1  /ad/24626603  \n",
       "13     53.3     Diesel          2.1  /ad/25462537  \n",
       "14     62.8     Diesel          2.1  /ad/25479169  "
      ]
     },
     "execution_count": 24,
     "metadata": {},
     "output_type": "execute_result"
    }
   ],
   "source": [
    "d1.head()"
   ]
  },
  {
   "cell_type": "code",
   "execution_count": 25,
   "id": "6fdabafe",
   "metadata": {},
   "outputs": [
    {
     "data": {
      "text/plain": [
       "(1208, 11)"
      ]
     },
     "execution_count": 25,
     "metadata": {},
     "output_type": "execute_result"
    }
   ],
   "source": [
    "d1.shape"
   ]
  },
  {
   "cell_type": "code",
   "execution_count": 26,
   "id": "19242896",
   "metadata": {},
   "outputs": [],
   "source": [
    "d1['mileage'] = d1['mileage'].str.replace(',','')"
   ]
  },
  {
   "cell_type": "code",
   "execution_count": 27,
   "id": "544b9930",
   "metadata": {},
   "outputs": [
    {
     "data": {
      "text/html": [
       "<div>\n",
       "<style scoped>\n",
       "    .dataframe tbody tr th:only-of-type {\n",
       "        vertical-align: middle;\n",
       "    }\n",
       "\n",
       "    .dataframe tbody tr th {\n",
       "        vertical-align: top;\n",
       "    }\n",
       "\n",
       "    .dataframe thead th {\n",
       "        text-align: right;\n",
       "    }\n",
       "</style>\n",
       "<table border=\"1\" class=\"dataframe\">\n",
       "  <thead>\n",
       "    <tr style=\"text-align: right;\">\n",
       "      <th></th>\n",
       "      <th>model</th>\n",
       "      <th>year</th>\n",
       "      <th>price</th>\n",
       "      <th>transmission</th>\n",
       "      <th>mileage</th>\n",
       "      <th>fuel type</th>\n",
       "      <th>engine size</th>\n",
       "      <th>mileage2</th>\n",
       "      <th>fuel type2</th>\n",
       "      <th>engine size2</th>\n",
       "      <th>reference</th>\n",
       "    </tr>\n",
       "  </thead>\n",
       "  <tbody>\n",
       "    <tr>\n",
       "      <th>10</th>\n",
       "      <td>C Class</td>\n",
       "      <td>2013</td>\n",
       "      <td>9995</td>\n",
       "      <td>Automatic</td>\n",
       "      <td>44900</td>\n",
       "      <td>29</td>\n",
       "      <td>£160</td>\n",
       "      <td>46.3</td>\n",
       "      <td>Petrol</td>\n",
       "      <td>1.6</td>\n",
       "      <td>/ad/25128085</td>\n",
       "    </tr>\n",
       "    <tr>\n",
       "      <th>11</th>\n",
       "      <td>C Class</td>\n",
       "      <td>2012</td>\n",
       "      <td>6995</td>\n",
       "      <td>Automatic</td>\n",
       "      <td>88200</td>\n",
       "      <td>34</td>\n",
       "      <td>£125</td>\n",
       "      <td>58.9</td>\n",
       "      <td>Diesel</td>\n",
       "      <td>2.1</td>\n",
       "      <td>/ad/23763610</td>\n",
       "    </tr>\n",
       "    <tr>\n",
       "      <th>12</th>\n",
       "      <td>C Class</td>\n",
       "      <td>2012</td>\n",
       "      <td>7495</td>\n",
       "      <td>Automatic</td>\n",
       "      <td>115000</td>\n",
       "      <td>37</td>\n",
       "      <td>£145</td>\n",
       "      <td>54.3</td>\n",
       "      <td>Diesel</td>\n",
       "      <td>2.1</td>\n",
       "      <td>/ad/24626603</td>\n",
       "    </tr>\n",
       "    <tr>\n",
       "      <th>13</th>\n",
       "      <td>C Class</td>\n",
       "      <td>2011</td>\n",
       "      <td>8995</td>\n",
       "      <td>Automatic</td>\n",
       "      <td>69250</td>\n",
       "      <td>29</td>\n",
       "      <td>£150</td>\n",
       "      <td>53.3</td>\n",
       "      <td>Diesel</td>\n",
       "      <td>2.1</td>\n",
       "      <td>/ad/25462537</td>\n",
       "    </tr>\n",
       "    <tr>\n",
       "      <th>14</th>\n",
       "      <td>C Class</td>\n",
       "      <td>2015</td>\n",
       "      <td>14995</td>\n",
       "      <td>Automatic</td>\n",
       "      <td>49850</td>\n",
       "      <td>31</td>\n",
       "      <td>£30</td>\n",
       "      <td>62.8</td>\n",
       "      <td>Diesel</td>\n",
       "      <td>2.1</td>\n",
       "      <td>/ad/25479169</td>\n",
       "    </tr>\n",
       "    <tr>\n",
       "      <th>...</th>\n",
       "      <td>...</td>\n",
       "      <td>...</td>\n",
       "      <td>...</td>\n",
       "      <td>...</td>\n",
       "      <td>...</td>\n",
       "      <td>...</td>\n",
       "      <td>...</td>\n",
       "      <td>...</td>\n",
       "      <td>...</td>\n",
       "      <td>...</td>\n",
       "      <td>...</td>\n",
       "    </tr>\n",
       "    <tr>\n",
       "      <th>4001</th>\n",
       "      <td>C Class</td>\n",
       "      <td>2017</td>\n",
       "      <td>14700</td>\n",
       "      <td>Manual</td>\n",
       "      <td>31357</td>\n",
       "      <td>25</td>\n",
       "      <td>£150</td>\n",
       "      <td>70.6</td>\n",
       "      <td>Diesel</td>\n",
       "      <td>1.598</td>\n",
       "      <td>/ad/25451436</td>\n",
       "    </tr>\n",
       "    <tr>\n",
       "      <th>4002</th>\n",
       "      <td>C Class</td>\n",
       "      <td>2018</td>\n",
       "      <td>18500</td>\n",
       "      <td>Automatic</td>\n",
       "      <td>28248</td>\n",
       "      <td>31</td>\n",
       "      <td>£150</td>\n",
       "      <td>64.2</td>\n",
       "      <td>Diesel</td>\n",
       "      <td>2.143</td>\n",
       "      <td>/ad/25451481</td>\n",
       "    </tr>\n",
       "    <tr>\n",
       "      <th>4003</th>\n",
       "      <td>C Class</td>\n",
       "      <td>2014</td>\n",
       "      <td>11900</td>\n",
       "      <td>Manual</td>\n",
       "      <td>48055</td>\n",
       "      <td>31</td>\n",
       "      <td>£20</td>\n",
       "      <td>65.7</td>\n",
       "      <td>Diesel</td>\n",
       "      <td>2.143</td>\n",
       "      <td>/ad/25057204</td>\n",
       "    </tr>\n",
       "    <tr>\n",
       "      <th>4004</th>\n",
       "      <td>C Class</td>\n",
       "      <td>2014</td>\n",
       "      <td>11300</td>\n",
       "      <td>Automatic</td>\n",
       "      <td>49865</td>\n",
       "      <td>46</td>\n",
       "      <td>£145</td>\n",
       "      <td>56.5</td>\n",
       "      <td>Diesel</td>\n",
       "      <td>2.143</td>\n",
       "      <td>/ad/25144481</td>\n",
       "    </tr>\n",
       "    <tr>\n",
       "      <th>4005</th>\n",
       "      <td>C Class</td>\n",
       "      <td>2014</td>\n",
       "      <td>14800</td>\n",
       "      <td>Automatic</td>\n",
       "      <td>55445</td>\n",
       "      <td>37</td>\n",
       "      <td>£30</td>\n",
       "      <td>64.2</td>\n",
       "      <td>Diesel</td>\n",
       "      <td>2.143</td>\n",
       "      <td>/ad/25154247</td>\n",
       "    </tr>\n",
       "  </tbody>\n",
       "</table>\n",
       "<p>1208 rows × 11 columns</p>\n",
       "</div>"
      ],
      "text/plain": [
       "         model  year  price transmission mileage fuel type engine size  \\\n",
       "10     C Class  2013   9995    Automatic   44900        29        £160   \n",
       "11     C Class  2012   6995    Automatic   88200        34        £125   \n",
       "12     C Class  2012   7495    Automatic  115000        37        £145   \n",
       "13     C Class  2011   8995    Automatic   69250        29        £150   \n",
       "14     C Class  2015  14995    Automatic   49850        31         £30   \n",
       "...        ...   ...    ...          ...     ...       ...         ...   \n",
       "4001   C Class  2017  14700       Manual   31357        25        £150   \n",
       "4002   C Class  2018  18500    Automatic   28248        31        £150   \n",
       "4003   C Class  2014  11900       Manual   48055        31         £20   \n",
       "4004   C Class  2014  11300    Automatic   49865        46        £145   \n",
       "4005   C Class  2014  14800    Automatic   55445        37         £30   \n",
       "\n",
       "     mileage2 fuel type2 engine size2     reference  \n",
       "10       46.3     Petrol          1.6  /ad/25128085  \n",
       "11       58.9     Diesel          2.1  /ad/23763610  \n",
       "12       54.3     Diesel          2.1  /ad/24626603  \n",
       "13       53.3     Diesel          2.1  /ad/25462537  \n",
       "14       62.8     Diesel          2.1  /ad/25479169  \n",
       "...       ...        ...          ...           ...  \n",
       "4001     70.6     Diesel        1.598  /ad/25451436  \n",
       "4002     64.2     Diesel        2.143  /ad/25451481  \n",
       "4003     65.7     Diesel        2.143  /ad/25057204  \n",
       "4004     56.5     Diesel        2.143  /ad/25144481  \n",
       "4005     64.2     Diesel        2.143  /ad/25154247  \n",
       "\n",
       "[1208 rows x 11 columns]"
      ]
     },
     "execution_count": 27,
     "metadata": {},
     "output_type": "execute_result"
    }
   ],
   "source": [
    "d1"
   ]
  },
  {
   "cell_type": "code",
   "execution_count": 28,
   "id": "ab9f1214",
   "metadata": {},
   "outputs": [],
   "source": [
    "d1['mileage']=d1['mileage'].astype(int)"
   ]
  },
  {
   "cell_type": "code",
   "execution_count": 29,
   "id": "3f360f01",
   "metadata": {},
   "outputs": [],
   "source": [
    "d1['mileage2']=d1['mileage2'].astype(float)"
   ]
  },
  {
   "cell_type": "code",
   "execution_count": 30,
   "id": "782059f3",
   "metadata": {},
   "outputs": [],
   "source": [
    "d1['fuel type']=d1['fuel type'].astype(int)"
   ]
  },
  {
   "cell_type": "code",
   "execution_count": null,
   "id": "66ce5f50",
   "metadata": {},
   "outputs": [],
   "source": []
  },
  {
   "cell_type": "code",
   "execution_count": 31,
   "id": "5b306632",
   "metadata": {},
   "outputs": [
    {
     "data": {
      "text/plain": [
       "array(['£160', '£125', '£145', '£150', '£30', '£20', '£150  ', '£115',\n",
       "       '£570', '£145  ', '£205', '£300', '£0', '£135', '£165', '£580',\n",
       "       '£200', '£260', '£140', '£230', '£305', '£565', '£325', '£265',\n",
       "       '£235', '£210', '£555', '£290'], dtype=object)"
      ]
     },
     "execution_count": 31,
     "metadata": {},
     "output_type": "execute_result"
    }
   ],
   "source": [
    "d1['engine size'].unique()"
   ]
  },
  {
   "cell_type": "code",
   "execution_count": 32,
   "id": "97f21f4f",
   "metadata": {},
   "outputs": [],
   "source": [
    "d1['engine size'] = d1['engine size'].str.slice(1,4)"
   ]
  },
  {
   "cell_type": "code",
   "execution_count": 33,
   "id": "01878723",
   "metadata": {},
   "outputs": [
    {
     "data": {
      "text/plain": [
       "10      160\n",
       "11      125\n",
       "12      145\n",
       "13      150\n",
       "14       30\n",
       "       ... \n",
       "4001    150\n",
       "4002    150\n",
       "4003     20\n",
       "4004    145\n",
       "4005     30\n",
       "Name: engine size, Length: 1208, dtype: object"
      ]
     },
     "execution_count": 33,
     "metadata": {},
     "output_type": "execute_result"
    }
   ],
   "source": [
    "d1['engine size']"
   ]
  },
  {
   "cell_type": "code",
   "execution_count": 34,
   "id": "22b70424",
   "metadata": {},
   "outputs": [],
   "source": [
    "d1['engine size'] = d1['engine size'].astype(int)"
   ]
  },
  {
   "cell_type": "code",
   "execution_count": 35,
   "id": "d3f47c55",
   "metadata": {},
   "outputs": [
    {
     "data": {
      "text/plain": [
       "<bound method DataFrame.info of          model  year  price transmission  mileage  fuel type  engine size  \\\n",
       "10     C Class  2013   9995    Automatic    44900         29          160   \n",
       "11     C Class  2012   6995    Automatic    88200         34          125   \n",
       "12     C Class  2012   7495    Automatic   115000         37          145   \n",
       "13     C Class  2011   8995    Automatic    69250         29          150   \n",
       "14     C Class  2015  14995    Automatic    49850         31           30   \n",
       "...        ...   ...    ...          ...      ...        ...          ...   \n",
       "4001   C Class  2017  14700       Manual    31357         25          150   \n",
       "4002   C Class  2018  18500    Automatic    28248         31          150   \n",
       "4003   C Class  2014  11900       Manual    48055         31           20   \n",
       "4004   C Class  2014  11300    Automatic    49865         46          145   \n",
       "4005   C Class  2014  14800    Automatic    55445         37           30   \n",
       "\n",
       "      mileage2 fuel type2 engine size2     reference  \n",
       "10        46.3     Petrol          1.6  /ad/25128085  \n",
       "11        58.9     Diesel          2.1  /ad/23763610  \n",
       "12        54.3     Diesel          2.1  /ad/24626603  \n",
       "13        53.3     Diesel          2.1  /ad/25462537  \n",
       "14        62.8     Diesel          2.1  /ad/25479169  \n",
       "...        ...        ...          ...           ...  \n",
       "4001      70.6     Diesel        1.598  /ad/25451436  \n",
       "4002      64.2     Diesel        2.143  /ad/25451481  \n",
       "4003      65.7     Diesel        2.143  /ad/25057204  \n",
       "4004      56.5     Diesel        2.143  /ad/25144481  \n",
       "4005      64.2     Diesel        2.143  /ad/25154247  \n",
       "\n",
       "[1208 rows x 11 columns]>"
      ]
     },
     "execution_count": 35,
     "metadata": {},
     "output_type": "execute_result"
    }
   ],
   "source": [
    "d1.info"
   ]
  },
  {
   "cell_type": "code",
   "execution_count": 37,
   "id": "358bca1d",
   "metadata": {},
   "outputs": [
    {
     "data": {
      "text/html": [
       "<div>\n",
       "<style scoped>\n",
       "    .dataframe tbody tr th:only-of-type {\n",
       "        vertical-align: middle;\n",
       "    }\n",
       "\n",
       "    .dataframe tbody tr th {\n",
       "        vertical-align: top;\n",
       "    }\n",
       "\n",
       "    .dataframe thead th {\n",
       "        text-align: right;\n",
       "    }\n",
       "</style>\n",
       "<table border=\"1\" class=\"dataframe\">\n",
       "  <thead>\n",
       "    <tr style=\"text-align: right;\">\n",
       "      <th></th>\n",
       "      <th>model</th>\n",
       "      <th>year</th>\n",
       "      <th>price</th>\n",
       "      <th>transmission</th>\n",
       "      <th>mileage</th>\n",
       "      <th>fuel type</th>\n",
       "      <th>engine size</th>\n",
       "      <th>mileage2</th>\n",
       "      <th>fuel type2</th>\n",
       "      <th>engine size2</th>\n",
       "      <th>reference</th>\n",
       "    </tr>\n",
       "  </thead>\n",
       "  <tbody>\n",
       "    <tr>\n",
       "      <th>10</th>\n",
       "      <td>C Class</td>\n",
       "      <td>2013</td>\n",
       "      <td>9995</td>\n",
       "      <td>Automatic</td>\n",
       "      <td>44900</td>\n",
       "      <td>29</td>\n",
       "      <td>160</td>\n",
       "      <td>46.3</td>\n",
       "      <td>Petrol</td>\n",
       "      <td>1.6</td>\n",
       "      <td>/ad/25128085</td>\n",
       "    </tr>\n",
       "    <tr>\n",
       "      <th>11</th>\n",
       "      <td>C Class</td>\n",
       "      <td>2012</td>\n",
       "      <td>6995</td>\n",
       "      <td>Automatic</td>\n",
       "      <td>88200</td>\n",
       "      <td>34</td>\n",
       "      <td>125</td>\n",
       "      <td>58.9</td>\n",
       "      <td>Diesel</td>\n",
       "      <td>2.1</td>\n",
       "      <td>/ad/23763610</td>\n",
       "    </tr>\n",
       "    <tr>\n",
       "      <th>12</th>\n",
       "      <td>C Class</td>\n",
       "      <td>2012</td>\n",
       "      <td>7495</td>\n",
       "      <td>Automatic</td>\n",
       "      <td>115000</td>\n",
       "      <td>37</td>\n",
       "      <td>145</td>\n",
       "      <td>54.3</td>\n",
       "      <td>Diesel</td>\n",
       "      <td>2.1</td>\n",
       "      <td>/ad/24626603</td>\n",
       "    </tr>\n",
       "    <tr>\n",
       "      <th>13</th>\n",
       "      <td>C Class</td>\n",
       "      <td>2011</td>\n",
       "      <td>8995</td>\n",
       "      <td>Automatic</td>\n",
       "      <td>69250</td>\n",
       "      <td>29</td>\n",
       "      <td>150</td>\n",
       "      <td>53.3</td>\n",
       "      <td>Diesel</td>\n",
       "      <td>2.1</td>\n",
       "      <td>/ad/25462537</td>\n",
       "    </tr>\n",
       "    <tr>\n",
       "      <th>14</th>\n",
       "      <td>C Class</td>\n",
       "      <td>2015</td>\n",
       "      <td>14995</td>\n",
       "      <td>Automatic</td>\n",
       "      <td>49850</td>\n",
       "      <td>31</td>\n",
       "      <td>30</td>\n",
       "      <td>62.8</td>\n",
       "      <td>Diesel</td>\n",
       "      <td>2.1</td>\n",
       "      <td>/ad/25479169</td>\n",
       "    </tr>\n",
       "  </tbody>\n",
       "</table>\n",
       "</div>"
      ],
      "text/plain": [
       "       model  year  price transmission  mileage  fuel type  engine size  \\\n",
       "10   C Class  2013   9995    Automatic    44900         29          160   \n",
       "11   C Class  2012   6995    Automatic    88200         34          125   \n",
       "12   C Class  2012   7495    Automatic   115000         37          145   \n",
       "13   C Class  2011   8995    Automatic    69250         29          150   \n",
       "14   C Class  2015  14995    Automatic    49850         31           30   \n",
       "\n",
       "    mileage2 fuel type2 engine size2     reference  \n",
       "10      46.3     Petrol          1.6  /ad/25128085  \n",
       "11      58.9     Diesel          2.1  /ad/23763610  \n",
       "12      54.3     Diesel          2.1  /ad/24626603  \n",
       "13      53.3     Diesel          2.1  /ad/25462537  \n",
       "14      62.8     Diesel          2.1  /ad/25479169  "
      ]
     },
     "execution_count": 37,
     "metadata": {},
     "output_type": "execute_result"
    }
   ],
   "source": [
    "d1.head()"
   ]
  },
  {
   "cell_type": "code",
   "execution_count": 41,
   "id": "6cc6c8a4",
   "metadata": {},
   "outputs": [],
   "source": [
    "d1 = d1.drop('reference',axis=1)"
   ]
  },
  {
   "cell_type": "code",
   "execution_count": 45,
   "id": "ac58399a",
   "metadata": {
    "scrolled": false
   },
   "outputs": [
    {
     "data": {
      "text/plain": [
       "model            object\n",
       "year              int32\n",
       "price             int32\n",
       "transmission     object\n",
       "mileage           int32\n",
       "fuel type         int32\n",
       "engine size       int32\n",
       "mileage2        float64\n",
       "fuel type2       object\n",
       "engine size2     object\n",
       "dtype: object"
      ]
     },
     "execution_count": 45,
     "metadata": {},
     "output_type": "execute_result"
    }
   ],
   "source": [
    "d1.dtypes"
   ]
  },
  {
   "cell_type": "code",
   "execution_count": 48,
   "id": "ac742d11",
   "metadata": {},
   "outputs": [
    {
     "data": {
      "text/html": [
       "<div>\n",
       "<style scoped>\n",
       "    .dataframe tbody tr th:only-of-type {\n",
       "        vertical-align: middle;\n",
       "    }\n",
       "\n",
       "    .dataframe tbody tr th {\n",
       "        vertical-align: top;\n",
       "    }\n",
       "\n",
       "    .dataframe thead th {\n",
       "        text-align: right;\n",
       "    }\n",
       "</style>\n",
       "<table border=\"1\" class=\"dataframe\">\n",
       "  <thead>\n",
       "    <tr style=\"text-align: right;\">\n",
       "      <th></th>\n",
       "      <th>model</th>\n",
       "      <th>year</th>\n",
       "      <th>price</th>\n",
       "      <th>transmission</th>\n",
       "      <th>mileage</th>\n",
       "      <th>fuel type</th>\n",
       "      <th>engine size</th>\n",
       "      <th>mileage2</th>\n",
       "      <th>fuel type2</th>\n",
       "      <th>engine size2</th>\n",
       "    </tr>\n",
       "  </thead>\n",
       "  <tbody>\n",
       "    <tr>\n",
       "      <th>3527</th>\n",
       "      <td>C Class</td>\n",
       "      <td>2017</td>\n",
       "      <td>19995</td>\n",
       "      <td>Automatic</td>\n",
       "      <td>8020</td>\n",
       "      <td>32</td>\n",
       "      <td>145</td>\n",
       "      <td>49.6</td>\n",
       "      <td>Petrol</td>\n",
       "      <td>Unknown</td>\n",
       "    </tr>\n",
       "  </tbody>\n",
       "</table>\n",
       "</div>"
      ],
      "text/plain": [
       "         model  year  price transmission  mileage  fuel type  engine size  \\\n",
       "3527   C Class  2017  19995    Automatic     8020         32          145   \n",
       "\n",
       "      mileage2 fuel type2 engine size2  \n",
       "3527      49.6     Petrol      Unknown  "
      ]
     },
     "execution_count": 48,
     "metadata": {},
     "output_type": "execute_result"
    }
   ],
   "source": [
    "d1[d1['engine size2']=='Unknown']\n",
    "#d1['engine size2'] = d1['engine size2'].astype(float)"
   ]
  },
  {
   "cell_type": "code",
   "execution_count": 49,
   "id": "8b45aa20",
   "metadata": {},
   "outputs": [],
   "source": [
    "d1.drop(3527,axis=0,inplace=True)"
   ]
  },
  {
   "cell_type": "code",
   "execution_count": 50,
   "id": "11afaf94",
   "metadata": {},
   "outputs": [
    {
     "data": {
      "text/plain": [
       "(1207, 10)"
      ]
     },
     "execution_count": 50,
     "metadata": {},
     "output_type": "execute_result"
    }
   ],
   "source": [
    "d1.shape"
   ]
  },
  {
   "cell_type": "code",
   "execution_count": 51,
   "id": "5844553b",
   "metadata": {},
   "outputs": [],
   "source": [
    "d1['engine size2'] = d1['engine size2'].astype(float)"
   ]
  },
  {
   "cell_type": "code",
   "execution_count": 52,
   "id": "e8652cad",
   "metadata": {},
   "outputs": [
    {
     "data": {
      "text/html": [
       "<div>\n",
       "<style scoped>\n",
       "    .dataframe tbody tr th:only-of-type {\n",
       "        vertical-align: middle;\n",
       "    }\n",
       "\n",
       "    .dataframe tbody tr th {\n",
       "        vertical-align: top;\n",
       "    }\n",
       "\n",
       "    .dataframe thead th {\n",
       "        text-align: right;\n",
       "    }\n",
       "</style>\n",
       "<table border=\"1\" class=\"dataframe\">\n",
       "  <thead>\n",
       "    <tr style=\"text-align: right;\">\n",
       "      <th></th>\n",
       "      <th>model</th>\n",
       "      <th>year</th>\n",
       "      <th>price</th>\n",
       "      <th>transmission</th>\n",
       "      <th>mileage</th>\n",
       "      <th>fuel type</th>\n",
       "      <th>engine size</th>\n",
       "      <th>mileage2</th>\n",
       "      <th>fuel type2</th>\n",
       "      <th>engine size2</th>\n",
       "    </tr>\n",
       "  </thead>\n",
       "  <tbody>\n",
       "    <tr>\n",
       "      <th>10</th>\n",
       "      <td>C Class</td>\n",
       "      <td>2013</td>\n",
       "      <td>9995</td>\n",
       "      <td>Automatic</td>\n",
       "      <td>44900</td>\n",
       "      <td>29</td>\n",
       "      <td>160</td>\n",
       "      <td>46.3</td>\n",
       "      <td>Petrol</td>\n",
       "      <td>1.6</td>\n",
       "    </tr>\n",
       "    <tr>\n",
       "      <th>11</th>\n",
       "      <td>C Class</td>\n",
       "      <td>2012</td>\n",
       "      <td>6995</td>\n",
       "      <td>Automatic</td>\n",
       "      <td>88200</td>\n",
       "      <td>34</td>\n",
       "      <td>125</td>\n",
       "      <td>58.9</td>\n",
       "      <td>Diesel</td>\n",
       "      <td>2.1</td>\n",
       "    </tr>\n",
       "    <tr>\n",
       "      <th>12</th>\n",
       "      <td>C Class</td>\n",
       "      <td>2012</td>\n",
       "      <td>7495</td>\n",
       "      <td>Automatic</td>\n",
       "      <td>115000</td>\n",
       "      <td>37</td>\n",
       "      <td>145</td>\n",
       "      <td>54.3</td>\n",
       "      <td>Diesel</td>\n",
       "      <td>2.1</td>\n",
       "    </tr>\n",
       "    <tr>\n",
       "      <th>13</th>\n",
       "      <td>C Class</td>\n",
       "      <td>2011</td>\n",
       "      <td>8995</td>\n",
       "      <td>Automatic</td>\n",
       "      <td>69250</td>\n",
       "      <td>29</td>\n",
       "      <td>150</td>\n",
       "      <td>53.3</td>\n",
       "      <td>Diesel</td>\n",
       "      <td>2.1</td>\n",
       "    </tr>\n",
       "    <tr>\n",
       "      <th>14</th>\n",
       "      <td>C Class</td>\n",
       "      <td>2015</td>\n",
       "      <td>14995</td>\n",
       "      <td>Automatic</td>\n",
       "      <td>49850</td>\n",
       "      <td>31</td>\n",
       "      <td>30</td>\n",
       "      <td>62.8</td>\n",
       "      <td>Diesel</td>\n",
       "      <td>2.1</td>\n",
       "    </tr>\n",
       "  </tbody>\n",
       "</table>\n",
       "</div>"
      ],
      "text/plain": [
       "       model  year  price transmission  mileage  fuel type  engine size  \\\n",
       "10   C Class  2013   9995    Automatic    44900         29          160   \n",
       "11   C Class  2012   6995    Automatic    88200         34          125   \n",
       "12   C Class  2012   7495    Automatic   115000         37          145   \n",
       "13   C Class  2011   8995    Automatic    69250         29          150   \n",
       "14   C Class  2015  14995    Automatic    49850         31           30   \n",
       "\n",
       "    mileage2 fuel type2  engine size2  \n",
       "10      46.3     Petrol           1.6  \n",
       "11      58.9     Diesel           2.1  \n",
       "12      54.3     Diesel           2.1  \n",
       "13      53.3     Diesel           2.1  \n",
       "14      62.8     Diesel           2.1  "
      ]
     },
     "execution_count": 52,
     "metadata": {},
     "output_type": "execute_result"
    }
   ],
   "source": [
    "d1.head()"
   ]
  },
  {
   "cell_type": "code",
   "execution_count": 53,
   "id": "75a78b4c",
   "metadata": {},
   "outputs": [
    {
     "data": {
      "text/plain": [
       "array(['Automatic', 'Semi-Auto', 'Manual'], dtype=object)"
      ]
     },
     "execution_count": 53,
     "metadata": {},
     "output_type": "execute_result"
    }
   ],
   "source": [
    "d1['transmission'].unique()"
   ]
  },
  {
   "cell_type": "code",
   "execution_count": 54,
   "id": "d50e87e0",
   "metadata": {},
   "outputs": [
    {
     "data": {
      "text/plain": [
       "array(['Petrol', 'Diesel', 'Hybrid', 'Other'], dtype=object)"
      ]
     },
     "execution_count": 54,
     "metadata": {},
     "output_type": "execute_result"
    }
   ],
   "source": [
    "d1['fuel type2'].unique()"
   ]
  },
  {
   "cell_type": "code",
   "execution_count": 55,
   "id": "d037f98b",
   "metadata": {},
   "outputs": [
    {
     "data": {
      "text/plain": [
       "array([29, 34, 37, 31, 32, 38, 33, 28, 25, 36, 26, 30, 44, 35, 43, 27, 39,\n",
       "       40, 24, 46, 45, 48, 47])"
      ]
     },
     "execution_count": 55,
     "metadata": {},
     "output_type": "execute_result"
    }
   ],
   "source": [
    "d1['fuel type'].unique()"
   ]
  },
  {
   "cell_type": "code",
   "execution_count": 56,
   "id": "131adc45",
   "metadata": {},
   "outputs": [
    {
     "data": {
      "text/html": [
       "<div>\n",
       "<style scoped>\n",
       "    .dataframe tbody tr th:only-of-type {\n",
       "        vertical-align: middle;\n",
       "    }\n",
       "\n",
       "    .dataframe tbody tr th {\n",
       "        vertical-align: top;\n",
       "    }\n",
       "\n",
       "    .dataframe thead th {\n",
       "        text-align: right;\n",
       "    }\n",
       "</style>\n",
       "<table border=\"1\" class=\"dataframe\">\n",
       "  <thead>\n",
       "    <tr style=\"text-align: right;\">\n",
       "      <th></th>\n",
       "      <th>index</th>\n",
       "      <th>model</th>\n",
       "      <th>year</th>\n",
       "      <th>price</th>\n",
       "      <th>transmission</th>\n",
       "      <th>mileage</th>\n",
       "      <th>fuel type</th>\n",
       "      <th>engine size</th>\n",
       "      <th>mileage2</th>\n",
       "      <th>fuel type2</th>\n",
       "      <th>engine size2</th>\n",
       "    </tr>\n",
       "  </thead>\n",
       "  <tbody>\n",
       "    <tr>\n",
       "      <th>0</th>\n",
       "      <td>10</td>\n",
       "      <td>C Class</td>\n",
       "      <td>2013</td>\n",
       "      <td>9995</td>\n",
       "      <td>Automatic</td>\n",
       "      <td>44900</td>\n",
       "      <td>29</td>\n",
       "      <td>160</td>\n",
       "      <td>46.3</td>\n",
       "      <td>Petrol</td>\n",
       "      <td>1.600</td>\n",
       "    </tr>\n",
       "    <tr>\n",
       "      <th>1</th>\n",
       "      <td>11</td>\n",
       "      <td>C Class</td>\n",
       "      <td>2012</td>\n",
       "      <td>6995</td>\n",
       "      <td>Automatic</td>\n",
       "      <td>88200</td>\n",
       "      <td>34</td>\n",
       "      <td>125</td>\n",
       "      <td>58.9</td>\n",
       "      <td>Diesel</td>\n",
       "      <td>2.100</td>\n",
       "    </tr>\n",
       "    <tr>\n",
       "      <th>2</th>\n",
       "      <td>12</td>\n",
       "      <td>C Class</td>\n",
       "      <td>2012</td>\n",
       "      <td>7495</td>\n",
       "      <td>Automatic</td>\n",
       "      <td>115000</td>\n",
       "      <td>37</td>\n",
       "      <td>145</td>\n",
       "      <td>54.3</td>\n",
       "      <td>Diesel</td>\n",
       "      <td>2.100</td>\n",
       "    </tr>\n",
       "    <tr>\n",
       "      <th>3</th>\n",
       "      <td>13</td>\n",
       "      <td>C Class</td>\n",
       "      <td>2011</td>\n",
       "      <td>8995</td>\n",
       "      <td>Automatic</td>\n",
       "      <td>69250</td>\n",
       "      <td>29</td>\n",
       "      <td>150</td>\n",
       "      <td>53.3</td>\n",
       "      <td>Diesel</td>\n",
       "      <td>2.100</td>\n",
       "    </tr>\n",
       "    <tr>\n",
       "      <th>4</th>\n",
       "      <td>14</td>\n",
       "      <td>C Class</td>\n",
       "      <td>2015</td>\n",
       "      <td>14995</td>\n",
       "      <td>Automatic</td>\n",
       "      <td>49850</td>\n",
       "      <td>31</td>\n",
       "      <td>30</td>\n",
       "      <td>62.8</td>\n",
       "      <td>Diesel</td>\n",
       "      <td>2.100</td>\n",
       "    </tr>\n",
       "    <tr>\n",
       "      <th>...</th>\n",
       "      <td>...</td>\n",
       "      <td>...</td>\n",
       "      <td>...</td>\n",
       "      <td>...</td>\n",
       "      <td>...</td>\n",
       "      <td>...</td>\n",
       "      <td>...</td>\n",
       "      <td>...</td>\n",
       "      <td>...</td>\n",
       "      <td>...</td>\n",
       "      <td>...</td>\n",
       "    </tr>\n",
       "    <tr>\n",
       "      <th>1202</th>\n",
       "      <td>4001</td>\n",
       "      <td>C Class</td>\n",
       "      <td>2017</td>\n",
       "      <td>14700</td>\n",
       "      <td>Manual</td>\n",
       "      <td>31357</td>\n",
       "      <td>25</td>\n",
       "      <td>150</td>\n",
       "      <td>70.6</td>\n",
       "      <td>Diesel</td>\n",
       "      <td>1.598</td>\n",
       "    </tr>\n",
       "    <tr>\n",
       "      <th>1203</th>\n",
       "      <td>4002</td>\n",
       "      <td>C Class</td>\n",
       "      <td>2018</td>\n",
       "      <td>18500</td>\n",
       "      <td>Automatic</td>\n",
       "      <td>28248</td>\n",
       "      <td>31</td>\n",
       "      <td>150</td>\n",
       "      <td>64.2</td>\n",
       "      <td>Diesel</td>\n",
       "      <td>2.143</td>\n",
       "    </tr>\n",
       "    <tr>\n",
       "      <th>1204</th>\n",
       "      <td>4003</td>\n",
       "      <td>C Class</td>\n",
       "      <td>2014</td>\n",
       "      <td>11900</td>\n",
       "      <td>Manual</td>\n",
       "      <td>48055</td>\n",
       "      <td>31</td>\n",
       "      <td>20</td>\n",
       "      <td>65.7</td>\n",
       "      <td>Diesel</td>\n",
       "      <td>2.143</td>\n",
       "    </tr>\n",
       "    <tr>\n",
       "      <th>1205</th>\n",
       "      <td>4004</td>\n",
       "      <td>C Class</td>\n",
       "      <td>2014</td>\n",
       "      <td>11300</td>\n",
       "      <td>Automatic</td>\n",
       "      <td>49865</td>\n",
       "      <td>46</td>\n",
       "      <td>145</td>\n",
       "      <td>56.5</td>\n",
       "      <td>Diesel</td>\n",
       "      <td>2.143</td>\n",
       "    </tr>\n",
       "    <tr>\n",
       "      <th>1206</th>\n",
       "      <td>4005</td>\n",
       "      <td>C Class</td>\n",
       "      <td>2014</td>\n",
       "      <td>14800</td>\n",
       "      <td>Automatic</td>\n",
       "      <td>55445</td>\n",
       "      <td>37</td>\n",
       "      <td>30</td>\n",
       "      <td>64.2</td>\n",
       "      <td>Diesel</td>\n",
       "      <td>2.143</td>\n",
       "    </tr>\n",
       "  </tbody>\n",
       "</table>\n",
       "<p>1207 rows × 11 columns</p>\n",
       "</div>"
      ],
      "text/plain": [
       "      index     model  year  price transmission  mileage  fuel type  \\\n",
       "0        10   C Class  2013   9995    Automatic    44900         29   \n",
       "1        11   C Class  2012   6995    Automatic    88200         34   \n",
       "2        12   C Class  2012   7495    Automatic   115000         37   \n",
       "3        13   C Class  2011   8995    Automatic    69250         29   \n",
       "4        14   C Class  2015  14995    Automatic    49850         31   \n",
       "...     ...       ...   ...    ...          ...      ...        ...   \n",
       "1202   4001   C Class  2017  14700       Manual    31357         25   \n",
       "1203   4002   C Class  2018  18500    Automatic    28248         31   \n",
       "1204   4003   C Class  2014  11900       Manual    48055         31   \n",
       "1205   4004   C Class  2014  11300    Automatic    49865         46   \n",
       "1206   4005   C Class  2014  14800    Automatic    55445         37   \n",
       "\n",
       "      engine size  mileage2 fuel type2  engine size2  \n",
       "0             160      46.3     Petrol         1.600  \n",
       "1             125      58.9     Diesel         2.100  \n",
       "2             145      54.3     Diesel         2.100  \n",
       "3             150      53.3     Diesel         2.100  \n",
       "4              30      62.8     Diesel         2.100  \n",
       "...           ...       ...        ...           ...  \n",
       "1202          150      70.6     Diesel         1.598  \n",
       "1203          150      64.2     Diesel         2.143  \n",
       "1204           20      65.7     Diesel         2.143  \n",
       "1205          145      56.5     Diesel         2.143  \n",
       "1206           30      64.2     Diesel         2.143  \n",
       "\n",
       "[1207 rows x 11 columns]"
      ]
     },
     "execution_count": 56,
     "metadata": {},
     "output_type": "execute_result"
    }
   ],
   "source": [
    "d1.reset_index()"
   ]
  },
  {
   "cell_type": "code",
   "execution_count": 57,
   "id": "9294bbe1",
   "metadata": {},
   "outputs": [
    {
     "data": {
      "text/html": [
       "<div>\n",
       "<style scoped>\n",
       "    .dataframe tbody tr th:only-of-type {\n",
       "        vertical-align: middle;\n",
       "    }\n",
       "\n",
       "    .dataframe tbody tr th {\n",
       "        vertical-align: top;\n",
       "    }\n",
       "\n",
       "    .dataframe thead th {\n",
       "        text-align: right;\n",
       "    }\n",
       "</style>\n",
       "<table border=\"1\" class=\"dataframe\">\n",
       "  <thead>\n",
       "    <tr style=\"text-align: right;\">\n",
       "      <th></th>\n",
       "      <th>model</th>\n",
       "      <th>year</th>\n",
       "      <th>price</th>\n",
       "      <th>transmission</th>\n",
       "      <th>mileage</th>\n",
       "      <th>fuel type</th>\n",
       "      <th>engine size</th>\n",
       "      <th>mileage2</th>\n",
       "      <th>fuel type2</th>\n",
       "      <th>engine size2</th>\n",
       "    </tr>\n",
       "  </thead>\n",
       "  <tbody>\n",
       "    <tr>\n",
       "      <th>0</th>\n",
       "      <td>C Class</td>\n",
       "      <td>2013</td>\n",
       "      <td>9995</td>\n",
       "      <td>Automatic</td>\n",
       "      <td>44900</td>\n",
       "      <td>29</td>\n",
       "      <td>160</td>\n",
       "      <td>46.3</td>\n",
       "      <td>Petrol</td>\n",
       "      <td>1.600</td>\n",
       "    </tr>\n",
       "    <tr>\n",
       "      <th>1</th>\n",
       "      <td>C Class</td>\n",
       "      <td>2012</td>\n",
       "      <td>6995</td>\n",
       "      <td>Automatic</td>\n",
       "      <td>88200</td>\n",
       "      <td>34</td>\n",
       "      <td>125</td>\n",
       "      <td>58.9</td>\n",
       "      <td>Diesel</td>\n",
       "      <td>2.100</td>\n",
       "    </tr>\n",
       "    <tr>\n",
       "      <th>2</th>\n",
       "      <td>C Class</td>\n",
       "      <td>2012</td>\n",
       "      <td>7495</td>\n",
       "      <td>Automatic</td>\n",
       "      <td>115000</td>\n",
       "      <td>37</td>\n",
       "      <td>145</td>\n",
       "      <td>54.3</td>\n",
       "      <td>Diesel</td>\n",
       "      <td>2.100</td>\n",
       "    </tr>\n",
       "    <tr>\n",
       "      <th>3</th>\n",
       "      <td>C Class</td>\n",
       "      <td>2011</td>\n",
       "      <td>8995</td>\n",
       "      <td>Automatic</td>\n",
       "      <td>69250</td>\n",
       "      <td>29</td>\n",
       "      <td>150</td>\n",
       "      <td>53.3</td>\n",
       "      <td>Diesel</td>\n",
       "      <td>2.100</td>\n",
       "    </tr>\n",
       "    <tr>\n",
       "      <th>4</th>\n",
       "      <td>C Class</td>\n",
       "      <td>2015</td>\n",
       "      <td>14995</td>\n",
       "      <td>Automatic</td>\n",
       "      <td>49850</td>\n",
       "      <td>31</td>\n",
       "      <td>30</td>\n",
       "      <td>62.8</td>\n",
       "      <td>Diesel</td>\n",
       "      <td>2.100</td>\n",
       "    </tr>\n",
       "    <tr>\n",
       "      <th>...</th>\n",
       "      <td>...</td>\n",
       "      <td>...</td>\n",
       "      <td>...</td>\n",
       "      <td>...</td>\n",
       "      <td>...</td>\n",
       "      <td>...</td>\n",
       "      <td>...</td>\n",
       "      <td>...</td>\n",
       "      <td>...</td>\n",
       "      <td>...</td>\n",
       "    </tr>\n",
       "    <tr>\n",
       "      <th>1202</th>\n",
       "      <td>C Class</td>\n",
       "      <td>2017</td>\n",
       "      <td>14700</td>\n",
       "      <td>Manual</td>\n",
       "      <td>31357</td>\n",
       "      <td>25</td>\n",
       "      <td>150</td>\n",
       "      <td>70.6</td>\n",
       "      <td>Diesel</td>\n",
       "      <td>1.598</td>\n",
       "    </tr>\n",
       "    <tr>\n",
       "      <th>1203</th>\n",
       "      <td>C Class</td>\n",
       "      <td>2018</td>\n",
       "      <td>18500</td>\n",
       "      <td>Automatic</td>\n",
       "      <td>28248</td>\n",
       "      <td>31</td>\n",
       "      <td>150</td>\n",
       "      <td>64.2</td>\n",
       "      <td>Diesel</td>\n",
       "      <td>2.143</td>\n",
       "    </tr>\n",
       "    <tr>\n",
       "      <th>1204</th>\n",
       "      <td>C Class</td>\n",
       "      <td>2014</td>\n",
       "      <td>11900</td>\n",
       "      <td>Manual</td>\n",
       "      <td>48055</td>\n",
       "      <td>31</td>\n",
       "      <td>20</td>\n",
       "      <td>65.7</td>\n",
       "      <td>Diesel</td>\n",
       "      <td>2.143</td>\n",
       "    </tr>\n",
       "    <tr>\n",
       "      <th>1205</th>\n",
       "      <td>C Class</td>\n",
       "      <td>2014</td>\n",
       "      <td>11300</td>\n",
       "      <td>Automatic</td>\n",
       "      <td>49865</td>\n",
       "      <td>46</td>\n",
       "      <td>145</td>\n",
       "      <td>56.5</td>\n",
       "      <td>Diesel</td>\n",
       "      <td>2.143</td>\n",
       "    </tr>\n",
       "    <tr>\n",
       "      <th>1206</th>\n",
       "      <td>C Class</td>\n",
       "      <td>2014</td>\n",
       "      <td>14800</td>\n",
       "      <td>Automatic</td>\n",
       "      <td>55445</td>\n",
       "      <td>37</td>\n",
       "      <td>30</td>\n",
       "      <td>64.2</td>\n",
       "      <td>Diesel</td>\n",
       "      <td>2.143</td>\n",
       "    </tr>\n",
       "  </tbody>\n",
       "</table>\n",
       "<p>1207 rows × 10 columns</p>\n",
       "</div>"
      ],
      "text/plain": [
       "         model  year  price transmission  mileage  fuel type  engine size  \\\n",
       "0      C Class  2013   9995    Automatic    44900         29          160   \n",
       "1      C Class  2012   6995    Automatic    88200         34          125   \n",
       "2      C Class  2012   7495    Automatic   115000         37          145   \n",
       "3      C Class  2011   8995    Automatic    69250         29          150   \n",
       "4      C Class  2015  14995    Automatic    49850         31           30   \n",
       "...        ...   ...    ...          ...      ...        ...          ...   \n",
       "1202   C Class  2017  14700       Manual    31357         25          150   \n",
       "1203   C Class  2018  18500    Automatic    28248         31          150   \n",
       "1204   C Class  2014  11900       Manual    48055         31           20   \n",
       "1205   C Class  2014  11300    Automatic    49865         46          145   \n",
       "1206   C Class  2014  14800    Automatic    55445         37           30   \n",
       "\n",
       "      mileage2 fuel type2  engine size2  \n",
       "0         46.3     Petrol         1.600  \n",
       "1         58.9     Diesel         2.100  \n",
       "2         54.3     Diesel         2.100  \n",
       "3         53.3     Diesel         2.100  \n",
       "4         62.8     Diesel         2.100  \n",
       "...        ...        ...           ...  \n",
       "1202      70.6     Diesel         1.598  \n",
       "1203      64.2     Diesel         2.143  \n",
       "1204      65.7     Diesel         2.143  \n",
       "1205      56.5     Diesel         2.143  \n",
       "1206      64.2     Diesel         2.143  \n",
       "\n",
       "[1207 rows x 10 columns]"
      ]
     },
     "execution_count": 57,
     "metadata": {},
     "output_type": "execute_result"
    }
   ],
   "source": [
    "d1.reset_index(drop=True)"
   ]
  },
  {
   "cell_type": "code",
   "execution_count": 58,
   "id": "2256dc28",
   "metadata": {},
   "outputs": [
    {
     "name": "stdout",
     "output_type": "stream",
     "text": [
      "<class 'pandas.core.frame.DataFrame'>\n",
      "Int64Index: 1207 entries, 10 to 4005\n",
      "Data columns (total 10 columns):\n",
      " #   Column        Non-Null Count  Dtype  \n",
      "---  ------        --------------  -----  \n",
      " 0   model         1207 non-null   object \n",
      " 1   year          1207 non-null   int32  \n",
      " 2   price         1207 non-null   int32  \n",
      " 3   transmission  1207 non-null   object \n",
      " 4   mileage       1207 non-null   int32  \n",
      " 5   fuel type     1207 non-null   int32  \n",
      " 6   engine size   1207 non-null   int32  \n",
      " 7   mileage2      1207 non-null   float64\n",
      " 8   fuel type2    1207 non-null   object \n",
      " 9   engine size2  1207 non-null   float64\n",
      "dtypes: float64(2), int32(5), object(3)\n",
      "memory usage: 80.2+ KB\n"
     ]
    }
   ],
   "source": [
    "d1.info()"
   ]
  },
  {
   "cell_type": "code",
   "execution_count": 71,
   "id": "23c89889",
   "metadata": {},
   "outputs": [
    {
     "name": "stderr",
     "output_type": "stream",
     "text": [
      "D:\\ML\\lib\\site-packages\\seaborn\\_decorators.py:36: FutureWarning: Pass the following variable as a keyword arg: x. From version 0.12, the only valid positional argument will be `data`, and passing other arguments without an explicit keyword will result in an error or misinterpretation.\n",
      "  warnings.warn(\n"
     ]
    },
    {
     "data": {
      "text/plain": [
       "<AxesSubplot:xlabel='price'>"
      ]
     },
     "execution_count": 71,
     "metadata": {},
     "output_type": "execute_result"
    },
    {
     "data": {
      "image/png": "[encoded data removed]",
      "text/plain": [
       "<Figure size 432x288 with 1 Axes>"
      ]
     },
     "metadata": {
      "needs_background": "light"
     },
     "output_type": "display_data"
    }
   ],
   "source": [
    "sns.boxplot(d1['price'])"
   ]
  },
  {
   "cell_type": "code",
   "execution_count": 73,
   "id": "cf990245",
   "metadata": {},
   "outputs": [
    {
     "data": {
      "text/html": [
       "<div>\n",
       "<style scoped>\n",
       "    .dataframe tbody tr th:only-of-type {\n",
       "        vertical-align: middle;\n",
       "    }\n",
       "\n",
       "    .dataframe tbody tr th {\n",
       "        vertical-align: top;\n",
       "    }\n",
       "\n",
       "    .dataframe thead th {\n",
       "        text-align: right;\n",
       "    }\n",
       "</style>\n",
       "<table border=\"1\" class=\"dataframe\">\n",
       "  <thead>\n",
       "    <tr style=\"text-align: right;\">\n",
       "      <th></th>\n",
       "      <th>model</th>\n",
       "      <th>year</th>\n",
       "      <th>price</th>\n",
       "      <th>transmission</th>\n",
       "      <th>mileage</th>\n",
       "      <th>fuel type</th>\n",
       "      <th>engine size</th>\n",
       "      <th>mileage2</th>\n",
       "      <th>fuel type2</th>\n",
       "      <th>engine size2</th>\n",
       "    </tr>\n",
       "  </thead>\n",
       "  <tbody>\n",
       "    <tr>\n",
       "      <th>2957</th>\n",
       "      <td>C Class</td>\n",
       "      <td>2015</td>\n",
       "      <td>39990</td>\n",
       "      <td>Automatic</td>\n",
       "      <td>32000</td>\n",
       "      <td>48</td>\n",
       "      <td>300</td>\n",
       "      <td>34.5</td>\n",
       "      <td>Petrol</td>\n",
       "      <td>3982.0</td>\n",
       "    </tr>\n",
       "  </tbody>\n",
       "</table>\n",
       "</div>"
      ],
      "text/plain": [
       "         model  year  price transmission  mileage  fuel type  engine size  \\\n",
       "2957   C Class  2015  39990    Automatic    32000         48          300   \n",
       "\n",
       "      mileage2 fuel type2  engine size2  \n",
       "2957      34.5     Petrol        3982.0  "
      ]
     },
     "execution_count": 73,
     "metadata": {},
     "output_type": "execute_result"
    }
   ],
   "source": [
    "d1[d1['price']>35000]"
   ]
  },
  {
   "cell_type": "code",
   "execution_count": 74,
   "id": "02643ae4",
   "metadata": {},
   "outputs": [
    {
     "data": {
      "text/html": [
       "<div>\n",
       "<style scoped>\n",
       "    .dataframe tbody tr th:only-of-type {\n",
       "        vertical-align: middle;\n",
       "    }\n",
       "\n",
       "    .dataframe tbody tr th {\n",
       "        vertical-align: top;\n",
       "    }\n",
       "\n",
       "    .dataframe thead th {\n",
       "        text-align: right;\n",
       "    }\n",
       "</style>\n",
       "<table border=\"1\" class=\"dataframe\">\n",
       "  <thead>\n",
       "    <tr style=\"text-align: right;\">\n",
       "      <th></th>\n",
       "      <th>model</th>\n",
       "      <th>year</th>\n",
       "      <th>price</th>\n",
       "      <th>transmission</th>\n",
       "      <th>mileage</th>\n",
       "      <th>fuel type</th>\n",
       "      <th>engine size</th>\n",
       "      <th>mileage2</th>\n",
       "      <th>fuel type2</th>\n",
       "      <th>engine size2</th>\n",
       "    </tr>\n",
       "  </thead>\n",
       "  <tbody>\n",
       "    <tr>\n",
       "      <th>10</th>\n",
       "      <td>C Class</td>\n",
       "      <td>2013</td>\n",
       "      <td>9995</td>\n",
       "      <td>Automatic</td>\n",
       "      <td>44900</td>\n",
       "      <td>29</td>\n",
       "      <td>160</td>\n",
       "      <td>46.3</td>\n",
       "      <td>Petrol</td>\n",
       "      <td>1.600</td>\n",
       "    </tr>\n",
       "    <tr>\n",
       "      <th>11</th>\n",
       "      <td>C Class</td>\n",
       "      <td>2012</td>\n",
       "      <td>6995</td>\n",
       "      <td>Automatic</td>\n",
       "      <td>88200</td>\n",
       "      <td>34</td>\n",
       "      <td>125</td>\n",
       "      <td>58.9</td>\n",
       "      <td>Diesel</td>\n",
       "      <td>2.100</td>\n",
       "    </tr>\n",
       "    <tr>\n",
       "      <th>12</th>\n",
       "      <td>C Class</td>\n",
       "      <td>2012</td>\n",
       "      <td>7495</td>\n",
       "      <td>Automatic</td>\n",
       "      <td>115000</td>\n",
       "      <td>37</td>\n",
       "      <td>145</td>\n",
       "      <td>54.3</td>\n",
       "      <td>Diesel</td>\n",
       "      <td>2.100</td>\n",
       "    </tr>\n",
       "    <tr>\n",
       "      <th>13</th>\n",
       "      <td>C Class</td>\n",
       "      <td>2011</td>\n",
       "      <td>8995</td>\n",
       "      <td>Automatic</td>\n",
       "      <td>69250</td>\n",
       "      <td>29</td>\n",
       "      <td>150</td>\n",
       "      <td>53.3</td>\n",
       "      <td>Diesel</td>\n",
       "      <td>2.100</td>\n",
       "    </tr>\n",
       "    <tr>\n",
       "      <th>14</th>\n",
       "      <td>C Class</td>\n",
       "      <td>2015</td>\n",
       "      <td>14995</td>\n",
       "      <td>Automatic</td>\n",
       "      <td>49850</td>\n",
       "      <td>31</td>\n",
       "      <td>30</td>\n",
       "      <td>62.8</td>\n",
       "      <td>Diesel</td>\n",
       "      <td>2.100</td>\n",
       "    </tr>\n",
       "    <tr>\n",
       "      <th>...</th>\n",
       "      <td>...</td>\n",
       "      <td>...</td>\n",
       "      <td>...</td>\n",
       "      <td>...</td>\n",
       "      <td>...</td>\n",
       "      <td>...</td>\n",
       "      <td>...</td>\n",
       "      <td>...</td>\n",
       "      <td>...</td>\n",
       "      <td>...</td>\n",
       "    </tr>\n",
       "    <tr>\n",
       "      <th>4001</th>\n",
       "      <td>C Class</td>\n",
       "      <td>2017</td>\n",
       "      <td>14700</td>\n",
       "      <td>Manual</td>\n",
       "      <td>31357</td>\n",
       "      <td>25</td>\n",
       "      <td>150</td>\n",
       "      <td>70.6</td>\n",
       "      <td>Diesel</td>\n",
       "      <td>1.598</td>\n",
       "    </tr>\n",
       "    <tr>\n",
       "      <th>4002</th>\n",
       "      <td>C Class</td>\n",
       "      <td>2018</td>\n",
       "      <td>18500</td>\n",
       "      <td>Automatic</td>\n",
       "      <td>28248</td>\n",
       "      <td>31</td>\n",
       "      <td>150</td>\n",
       "      <td>64.2</td>\n",
       "      <td>Diesel</td>\n",
       "      <td>2.143</td>\n",
       "    </tr>\n",
       "    <tr>\n",
       "      <th>4003</th>\n",
       "      <td>C Class</td>\n",
       "      <td>2014</td>\n",
       "      <td>11900</td>\n",
       "      <td>Manual</td>\n",
       "      <td>48055</td>\n",
       "      <td>31</td>\n",
       "      <td>20</td>\n",
       "      <td>65.7</td>\n",
       "      <td>Diesel</td>\n",
       "      <td>2.143</td>\n",
       "    </tr>\n",
       "    <tr>\n",
       "      <th>4004</th>\n",
       "      <td>C Class</td>\n",
       "      <td>2014</td>\n",
       "      <td>11300</td>\n",
       "      <td>Automatic</td>\n",
       "      <td>49865</td>\n",
       "      <td>46</td>\n",
       "      <td>145</td>\n",
       "      <td>56.5</td>\n",
       "      <td>Diesel</td>\n",
       "      <td>2.143</td>\n",
       "    </tr>\n",
       "    <tr>\n",
       "      <th>4005</th>\n",
       "      <td>C Class</td>\n",
       "      <td>2014</td>\n",
       "      <td>14800</td>\n",
       "      <td>Automatic</td>\n",
       "      <td>55445</td>\n",
       "      <td>37</td>\n",
       "      <td>30</td>\n",
       "      <td>64.2</td>\n",
       "      <td>Diesel</td>\n",
       "      <td>2.143</td>\n",
       "    </tr>\n",
       "  </tbody>\n",
       "</table>\n",
       "<p>1206 rows × 10 columns</p>\n",
       "</div>"
      ],
      "text/plain": [
       "         model  year  price transmission  mileage  fuel type  engine size  \\\n",
       "10     C Class  2013   9995    Automatic    44900         29          160   \n",
       "11     C Class  2012   6995    Automatic    88200         34          125   \n",
       "12     C Class  2012   7495    Automatic   115000         37          145   \n",
       "13     C Class  2011   8995    Automatic    69250         29          150   \n",
       "14     C Class  2015  14995    Automatic    49850         31           30   \n",
       "...        ...   ...    ...          ...      ...        ...          ...   \n",
       "4001   C Class  2017  14700       Manual    31357         25          150   \n",
       "4002   C Class  2018  18500    Automatic    28248         31          150   \n",
       "4003   C Class  2014  11900       Manual    48055         31           20   \n",
       "4004   C Class  2014  11300    Automatic    49865         46          145   \n",
       "4005   C Class  2014  14800    Automatic    55445         37           30   \n",
       "\n",
       "      mileage2 fuel type2  engine size2  \n",
       "10        46.3     Petrol         1.600  \n",
       "11        58.9     Diesel         2.100  \n",
       "12        54.3     Diesel         2.100  \n",
       "13        53.3     Diesel         2.100  \n",
       "14        62.8     Diesel         2.100  \n",
       "...        ...        ...           ...  \n",
       "4001      70.6     Diesel         1.598  \n",
       "4002      64.2     Diesel         2.143  \n",
       "4003      65.7     Diesel         2.143  \n",
       "4004      56.5     Diesel         2.143  \n",
       "4005      64.2     Diesel         2.143  \n",
       "\n",
       "[1206 rows x 10 columns]"
      ]
     },
     "execution_count": 74,
     "metadata": {},
     "output_type": "execute_result"
    }
   ],
   "source": [
    "d1.drop(2957,axis=0)"
   ]
  },
  {
   "cell_type": "code",
   "execution_count": 79,
   "id": "f1bcd47e",
   "metadata": {},
   "outputs": [],
   "source": [
    "d1.reset_index(drop=True,inplace=True)"
   ]
  },
  {
   "cell_type": "code",
   "execution_count": 82,
   "id": "3eeedc27",
   "metadata": {},
   "outputs": [],
   "source": [
    "d1.drop('index',axis=1,inplace=True)"
   ]
  },
  {
   "cell_type": "code",
   "execution_count": 83,
   "id": "8b96a8cc",
   "metadata": {},
   "outputs": [
    {
     "data": {
      "text/html": [
       "<div>\n",
       "<style scoped>\n",
       "    .dataframe tbody tr th:only-of-type {\n",
       "        vertical-align: middle;\n",
       "    }\n",
       "\n",
       "    .dataframe tbody tr th {\n",
       "        vertical-align: top;\n",
       "    }\n",
       "\n",
       "    .dataframe thead th {\n",
       "        text-align: right;\n",
       "    }\n",
       "</style>\n",
       "<table border=\"1\" class=\"dataframe\">\n",
       "  <thead>\n",
       "    <tr style=\"text-align: right;\">\n",
       "      <th></th>\n",
       "      <th>model</th>\n",
       "      <th>year</th>\n",
       "      <th>price</th>\n",
       "      <th>transmission</th>\n",
       "      <th>mileage</th>\n",
       "      <th>fuel type</th>\n",
       "      <th>engine size</th>\n",
       "      <th>mileage2</th>\n",
       "      <th>fuel type2</th>\n",
       "      <th>engine size2</th>\n",
       "    </tr>\n",
       "  </thead>\n",
       "  <tbody>\n",
       "    <tr>\n",
       "      <th>0</th>\n",
       "      <td>C Class</td>\n",
       "      <td>2013</td>\n",
       "      <td>9995</td>\n",
       "      <td>Automatic</td>\n",
       "      <td>44900</td>\n",
       "      <td>29</td>\n",
       "      <td>160</td>\n",
       "      <td>46.3</td>\n",
       "      <td>Petrol</td>\n",
       "      <td>1.600</td>\n",
       "    </tr>\n",
       "    <tr>\n",
       "      <th>1</th>\n",
       "      <td>C Class</td>\n",
       "      <td>2012</td>\n",
       "      <td>6995</td>\n",
       "      <td>Automatic</td>\n",
       "      <td>88200</td>\n",
       "      <td>34</td>\n",
       "      <td>125</td>\n",
       "      <td>58.9</td>\n",
       "      <td>Diesel</td>\n",
       "      <td>2.100</td>\n",
       "    </tr>\n",
       "    <tr>\n",
       "      <th>2</th>\n",
       "      <td>C Class</td>\n",
       "      <td>2012</td>\n",
       "      <td>7495</td>\n",
       "      <td>Automatic</td>\n",
       "      <td>115000</td>\n",
       "      <td>37</td>\n",
       "      <td>145</td>\n",
       "      <td>54.3</td>\n",
       "      <td>Diesel</td>\n",
       "      <td>2.100</td>\n",
       "    </tr>\n",
       "    <tr>\n",
       "      <th>3</th>\n",
       "      <td>C Class</td>\n",
       "      <td>2011</td>\n",
       "      <td>8995</td>\n",
       "      <td>Automatic</td>\n",
       "      <td>69250</td>\n",
       "      <td>29</td>\n",
       "      <td>150</td>\n",
       "      <td>53.3</td>\n",
       "      <td>Diesel</td>\n",
       "      <td>2.100</td>\n",
       "    </tr>\n",
       "    <tr>\n",
       "      <th>4</th>\n",
       "      <td>C Class</td>\n",
       "      <td>2015</td>\n",
       "      <td>14995</td>\n",
       "      <td>Automatic</td>\n",
       "      <td>49850</td>\n",
       "      <td>31</td>\n",
       "      <td>30</td>\n",
       "      <td>62.8</td>\n",
       "      <td>Diesel</td>\n",
       "      <td>2.100</td>\n",
       "    </tr>\n",
       "    <tr>\n",
       "      <th>...</th>\n",
       "      <td>...</td>\n",
       "      <td>...</td>\n",
       "      <td>...</td>\n",
       "      <td>...</td>\n",
       "      <td>...</td>\n",
       "      <td>...</td>\n",
       "      <td>...</td>\n",
       "      <td>...</td>\n",
       "      <td>...</td>\n",
       "      <td>...</td>\n",
       "    </tr>\n",
       "    <tr>\n",
       "      <th>1202</th>\n",
       "      <td>C Class</td>\n",
       "      <td>2017</td>\n",
       "      <td>14700</td>\n",
       "      <td>Manual</td>\n",
       "      <td>31357</td>\n",
       "      <td>25</td>\n",
       "      <td>150</td>\n",
       "      <td>70.6</td>\n",
       "      <td>Diesel</td>\n",
       "      <td>1.598</td>\n",
       "    </tr>\n",
       "    <tr>\n",
       "      <th>1203</th>\n",
       "      <td>C Class</td>\n",
       "      <td>2018</td>\n",
       "      <td>18500</td>\n",
       "      <td>Automatic</td>\n",
       "      <td>28248</td>\n",
       "      <td>31</td>\n",
       "      <td>150</td>\n",
       "      <td>64.2</td>\n",
       "      <td>Diesel</td>\n",
       "      <td>2.143</td>\n",
       "    </tr>\n",
       "    <tr>\n",
       "      <th>1204</th>\n",
       "      <td>C Class</td>\n",
       "      <td>2014</td>\n",
       "      <td>11900</td>\n",
       "      <td>Manual</td>\n",
       "      <td>48055</td>\n",
       "      <td>31</td>\n",
       "      <td>20</td>\n",
       "      <td>65.7</td>\n",
       "      <td>Diesel</td>\n",
       "      <td>2.143</td>\n",
       "    </tr>\n",
       "    <tr>\n",
       "      <th>1205</th>\n",
       "      <td>C Class</td>\n",
       "      <td>2014</td>\n",
       "      <td>11300</td>\n",
       "      <td>Automatic</td>\n",
       "      <td>49865</td>\n",
       "      <td>46</td>\n",
       "      <td>145</td>\n",
       "      <td>56.5</td>\n",
       "      <td>Diesel</td>\n",
       "      <td>2.143</td>\n",
       "    </tr>\n",
       "    <tr>\n",
       "      <th>1206</th>\n",
       "      <td>C Class</td>\n",
       "      <td>2014</td>\n",
       "      <td>14800</td>\n",
       "      <td>Automatic</td>\n",
       "      <td>55445</td>\n",
       "      <td>37</td>\n",
       "      <td>30</td>\n",
       "      <td>64.2</td>\n",
       "      <td>Diesel</td>\n",
       "      <td>2.143</td>\n",
       "    </tr>\n",
       "  </tbody>\n",
       "</table>\n",
       "<p>1207 rows × 10 columns</p>\n",
       "</div>"
      ],
      "text/plain": [
       "         model  year  price transmission  mileage  fuel type  engine size  \\\n",
       "0      C Class  2013   9995    Automatic    44900         29          160   \n",
       "1      C Class  2012   6995    Automatic    88200         34          125   \n",
       "2      C Class  2012   7495    Automatic   115000         37          145   \n",
       "3      C Class  2011   8995    Automatic    69250         29          150   \n",
       "4      C Class  2015  14995    Automatic    49850         31           30   \n",
       "...        ...   ...    ...          ...      ...        ...          ...   \n",
       "1202   C Class  2017  14700       Manual    31357         25          150   \n",
       "1203   C Class  2018  18500    Automatic    28248         31          150   \n",
       "1204   C Class  2014  11900       Manual    48055         31           20   \n",
       "1205   C Class  2014  11300    Automatic    49865         46          145   \n",
       "1206   C Class  2014  14800    Automatic    55445         37           30   \n",
       "\n",
       "      mileage2 fuel type2  engine size2  \n",
       "0         46.3     Petrol         1.600  \n",
       "1         58.9     Diesel         2.100  \n",
       "2         54.3     Diesel         2.100  \n",
       "3         53.3     Diesel         2.100  \n",
       "4         62.8     Diesel         2.100  \n",
       "...        ...        ...           ...  \n",
       "1202      70.6     Diesel         1.598  \n",
       "1203      64.2     Diesel         2.143  \n",
       "1204      65.7     Diesel         2.143  \n",
       "1205      56.5     Diesel         2.143  \n",
       "1206      64.2     Diesel         2.143  \n",
       "\n",
       "[1207 rows x 10 columns]"
      ]
     },
     "execution_count": 83,
     "metadata": {},
     "output_type": "execute_result"
    }
   ],
   "source": [
    "d1"
   ]
  },
  {
   "cell_type": "code",
   "execution_count": 97,
   "id": "e1997d84",
   "metadata": {},
   "outputs": [],
   "source": [
    "d1.to_csv('duplicate_housing.csv')"
   ]
  },
  {
   "cell_type": "code",
   "execution_count": 84,
   "id": "9055c732",
   "metadata": {},
   "outputs": [],
   "source": [
    "from sklearn.preprocessing import OneHotEncoder\n",
    "from sklearn.compose import make_column_transformer\n",
    "from sklearn.pipeline import make_pipeline\n",
    "from sklearn.metrics import r2_score\n",
    "from sklearn.model_selection import train_test_split\n",
    "from sklearn.linear_model import LinearRegression\n"
   ]
  },
  {
   "cell_type": "code",
   "execution_count": null,
   "id": "971f583d",
   "metadata": {},
   "outputs": [],
   "source": [
    "# x = car1.drop(columns='Price')\n",
    "# y=car1['Price']"
   ]
  },
  {
   "cell_type": "code",
   "execution_count": null,
   "id": "76b7e882",
   "metadata": {},
   "outputs": [],
   "source": [
    "# x_train, x_test,y_train,y_test = train_test_split(x,y,test_size=0.2) "
   ]
  },
  {
   "cell_type": "code",
   "execution_count": 86,
   "id": "cf13971c",
   "metadata": {},
   "outputs": [],
   "source": [
    "ohe = OneHotEncoder()"
   ]
  },
  {
   "cell_type": "code",
   "execution_count": 89,
   "id": "526515c9",
   "metadata": {},
   "outputs": [
    {
     "data": {
      "text/plain": [
       "OneHotEncoder()"
      ]
     },
     "execution_count": 89,
     "metadata": {},
     "output_type": "execute_result"
    }
   ],
   "source": [
    "ohe.fit(d1[['transmission','fuel type2']])"
   ]
  },
  {
   "cell_type": "code",
   "execution_count": 90,
   "id": "ce0f13c3",
   "metadata": {},
   "outputs": [
    {
     "data": {
      "text/plain": [
       "[array(['Automatic', 'Manual', 'Semi-Auto'], dtype=object),\n",
       " array(['Diesel', 'Hybrid', 'Other', 'Petrol'], dtype=object)]"
      ]
     },
     "execution_count": 90,
     "metadata": {},
     "output_type": "execute_result"
    }
   ],
   "source": [
    "ohe.categories_"
   ]
  },
  {
   "cell_type": "code",
   "execution_count": 91,
   "id": "fa12a639",
   "metadata": {},
   "outputs": [],
   "source": [
    "column_trans=make_column_transformer((OneHotEncoder(categories=ohe.categories_),['transmission','fuel type2']),\n",
    "                                    remainder='passthrough')"
   ]
  },
  {
   "cell_type": "code",
   "execution_count": 92,
   "id": "3ab3707a",
   "metadata": {},
   "outputs": [],
   "source": [
    "lr = LinearRegression()"
   ]
  },
  {
   "cell_type": "code",
   "execution_count": 93,
   "id": "deb77339",
   "metadata": {},
   "outputs": [],
   "source": [
    "pipe=make_pipeline(column_trans,lr)"
   ]
  },
  {
   "cell_type": "code",
   "execution_count": 98,
   "id": "4bd74f22",
   "metadata": {},
   "outputs": [
    {
     "data": {
      "text/plain": [
       "[array(['Automatic', 'Manual', 'Semi-Auto'], dtype=object),\n",
       " array(['Diesel', 'Hybrid', 'Other', 'Petrol'], dtype=object)]"
      ]
     },
     "execution_count": 98,
     "metadata": {},
     "output_type": "execute_result"
    }
   ],
   "source": [
    "ohe.categories_"
   ]
  },
  {
   "cell_type": "code",
   "execution_count": null,
   "id": "bd3589e5",
   "metadata": {},
   "outputs": [],
   "source": []
  },
  {
   "cell_type": "code",
   "execution_count": null,
   "id": "8439c2f0",
   "metadata": {},
   "outputs": [],
   "source": []
  }
 ],
 "metadata": {
  "kernelspec": {
   "display_name": "Python 3 (ipykernel)",
   "language": "python",
   "name": "python3"
  },
  "language_info": {
   "codemirror_mode": {
    "name": "ipython",
    "version": 3
   },
   "file_extension": ".py",
   "mimetype": "text/x-python",
   "name": "python",
   "nbconvert_exporter": "python",
   "pygments_lexer": "ipython3",
   "version": "3.9.12"
  }
 },
 "nbformat": 4,
 "nbformat_minor": 5
}
